{
 "cells": [
  {
   "cell_type": "code",
   "execution_count": 1,
   "id": "cc7d9862",
   "metadata": {},
   "outputs": [],
   "source": [
    "import sys\n",
    "\n",
    "sys.path.append('..')"
   ]
  },
  {
   "cell_type": "code",
   "execution_count": 2,
   "id": "37a65c7e",
   "metadata": {},
   "outputs": [],
   "source": [
    "from dataclasses import dataclass, field\n",
    "from pathlib import Path\n",
    "from pprint import pp\n",
    "\n",
    "from herbarium.pylib import db\n",
    "from herbarium.pylib.herbarium_model import BACKBONES\n",
    "from herbarium.pylib.herbarium_model import HerbariumModel\n",
    "from herbarium.pylib.herbarium_runner import HerbariumTestRunner"
   ]
  },
  {
   "cell_type": "code",
   "execution_count": 3,
   "id": "6a835816",
   "metadata": {},
   "outputs": [],
   "source": [
    "DATA = Path('..') / 'data'\n",
    "MODELS = DATA / 'models'\n",
    "\n",
    "DB = DATA / 'angiosperms.sqlite'"
   ]
  },
  {
   "cell_type": "code",
   "execution_count": 4,
   "id": "48dae2b7",
   "metadata": {},
   "outputs": [],
   "source": [
    "TRAITS = \"\"\" flowering fruiting \"\"\".split()"
   ]
  },
  {
   "cell_type": "code",
   "execution_count": 5,
   "id": "a497d329",
   "metadata": {},
   "outputs": [],
   "source": [
    "db.create_tests_table(DB)"
   ]
  },
  {
   "cell_type": "code",
   "execution_count": 6,
   "id": "f1ecced6",
   "metadata": {},
   "outputs": [],
   "source": [
    "@dataclass\n",
    "class Args:\n",
    "    database: Path = DATA / 'angiosperms.sqlite'\n",
    "    backbone: str = ''\n",
    "    load_model: Path = MODELS\n",
    "    test_set: str = ''\n",
    "    split_set: str = ''\n",
    "    target_set='first_run'\n",
    "    trait: list[str] = ''\n",
    "    batch_size: int = 32\n",
    "    workers: int = 8\n",
    "    limit: int = 0"
   ]
  },
  {
   "cell_type": "code",
   "execution_count": 7,
   "id": "fdf45ffe",
   "metadata": {
    "scrolled": false
   },
   "outputs": [
    {
     "name": "stdout",
     "output_type": "stream",
     "text": [
      "b0_flowers_all_orders_1\n"
     ]
    },
    {
     "name": "stderr",
     "output_type": "stream",
     "text": [
      "2022-01-25 15:02:59 INFO: ================================================================================\n",
      "2022-01-25 15:02:59 INFO: ipykernel_launcher started\n",
      "2022-01-25 15:05:08 INFO: Test: loss 0.043356 acc 0.943936\n",
      "2022-01-25 15:05:08 INFO: ipykernel_launcher finished\n"
     ]
    },
    {
     "name": "stdout",
     "output_type": "stream",
     "text": [
      "\n",
      "b0_flowers_all_orders_2\n"
     ]
    },
    {
     "name": "stderr",
     "output_type": "stream",
     "text": [
      "2022-01-25 15:05:17 INFO: ================================================================================\n",
      "2022-01-25 15:05:17 INFO: ipykernel_launcher started\n",
      "2022-01-25 15:07:35 INFO: Test: loss 0.048016 acc 0.952532\n",
      "2022-01-25 15:07:35 INFO: ipykernel_launcher finished\n"
     ]
    },
    {
     "name": "stdout",
     "output_type": "stream",
     "text": [
      "\n",
      "b0_fruits_all_orders_1\n"
     ]
    },
    {
     "name": "stderr",
     "output_type": "stream",
     "text": [
      "2022-01-25 15:07:39 INFO: ================================================================================\n",
      "2022-01-25 15:07:39 INFO: ipykernel_launcher started\n",
      "2022-01-25 15:08:53 INFO: Test: loss 0.227864 acc 0.843862\n",
      "2022-01-25 15:08:53 INFO: ipykernel_launcher finished\n"
     ]
    },
    {
     "name": "stdout",
     "output_type": "stream",
     "text": [
      "\n",
      "b0_fruits_all_orders_2\n"
     ]
    },
    {
     "name": "stderr",
     "output_type": "stream",
     "text": [
      "2022-01-25 15:08:57 INFO: ================================================================================\n",
      "2022-01-25 15:08:57 INFO: ipykernel_launcher started\n",
      "2022-01-25 15:10:11 INFO: Test: loss 0.219449 acc 0.843862\n",
      "2022-01-25 15:10:11 INFO: ipykernel_launcher finished\n"
     ]
    },
    {
     "name": "stdout",
     "output_type": "stream",
     "text": [
      "\n"
     ]
    }
   ],
   "source": [
    "for trait in TRAITS:\n",
    "    paths = (MODELS / trait).glob('*.pt')\n",
    "    for path in sorted(paths):\n",
    "        p = path.stem.split('_')\n",
    "\n",
    "        args = Args(\n",
    "            backbone=p[0],\n",
    "            load_model=path,\n",
    "            test_set=path.stem,\n",
    "            split_set=f'{p[1]}_all_orders',\n",
    "            trait=trait,\n",
    "        )\n",
    "\n",
    "        orders = db.select_all_orders(args.database)\n",
    "\n",
    "        model = HerbariumModel(orders, args.backbone, args.load_model)\n",
    "\n",
    "        print(path.stem, flush=True)\n",
    "\n",
    "        runner = HerbariumTestRunner(model, orders, args)\n",
    "        runner.run()\n",
    "\n",
    "        print()"
   ]
  },
  {
   "cell_type": "code",
   "execution_count": null,
   "id": "be8fa500",
   "metadata": {},
   "outputs": [],
   "source": []
  }
 ],
 "metadata": {
  "kernelspec": {
   "display_name": "Python 3 (ipykernel)",
   "language": "python",
   "name": "python3"
  },
  "language_info": {
   "codemirror_mode": {
    "name": "ipython",
    "version": 3
   },
   "file_extension": ".py",
   "mimetype": "text/x-python",
   "name": "python",
   "nbconvert_exporter": "python",
   "pygments_lexer": "ipython3",
   "version": "3.9.7"
  }
 },
 "nbformat": 4,
 "nbformat_minor": 5
}
