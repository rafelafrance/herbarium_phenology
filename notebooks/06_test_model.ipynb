{
 "cells": [
  {
   "cell_type": "code",
   "execution_count": 1,
   "id": "cc7d9862",
   "metadata": {},
   "outputs": [],
   "source": [
    "import sys\n",
    "\n",
    "sys.path.append('..')"
   ]
  },
  {
   "cell_type": "code",
   "execution_count": 2,
   "id": "37a65c7e",
   "metadata": {},
   "outputs": [],
   "source": [
    "from dataclasses import dataclass, field\n",
    "from pathlib import Path\n",
    "from pprint import pp\n",
    "\n",
    "from herbarium.pylib import db\n",
    "from herbarium.pylib.herbarium_model import BACKBONES\n",
    "from herbarium.pylib.herbarium_model import HerbariumModel\n",
    "from herbarium.pylib.herbarium_runner import HerbariumTestRunner"
   ]
  },
  {
   "cell_type": "code",
   "execution_count": 3,
   "id": "6a835816",
   "metadata": {},
   "outputs": [],
   "source": [
    "DATA = Path('..') / 'data'\n",
    "MODELS = DATA / 'models'\n",
    "\n",
    "DB = DATA / 'angiosperms.sqlite'"
   ]
  },
  {
   "cell_type": "code",
   "execution_count": 4,
   "id": "48dae2b7",
   "metadata": {},
   "outputs": [],
   "source": [
    "TRAITS = \"\"\" flowering fruiting leaf_out \"\"\".split()"
   ]
  },
  {
   "cell_type": "code",
   "execution_count": 5,
   "id": "f1ecced6",
   "metadata": {},
   "outputs": [],
   "source": [
    "@dataclass\n",
    "class Args:\n",
    "    database: Path = DATA / 'angiosperms.sqlite'\n",
    "    backbone: str = ''\n",
    "    load_model: Path = MODELS\n",
    "    test_set: str = ''\n",
    "    split_set: str = ''\n",
    "    target_set='first_run'\n",
    "    trait: list[str] = ''\n",
    "    batch_size: int = 8\n",
    "    workers: int = 8\n",
    "    limit: int = 0"
   ]
  },
  {
   "cell_type": "code",
   "execution_count": 6,
   "id": "fdf45ffe",
   "metadata": {
    "scrolled": false
   },
   "outputs": [
    {
     "name": "stdout",
     "output_type": "stream",
     "text": [
      "b0_fruiting_1\n"
     ]
    },
    {
     "name": "stderr",
     "output_type": "stream",
     "text": [
      "100%|███████████████████████████████████████████████████████████████████████████████████████████████████████████████████████████████████████████| 159/159 [02:08<00:00,  1.24it/s]"
     ]
    },
    {
     "name": "stdout",
     "output_type": "stream",
     "text": [
      "Test: loss 0.215535 acc 0.839623\n",
      "\n",
      "b0_fruiting_bn\n"
     ]
    },
    {
     "name": "stderr",
     "output_type": "stream",
     "text": [
      "\n",
      "100%|███████████████████████████████████████████████████████████████████████████████████████████████████████████████████████████████████████████| 159/159 [02:11<00:00,  1.21it/s]\n"
     ]
    },
    {
     "name": "stdout",
     "output_type": "stream",
     "text": [
      "Test: loss 0.239806 acc 0.797170\n",
      "\n",
      "b0_fruiting_cyclic\n"
     ]
    },
    {
     "name": "stderr",
     "output_type": "stream",
     "text": [
      "100%|███████████████████████████████████████████████████████████████████████████████████████████████████████████████████████████████████████████| 159/159 [01:43<00:00,  1.54it/s]"
     ]
    },
    {
     "name": "stdout",
     "output_type": "stream",
     "text": [
      "Test: loss 0.209901 acc 0.849057\n",
      "\n",
      "b0_fruiting_cyclic_chk\n"
     ]
    },
    {
     "name": "stderr",
     "output_type": "stream",
     "text": [
      "\n",
      "100%|███████████████████████████████████████████████████████████████████████████████████████████████████████████████████████████████████████████| 159/159 [02:26<00:00,  1.09it/s]"
     ]
    },
    {
     "name": "stdout",
     "output_type": "stream",
     "text": [
      "Test: loss 0.209901 acc 0.849057\n",
      "\n",
      "b0_fruiting_full\n"
     ]
    },
    {
     "name": "stderr",
     "output_type": "stream",
     "text": [
      "\n",
      "100%|███████████████████████████████████████████████████████████████████████████████████████████████████████████████████████████████████████████| 159/159 [02:12<00:00,  1.20it/s]"
     ]
    },
    {
     "name": "stdout",
     "output_type": "stream",
     "text": [
      "Test: loss 0.327452 acc 0.753931\n",
      "\n",
      "b0_fruiting_full_2\n"
     ]
    },
    {
     "name": "stderr",
     "output_type": "stream",
     "text": [
      "\n",
      "100%|███████████████████████████████████████████████████████████████████████████████████████████████████████████████████████████████████████████| 159/159 [01:14<00:00,  2.13it/s]\n"
     ]
    },
    {
     "name": "stdout",
     "output_type": "stream",
     "text": [
      "Test: loss 0.331458 acc 0.730346\n",
      "\n",
      "b0_fruiting_full_3\n"
     ]
    },
    {
     "name": "stderr",
     "output_type": "stream",
     "text": [
      "100%|███████████████████████████████████████████████████████████████████████████████████████████████████████████████████████████████████████████| 159/159 [01:15<00:00,  2.11it/s]"
     ]
    },
    {
     "name": "stdout",
     "output_type": "stream",
     "text": [
      "Test: loss 0.356993 acc 0.768082\n",
      "\n",
      "b0_fruiting_pseudo_1\n"
     ]
    },
    {
     "name": "stderr",
     "output_type": "stream",
     "text": [
      "\n",
      "100%|███████████████████████████████████████████████████████████████████████████████████████████████████████████████████████████████████████████| 159/159 [01:15<00:00,  2.11it/s]\n"
     ]
    },
    {
     "name": "stdout",
     "output_type": "stream",
     "text": [
      "Test: loss 0.193995 acc 0.826258\n",
      "\n",
      "b7_fruiting_2\n"
     ]
    },
    {
     "name": "stderr",
     "output_type": "stream",
     "text": [
      "100%|███████████████████████████████████████████████████████████████████████████████████████████████████████████████████████████████████████████| 159/159 [01:34<00:00,  1.68it/s]\n"
     ]
    },
    {
     "name": "stdout",
     "output_type": "stream",
     "text": [
      "Test: loss 0.188074 acc 0.857704\n",
      "\n",
      "b7_fruiting_3\n"
     ]
    },
    {
     "name": "stderr",
     "output_type": "stream",
     "text": [
      "100%|███████████████████████████████████████████████████████████████████████████████████████████████████████████████████████████████████████████| 159/159 [01:49<00:00,  1.45it/s]\n"
     ]
    },
    {
     "name": "stdout",
     "output_type": "stream",
     "text": [
      "Test: loss 0.189364 acc 0.856918\n",
      "\n",
      "b7_fruiting_3_chk\n"
     ]
    },
    {
     "name": "stderr",
     "output_type": "stream",
     "text": [
      "100%|███████████████████████████████████████████████████████████████████████████████████████████████████████████████████████████████████████████| 159/159 [01:47<00:00,  1.48it/s]\n"
     ]
    },
    {
     "name": "stdout",
     "output_type": "stream",
     "text": [
      "Test: loss 0.189364 acc 0.856918\n",
      "\n"
     ]
    }
   ],
   "source": [
    "for trait in TRAITS:\n",
    "    paths = (MODELS / trait).glob('*.pt')\n",
    "    for path in sorted(paths):\n",
    "        p = path.stem.split('_')\n",
    "\n",
    "        print(path.stem, flush=True)\n",
    "\n",
    "        args = Args(\n",
    "            backbone=p[0],\n",
    "            load_model=path,\n",
    "            test_set=path.stem,\n",
    "            split_set=trait,\n",
    "            trait=trait,\n",
    "        )\n",
    "\n",
    "        orders = db.select_all_orders(args.database)\n",
    "\n",
    "        model = HerbariumModel(orders, args.backbone, args.load_model)\n",
    "\n",
    "        runner = HerbariumTestRunner(model, orders, args)\n",
    "        runner.run()\n",
    "\n",
    "        print()"
   ]
  },
  {
   "cell_type": "code",
   "execution_count": null,
   "id": "be8fa500",
   "metadata": {},
   "outputs": [],
   "source": []
  }
 ],
 "metadata": {
  "kernelspec": {
   "display_name": "Python 3 (ipykernel)",
   "language": "python",
   "name": "python3"
  },
  "language_info": {
   "codemirror_mode": {
    "name": "ipython",
    "version": 3
   },
   "file_extension": ".py",
   "mimetype": "text/x-python",
   "name": "python",
   "nbconvert_exporter": "python",
   "pygments_lexer": "ipython3",
   "version": "3.9.7"
  }
 },
 "nbformat": 4,
 "nbformat_minor": 5
}
