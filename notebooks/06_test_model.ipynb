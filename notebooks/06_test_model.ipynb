{
 "cells": [
  {
   "cell_type": "code",
   "execution_count": 1,
   "id": "c3d30688",
   "metadata": {},
   "outputs": [],
   "source": [
    "import sys\n",
    "\n",
    "sys.path.append('..')"
   ]
  },
  {
   "cell_type": "code",
   "execution_count": 2,
   "id": "8a97a57e",
   "metadata": {},
   "outputs": [],
   "source": [
    "from pathlib import Path\n",
    "\n",
    "from herbarium.pylib import db\n",
    "from herbarium.pylib.multi_efficient_net import NETS\n",
    "from herbarium.pylib.train_model import test"
   ]
  },
  {
   "cell_type": "code",
   "execution_count": 3,
   "id": "fd4268a7",
   "metadata": {},
   "outputs": [],
   "source": [
    "DATA = Path('..') / 'data'\n",
    "MODELS = DATA / 'models'"
   ]
  },
  {
   "cell_type": "code",
   "execution_count": 4,
   "id": "ae0f6522",
   "metadata": {},
   "outputs": [],
   "source": [
    "class Args:\n",
    "    net: str = 'b0'\n",
    "    database: Path = DATA / 'angiosperms.sqlite'\n",
    "    load_weights: Path = MODELS / 'b0_flowers_2_orders_unfrozen_2_acc.pth'\n",
    "    split_run: str = 'flowers_2_orders'\n",
    "    workers: int = 8\n",
    "    limit: int = 0\n",
    "    batch_size: int = 32\n",
    "    trait: str = 'flowering'\n",
    "\n",
    "\n",
    "args = Args()"
   ]
  },
  {
   "cell_type": "code",
   "execution_count": 5,
   "id": "a758a41d",
   "metadata": {},
   "outputs": [],
   "source": [
    "orders = db.select_orders(args.database, args.split_run)\n",
    "\n",
    "net = NETS[args.net](len(orders), args.load_weights, freeze='all')"
   ]
  },
  {
   "cell_type": "code",
   "execution_count": 6,
   "id": "6922be56",
   "metadata": {},
   "outputs": [
    {
     "name": "stderr",
     "output_type": "stream",
     "text": [
      "2021-12-21 16:52:53 INFO: ================================================================================\n",
      "2021-12-21 16:52:53 INFO: ipykernel_launcher started\n",
      "2021-12-21 16:53:45 INFO: Test: loss 0.114918 acc 0.955019\n",
      "2021-12-21 16:53:45 INFO: ipykernel_launcher finished\n"
     ]
    }
   ],
   "source": [
    "test(args, net, orders)"
   ]
  },
  {
   "cell_type": "code",
   "execution_count": null,
   "id": "648ca04c",
   "metadata": {},
   "outputs": [],
   "source": []
  }
 ],
 "metadata": {
  "kernelspec": {
   "display_name": "Python 3 (ipykernel)",
   "language": "python",
   "name": "python3"
  },
  "language_info": {
   "codemirror_mode": {
    "name": "ipython",
    "version": 3
   },
   "file_extension": ".py",
   "mimetype": "text/x-python",
   "name": "python",
   "nbconvert_exporter": "python",
   "pygments_lexer": "ipython3",
   "version": "3.9.7"
  }
 },
 "nbformat": 4,
 "nbformat_minor": 5
}
