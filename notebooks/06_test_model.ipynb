{
 "cells": [
  {
   "cell_type": "code",
   "execution_count": 1,
   "id": "cc7d9862",
   "metadata": {},
   "outputs": [],
   "source": [
    "import sys\n",
    "\n",
    "sys.path.append('..')"
   ]
  },
  {
   "cell_type": "code",
   "execution_count": 2,
   "id": "37a65c7e",
   "metadata": {},
   "outputs": [],
   "source": [
    "from dataclasses import dataclass, field\n",
    "from pathlib import Path\n",
    "from pprint import pp\n",
    "\n",
    "from herbarium.pylib import db\n",
    "from herbarium.pylib.efficient_net_hydra import BACKBONES\n",
    "from herbarium.pylib.efficient_net_old import EfficientNetOld\n",
    "from herbarium.pylib.run_old_model import test"
   ]
  },
  {
   "cell_type": "code",
   "execution_count": 3,
   "id": "6a835816",
   "metadata": {},
   "outputs": [],
   "source": [
    "DATA = Path('..') / 'data'\n",
    "MODELS = DATA / 'models'"
   ]
  },
  {
   "cell_type": "code",
   "execution_count": 4,
   "id": "48dae2b7",
   "metadata": {},
   "outputs": [],
   "source": [
    "# TRAITS = \"\"\" flowering fruiting \"\"\".split()\n",
    "# TRAITS = ['flowering']\n",
    "TRAITS = ['fruiting']"
   ]
  },
  {
   "cell_type": "code",
   "execution_count": 5,
   "id": "f1ecced6",
   "metadata": {},
   "outputs": [],
   "source": [
    "@dataclass\n",
    "class Args:\n",
    "    backbone: str = ''\n",
    "    test_run: str = ''\n",
    "    split_run: str = ''\n",
    "    load_weights: Path = MODELS\n",
    "    trait: list[str] = field(default_factory=list)\n",
    "    database: Path = DATA / 'angiosperms.sqlite'\n",
    "    limit: int = 0\n",
    "    workers: int = 8\n",
    "    batch_size: int = 8"
   ]
  },
  {
   "cell_type": "code",
   "execution_count": 6,
   "id": "fdf45ffe",
   "metadata": {
    "scrolled": false
   },
   "outputs": [
    {
     "name": "stdout",
     "output_type": "stream",
     "text": [
      "b0_fruits_2_orders_frozen_in_1_acc\n"
     ]
    },
    {
     "name": "stderr",
     "output_type": "stream",
     "text": [
      "2022-01-13 13:26:13 INFO: ================================================================================\n",
      "2022-01-13 13:26:13 INFO: ipykernel_launcher started\n",
      "2022-01-13 13:26:30 INFO: Test: loss 0.337723 acc 0.878307\n",
      "2022-01-13 13:26:30 INFO: ipykernel_launcher finished\n"
     ]
    },
    {
     "name": "stdout",
     "output_type": "stream",
     "text": [
      "\n"
     ]
    }
   ],
   "source": [
    "for trait in TRAITS:\n",
    "    paths = (MODELS / trait).glob('*.pth')\n",
    "    for path in sorted(paths):\n",
    "        p = path.stem.split('_')\n",
    "\n",
    "        args = Args(\n",
    "            trait=TRAITS,\n",
    "            backbone=p[0],\n",
    "            test_run=path.stem,\n",
    "            split_run=f'{p[1]}_2_orders',\n",
    "            load_weights=path,\n",
    "        )\n",
    "\n",
    "        orders = db.select_orders(args.database, args.split_run)\n",
    "\n",
    "        net = EfficientNetOld(args.backbone, orders, args.load_weights)\n",
    "\n",
    "        print(path.stem, flush=True)\n",
    "\n",
    "        test(args, net, orders)\n",
    "\n",
    "        print()"
   ]
  },
  {
   "cell_type": "code",
   "execution_count": null,
   "id": "be8fa500",
   "metadata": {},
   "outputs": [],
   "source": []
  }
 ],
 "metadata": {
  "kernelspec": {
   "display_name": "Python 3 (ipykernel)",
   "language": "python",
   "name": "python3"
  },
  "language_info": {
   "codemirror_mode": {
    "name": "ipython",
    "version": 3
   },
   "file_extension": ".py",
   "mimetype": "text/x-python",
   "name": "python",
   "nbconvert_exporter": "python",
   "pygments_lexer": "ipython3",
   "version": "3.9.7"
  }
 },
 "nbformat": 4,
 "nbformat_minor": 5
}
