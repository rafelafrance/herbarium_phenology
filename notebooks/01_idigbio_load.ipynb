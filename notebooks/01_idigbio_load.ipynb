{
 "cells": [
  {
   "cell_type": "markdown",
   "id": "6a1ae71e",
   "metadata": {},
   "source": [
    "# iDigBio load"
   ]
  },
  {
   "cell_type": "markdown",
   "id": "2b9132d6",
   "metadata": {},
   "source": [
    "We will need labeled images for training our classifier models. iDigBio data has many multi-modal records that we can leverage for getting training data.\n",
    "\n",
    "We first need to go to the [iDigBio site](https://www.idigbio.org/portal/search) and download a snapshot of data we can use for this project. The downloads can be large and are often over 75 GB zipped. This snapshot contains several CSV files, we are interested in 3 of them:\n",
    "- multimedia.csv: Has links to the image files\n",
    "- occurrence.csv: Contains most of the data about taxonomy and locations\n",
    "- occurrence_raw.csv: Holds the raw data that we will harvest for determining if an image shows flowers, etc.\n",
    "\n",
    "Our strategy for getting this data is:\n",
    "1. Get all multimedia records. This is the smallest file and will greatly reduce the DB size.\n",
    "1. Then get all occurrence and occurrence_raw records that have a matching multimedia record. We will also remove any records that are for fossils or records without a genus.\n",
    "1. Then we will filter the records in another script to harvest Angiosperms.\n"
   ]
  },
  {
   "cell_type": "markdown",
   "id": "07da895e",
   "metadata": {},
   "source": [
    "## Setup"
   ]
  },
  {
   "cell_type": "markdown",
   "id": "e971f596",
   "metadata": {},
   "source": [
    "This is so the notebook can find this project's library files."
   ]
  },
  {
   "cell_type": "code",
   "execution_count": 1,
   "id": "240c500d",
   "metadata": {},
   "outputs": [],
   "source": [
    "import sys\n",
    "\n",
    "sys.path.append('..')"
   ]
  },
  {
   "cell_type": "code",
   "execution_count": 2,
   "id": "772db5ed",
   "metadata": {},
   "outputs": [],
   "source": [
    "import sqlite3"
   ]
  },
  {
   "cell_type": "markdown",
   "id": "585ba2a8",
   "metadata": {},
   "source": [
    "Rather than duplicate script code in this notebook I will call functions in the script to describe what is going on. This is the script that I am using to load iDigBio data into the SQLite3 database."
   ]
  },
  {
   "cell_type": "code",
   "execution_count": 3,
   "id": "f6f946bf",
   "metadata": {},
   "outputs": [],
   "source": [
    "from pathlib import Path\n",
    "\n",
    "from herbarium.pylib.idigbio import idigbio_utils"
   ]
  },
  {
   "cell_type": "markdown",
   "id": "3d13da43",
   "metadata": {},
   "source": [
    "## Examine the structure of the iDigBio snapshot"
   ]
  },
  {
   "cell_type": "markdown",
   "id": "e316db59",
   "metadata": {},
   "source": [
    "As I said, this file is very large and I don't expect you do download it yourself but I did want to show what's in it.\n",
    "\n",
    "This is this list of the CSV files it contains."
   ]
  },
  {
   "cell_type": "code",
   "execution_count": 4,
   "id": "7d7baf7e",
   "metadata": {},
   "outputs": [],
   "source": [
    "DATA_DIR = Path('..') / 'data'\n",
    "ZIP_FILE = DATA_DIR / 'iDigBio_snapshot_2021-02.zip'"
   ]
  },
  {
   "cell_type": "code",
   "execution_count": 5,
   "id": "3c2b6ed6",
   "metadata": {},
   "outputs": [
    {
     "data": {
      "text/plain": [
       "['occurrence.csv',\n",
       " 'multimedia_raw.csv',\n",
       " 'multimedia.csv',\n",
       " 'occurrence_raw.csv',\n",
       " 'records.citation.txt',\n",
       " 'mediarecords.citation.txt',\n",
       " 'meta.xml']"
      ]
     },
     "execution_count": 5,
     "metadata": {},
     "output_type": "execute_result"
    }
   ],
   "source": [
    "idigbio_utils.show_csv_files(ZIP_FILE)"
   ]
  },
  {
   "cell_type": "markdown",
   "id": "f1db7c06",
   "metadata": {},
   "source": [
    "### multimedia.csv"
   ]
  },
  {
   "cell_type": "markdown",
   "id": "0a883a72",
   "metadata": {},
   "source": [
    "Here are the fields in `multimedia.csv`."
   ]
  },
  {
   "cell_type": "code",
   "execution_count": 7,
   "id": "5294742c",
   "metadata": {},
   "outputs": [
    {
     "data": {
      "text/plain": [
       "'ac:accessURI ac:licenseLogoURL ac:tag coreid dc:type dcterms:format dcterms:modified dcterms:rights exif:PixelXDimension exif:PixelYDimension idigbio:dataQualityScore idigbio:dateModified idigbio:etag idigbio:flags idigbio:hasSpecimen idigbio:mediaType idigbio:recordIds idigbio:records idigbio:recordsets idigbio:uuid idigbio:version xmpRights:WebStatement'"
      ]
     },
     "execution_count": 7,
     "metadata": {},
     "output_type": "execute_result"
    }
   ],
   "source": [
    "fields = idigbio_utils.show_csv_headers(ZIP_FILE, 'multimedia.csv')\n",
    "' '.join(fields)"
   ]
  },
  {
   "cell_type": "markdown",
   "id": "bbf525b1",
   "metadata": {},
   "source": [
    "We're only interested in these two fields. The columns get renamed in the database by dropping any prefix before the colon. So, `ac:accessURI` becomes `accessURI`."
   ]
  },
  {
   "cell_type": "code",
   "execution_count": 9,
   "id": "d633deba",
   "metadata": {},
   "outputs": [
    {
     "data": {
      "text/plain": [
       "['coreid', 'ac:accessURI']"
      ]
     },
     "execution_count": 9,
     "metadata": {},
     "output_type": "execute_result"
    }
   ],
   "source": [
    "list(idigbio_utils.MULTIMEDIA)"
   ]
  },
  {
   "cell_type": "markdown",
   "id": "40fb5712",
   "metadata": {},
   "source": [
    "### occurrence.csv"
   ]
  },
  {
   "cell_type": "code",
   "execution_count": 11,
   "id": "dd0c4bd0",
   "metadata": {},
   "outputs": [
    {
     "data": {
      "text/plain": [
       "'coreid dwc:basisOfRecord dwc:bed dwc:catalogNumber dwc:class dwc:collectionCode dwc:collectionID dwc:continent dwc:coordinateUncertaintyInMeters dwc:country dwc:county dwc:earliestAgeOrLowestStage dwc:earliestEonOrLowestEonothem dwc:earliestEpochOrLowestSeries dwc:earliestEraOrLowestErathem dwc:earliestPeriodOrLowestSystem dwc:eventDate dwc:family dwc:fieldNumber dwc:formation dwc:genus dwc:geologicalContextID dwc:group dwc:higherClassification dwc:highestBiostratigraphicZone dwc:individualCount dwc:infraspecificEpithet dwc:institutionCode dwc:institutionID dwc:kingdom dwc:latestAgeOrHighestStage dwc:latestEonOrHighestEonothem dwc:latestEpochOrHighestSeries dwc:latestEraOrHighestErathem dwc:latestPeriodOrHighestSystem dwc:lithostratigraphicTerms dwc:locality dwc:lowestBiostratigraphicZone dwc:maximumDepthInMeters dwc:maximumElevationInMeters dwc:member dwc:minimumDepthInMeters dwc:minimumElevationInMeters dwc:municipality dwc:occurrenceID dwc:order dwc:phylum dwc:recordNumber dwc:recordedBy dwc:scientificName dwc:specificEpithet dwc:startDayOfYear dwc:stateProvince dwc:taxonID dwc:taxonRank dwc:taxonomicStatus dwc:typeStatus dwc:verbatimEventDate dwc:verbatimLocality dwc:vernacularName dwc:waterBody gbif:canonicalName idigbio:associatedsequences idigbio:barcodeValue idigbio:collectionName idigbio:commonnames idigbio:dataQualityScore idigbio:dateModified idigbio:etag idigbio:eventDate idigbio:flags idigbio:geoPoint idigbio:hasImage idigbio:hasMedia idigbio:institutionName idigbio:isoCountryCode idigbio:mediarecords idigbio:recordIds idigbio:recordset idigbio:uuid idigbio:version'"
      ]
     },
     "execution_count": 11,
     "metadata": {},
     "output_type": "execute_result"
    }
   ],
   "source": [
    "fields = idigbio_utils.show_csv_headers(ZIP_FILE, 'occurrence.csv')\n",
    "' '.join(fields)"
   ]
  },
  {
   "cell_type": "code",
   "execution_count": 14,
   "id": "233f4b75",
   "metadata": {},
   "outputs": [
    {
     "data": {
      "text/plain": [
       "['coreid',\n",
       " 'dwc:basisOfRecord',\n",
       " 'dwc:kingdom',\n",
       " 'dwc:phylum',\n",
       " 'dwc:class',\n",
       " 'dwc:order',\n",
       " 'dwc:family',\n",
       " 'dwc:genus',\n",
       " 'dwc:specificEpithet',\n",
       " 'dwc:scientificName',\n",
       " 'dwc:eventDate',\n",
       " 'dwc:continent',\n",
       " 'dwc:country',\n",
       " 'dwc:stateProvince',\n",
       " 'dwc:county',\n",
       " 'dwc:locality',\n",
       " 'idigbio:geoPoint']"
      ]
     },
     "execution_count": 14,
     "metadata": {},
     "output_type": "execute_result"
    }
   ],
   "source": [
    "list(idigbio_utils.OCCURRENCE)"
   ]
  },
  {
   "cell_type": "markdown",
   "id": "65019a23",
   "metadata": {},
   "source": [
    "### occurrence_raw.csv"
   ]
  },
  {
   "cell_type": "code",
   "execution_count": 13,
   "id": "71378feb",
   "metadata": {},
   "outputs": [
    {
     "data": {
      "text/plain": [
       "'aec:associatedTaxa coreid dc:rights dcterms:accessRights dcterms:bibliographicCitation dcterms:language dcterms:license dcterms:modified dcterms:references dcterms:rights dcterms:rightsHolder dcterms:source dcterms:type dwc:Identification dwc:MeasurementOrFact dwc:ResourceRelationship dwc:VerbatimEventDate dwc:acceptedNameUsage dwc:accessRights dwc:associatedMedia dwc:associatedOccurrences dwc:associatedOrganisms dwc:associatedReferences dwc:associatedSequences dwc:associatedTaxa dwc:basisOfRecord dwc:bed dwc:behavior dwc:catalogNumber dwc:class dwc:classs dwc:collectionCode dwc:collectionID dwc:continent dwc:coordinatePrecision dwc:coordinateUncertaintyInMeters dwc:country dwc:countryCode dwc:county dwc:dataGeneralizations dwc:datasetID dwc:datasetName dwc:dateIdentified dwc:day dwc:decimalLatitude dwc:decimalLongitude dwc:disposition dwc:dynamicProperties dwc:earliestAgeOrLowestStage dwc:earliestEonOrLowestEonothem dwc:earliestEpochOrLowestSeries dwc:earliestEraOrLowestErathem dwc:earliestPeriodOrLowestSystem dwc:endDayOfYear dwc:establishmentMeans dwc:eventDate dwc:eventID dwc:eventRemarks dwc:eventTime dwc:family dwc:fieldNotes dwc:fieldNumber dwc:footprintSRS dwc:footprintSpatialFit dwc:footprintWKT dwc:formation dwc:genus dwc:geodeticDatum dwc:geologicalContextID dwc:georeferenceProtocol dwc:georeferenceRemarks dwc:georeferenceSources dwc:georeferenceVerificationStatus dwc:georeferencedBy dwc:georeferencedDate dwc:group dwc:habitat dwc:higherClassification dwc:higherGeography dwc:higherGeographyID dwc:highestBiostratigraphicZone dwc:identificationID dwc:identificationQualifier dwc:identificationReferences dwc:identificationRemarks dwc:identificationVerificationStatus dwc:identifiedBy dwc:individualCount dwc:informationWithheld dwc:infraspecificEpithet dwc:institutionCode dwc:institutionID dwc:island dwc:islandGroup dwc:kingdom dwc:language dwc:latestAgeOrHighestStage dwc:latestEonOrHighestEonothem dwc:latestEpochOrHighestSeries dwc:latestEraOrHighestErathem dwc:latestPeriodOrHighestSystem dwc:lifeStage dwc:lithostratigraphicTerms dwc:locality dwc:locationAccordingTo dwc:locationID dwc:locationRemarks dwc:lowestBiostratigraphicZone dwc:materialSampleID dwc:maximumDepthInMeters dwc:maximumElevationInMeters dwc:member dwc:minimumDepthInMeters dwc:minimumElevationInMeters dwc:modified dwc:month dwc:municipality dwc:nameAccordingTo dwc:namePublishedIn dwc:namePublishedInID dwc:namePublishedInYear dwc:nomenclaturalCode dwc:nomenclaturalStatus dwc:occurrenceDetails dwc:occurrenceID dwc:occurrenceRemarks dwc:occurrenceStatus dwc:order dwc:organismID dwc:organismName dwc:organismQuantity dwc:organismQuantityType dwc:organismRemarks dwc:originalNameUsage dwc:otherCatalogNumbers dwc:ownerInstitutionCode dwc:parentNameUsage dwc:phylum dwc:pointRadiusSpatialFit dwc:preparations dwc:previousIdentifications dwc:recordNumber dwc:recordedBy dwc:reproductiveCondition dwc:rights dwc:rightsHolder dwc:sampleSizeValue dwc:samplingEffort dwc:samplingProtocol dwc:scientificName dwc:scientificNameAuthorship dwc:scientificNameID dwc:sex dwc:specificEpithet dwc:startDayOfYear dwc:stateProvince dwc:subgenus dwc:taxonID dwc:taxonRank dwc:taxonRemarks dwc:taxonomicStatus dwc:typeStatus dwc:verbatimCoordinateSystem dwc:verbatimCoordinates dwc:verbatimDepth dwc:verbatimElevation dwc:verbatimEventDate dwc:verbatimLatitude dwc:verbatimLocality dwc:verbatimLongitude dwc:verbatimSRS dwc:verbatimTaxonRank dwc:vernacularName dwc:waterBody dwc:year gbif:Identifier gbif:Reference gbif:identifiedByID gbif:recordedByID idigbio:recordId symbiota:recordEnteredBy symbiota:verbatimScientificName zan:ChronometricDate'"
      ]
     },
     "execution_count": 13,
     "metadata": {},
     "output_type": "execute_result"
    }
   ],
   "source": [
    "fields = idigbio_utils.show_csv_headers(ZIP_FILE, 'occurrence_raw.csv')\n",
    "' '.join(fields)"
   ]
  },
  {
   "cell_type": "code",
   "execution_count": 15,
   "id": "9ee12059",
   "metadata": {},
   "outputs": [
    {
     "data": {
      "text/plain": [
       "['coreid',\n",
       " 'dwc:reproductiveCondition',\n",
       " 'dwc:occurrenceRemarks',\n",
       " 'dwc:dynamicProperties',\n",
       " 'dwc:fieldNotes']"
      ]
     },
     "execution_count": 15,
     "metadata": {},
     "output_type": "execute_result"
    }
   ],
   "source": [
    "list(idigbio_utils.OCCURRENCE_RAW)"
   ]
  },
  {
   "cell_type": "markdown",
   "id": "bd77f849",
   "metadata": {},
   "source": [
    "## How big are the data files and database?"
   ]
  },
  {
   "cell_type": "markdown",
   "id": "0d4a0dc0",
   "metadata": {},
   "source": [
    "You can't see the files so this will give you an idea of what's going on."
   ]
  },
  {
   "cell_type": "code",
   "execution_count": 16,
   "id": "aedeb7fc",
   "metadata": {},
   "outputs": [
    {
     "name": "stdout",
     "output_type": "stream",
     "text": [
      "-rw-r--r-- 1 rafe rafe 20G Oct 28 15:06 ../data/idigbio_2021-02.sqlite\r\n"
     ]
    }
   ],
   "source": [
    "!ls -lh ../data/idigbio_2021-02.sqlite"
   ]
  },
  {
   "cell_type": "code",
   "execution_count": 17,
   "id": "6a6dcd91",
   "metadata": {},
   "outputs": [
    {
     "name": "stdout",
     "output_type": "stream",
     "text": [
      "-rw-rw-r-- 1 rafe rafe 56G Feb 16  2021 ../../misc/idigbio/iDigBio_snapshot_2021-02.zip\r\n"
     ]
    }
   ],
   "source": [
    "!ls -lh ../../misc/idigbio/iDigBio_snapshot_2021-02.zip"
   ]
  },
  {
   "cell_type": "markdown",
   "id": "8f085eae",
   "metadata": {},
   "source": [
    "## How many records are in the database?"
   ]
  },
  {
   "cell_type": "code",
   "execution_count": 18,
   "id": "23e7112c",
   "metadata": {},
   "outputs": [],
   "source": [
    "DB = DATA_DIR / 'idigbio_2021-02.sqlite'"
   ]
  },
  {
   "cell_type": "code",
   "execution_count": 19,
   "id": "e8fb0509",
   "metadata": {},
   "outputs": [
    {
     "name": "stdout",
     "output_type": "stream",
     "text": [
      "multimedia: 40907454\n",
      "occurrence: 34982246\n",
      "occurrence_raw: 35007636\n"
     ]
    }
   ],
   "source": [
    "with sqlite3.connect(DB) as cxn:\n",
    "    for table in ['multimedia', 'occurrence', 'occurrence_raw']:\n",
    "        sql = f'select count(*) from {table}'\n",
    "        result = cxn.execute(sql)\n",
    "        count = result.fetchone()[0]\n",
    "        print(f'{table}: {count}')"
   ]
  },
  {
   "cell_type": "markdown",
   "id": "6b1e11d8",
   "metadata": {},
   "source": [
    "## Next we need to filter out all non-Angiosperm records"
   ]
  },
  {
   "cell_type": "markdown",
   "id": "b8b3df0f",
   "metadata": {},
   "source": [
    "I'll do this in another notebook"
   ]
  },
  {
   "cell_type": "code",
   "execution_count": null,
   "id": "dc4a9d4f",
   "metadata": {},
   "outputs": [],
   "source": []
  }
 ],
 "metadata": {
  "hide_input": false,
  "kernelspec": {
   "display_name": "Python 3 (ipykernel)",
   "language": "python",
   "name": "python3"
  },
  "language_info": {
   "codemirror_mode": {
    "name": "ipython",
    "version": 3
   },
   "file_extension": ".py",
   "mimetype": "text/x-python",
   "name": "python",
   "nbconvert_exporter": "python",
   "pygments_lexer": "ipython3",
   "version": "3.10.6"
  },
  "varInspector": {
   "cols": {
    "lenName": 16,
    "lenType": 16,
    "lenVar": 40
   },
   "kernels_config": {
    "python": {
     "delete_cmd_postfix": "",
     "delete_cmd_prefix": "del ",
     "library": "var_list.py",
     "varRefreshCmd": "print(var_dic_list())"
    },
    "r": {
     "delete_cmd_postfix": ") ",
     "delete_cmd_prefix": "rm(",
     "library": "var_list.r",
     "varRefreshCmd": "cat(var_dic_list()) "
    }
   },
   "types_to_exclude": [
    "module",
    "function",
    "builtin_function_or_method",
    "instance",
    "_Feature"
   ],
   "window_display": false
  }
 },
 "nbformat": 4,
 "nbformat_minor": 5
}
