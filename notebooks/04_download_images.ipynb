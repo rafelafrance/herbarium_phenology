{
 "cells": [
  {
   "cell_type": "markdown",
   "id": "108c8411",
   "metadata": {},
   "source": [
    "# Download Images"
   ]
  },
  {
   "cell_type": "markdown",
   "id": "7a8e3d0a",
   "metadata": {},
   "source": [
    "There are a few things to keep in mind here.\n",
    "1. We want a broad sample of images. So I'm going to group them by family and genus and build lists that pick one (or two) images from each family genus combination.\n",
    "2. There may be more one than image for a coreid. The problem is that we will not know which image the annotations refer to, so we need to exclude these coreids.\n",
    "3. There will be bad image files or bad URLs to images or uncooperative hosts.\n",
    "4. We shuffle the records so that we don't hit a particular host too hard."
   ]
  },
  {
   "cell_type": "code",
   "execution_count": 1,
   "id": "3860afae",
   "metadata": {},
   "outputs": [],
   "source": [
    "import sys\n",
    "\n",
    "sys.path.append('..')"
   ]
  },
  {
   "cell_type": "code",
   "execution_count": 2,
   "id": "2a54f56c",
   "metadata": {},
   "outputs": [],
   "source": [
    "import multiprocessing\n",
    "from pathlib import Path\n",
    "\n",
    "import pandas as pd\n",
    "\n",
    "from herbarium.pylib import download_images as di"
   ]
  },
  {
   "cell_type": "code",
   "execution_count": 3,
   "id": "65391093",
   "metadata": {},
   "outputs": [],
   "source": [
    "DATA_DIR = Path('..') / 'data'\n",
    "\n",
    "URI_DIR = DATA_DIR / 'temp'\n",
    "IMAGE_DIR = DATA_DIR / 'images'\n",
    "\n",
    "ERROR1 = DATA_DIR / 'temp' / 'download_errors.txt'\n",
    "ERROR2 = DATA_DIR / 'temp' / 'validate_errors.txt'\n",
    "\n",
    "DB = DATA_DIR / 'angiosperms.sqlite'"
   ]
  },
  {
   "cell_type": "markdown",
   "id": "be0bbf8d",
   "metadata": {},
   "source": [
    "## Sample record from each family/genus combination"
   ]
  },
  {
   "cell_type": "code",
   "execution_count": null,
   "id": "339e5001",
   "metadata": {},
   "outputs": [],
   "source": [
    "di.sample_records(DB, URI_DIR, count=2000)"
   ]
  },
  {
   "cell_type": "markdown",
   "id": "19b3dce9",
   "metadata": {},
   "source": [
    "## Download images"
   ]
  },
  {
   "cell_type": "code",
   "execution_count": null,
   "id": "03b0f0f0",
   "metadata": {},
   "outputs": [],
   "source": [
    "csvs = list(URI_DIR.glob('uris_*.csv'))"
   ]
  },
  {
   "cell_type": "code",
   "execution_count": null,
   "id": "ca0218bc",
   "metadata": {},
   "outputs": [],
   "source": [
    "with multiprocessing.Pool(processes=6) as pool:\n",
    "    results = []\n",
    "    for csv_file in csvs:\n",
    "        results.append(pool.apply_async(\n",
    "            di.download_images, (csv_file, IMAGE_DIR, ERROR1)))\n",
    "    all_results = [result.get() for result in results]"
   ]
  },
  {
   "cell_type": "markdown",
   "id": "a49e81e5",
   "metadata": {},
   "source": [
    "## Validate images"
   ]
  },
  {
   "cell_type": "code",
   "execution_count": 4,
   "id": "e9695478",
   "metadata": {},
   "outputs": [],
   "source": [
    "di.validate_images(IMAGE_DIR, DB, error=ERROR2)"
   ]
  },
  {
   "cell_type": "code",
   "execution_count": null,
   "id": "d707335b",
   "metadata": {},
   "outputs": [],
   "source": []
  }
 ],
 "metadata": {
  "kernelspec": {
   "display_name": "Python 3.9.0  ('.venv': venv)",
   "language": "python",
   "name": "pythonjvsc74a57bd032d845bac60b679f8e5f22d8a5bba0d3cb74b30896cf30d8a0b9935d5a07e95d"
  },
  "language_info": {
   "codemirror_mode": {
    "name": "ipython",
    "version": 3
   },
   "file_extension": ".py",
   "mimetype": "text/x-python",
   "name": "python",
   "nbconvert_exporter": "python",
   "pygments_lexer": "ipython3",
   "version": "3.9.5"
  }
 },
 "nbformat": 4,
 "nbformat_minor": 5
}
