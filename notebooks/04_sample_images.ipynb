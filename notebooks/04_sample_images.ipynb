{
 "cells": [
  {
   "cell_type": "markdown",
   "id": "87334382",
   "metadata": {},
   "source": [
    "# Sample images"
   ]
  },
  {
   "cell_type": "markdown",
   "id": "92be2bad",
   "metadata": {},
   "source": [
    "Get 100 randomly sampled images from the following 4 classes\n",
    "1. flowering\n",
    "1. not flowering\n",
    "1. fruiting\n",
    "1. not fruiting"
   ]
  },
  {
   "cell_type": "code",
   "execution_count": 1,
   "id": "c517632d",
   "metadata": {},
   "outputs": [],
   "source": [
    "import sys\n",
    "\n",
    "sys.path.append('..')"
   ]
  },
  {
   "cell_type": "code",
   "execution_count": 2,
   "id": "3a95c1f2",
   "metadata": {},
   "outputs": [],
   "source": [
    "import shutil\n",
    "import sqlite3\n",
    "from pathlib import Path\n",
    "\n",
    "import pandas as pd"
   ]
  },
  {
   "cell_type": "code",
   "execution_count": 3,
   "id": "1164e31e",
   "metadata": {},
   "outputs": [],
   "source": [
    "DATA_DIR = Path('..') / 'data'\n",
    "\n",
    "TEMP_DIR = DATA_DIR / 'temp'\n",
    "IMAGE_DIR = DATA_DIR / 'images'\n",
    "\n",
    "DB = DATA_DIR / 'angiosperms.sqlite'"
   ]
  },
  {
   "cell_type": "code",
   "execution_count": 4,
   "id": "067c6d04",
   "metadata": {},
   "outputs": [],
   "source": [
    "def get_image_class(cls):\n",
    "    sql = f\"\"\"\n",
    "        select *\n",
    "          from angiosperms\n",
    "          join images using (coreid)\n",
    "         where {cls} = 1\n",
    "      order by random()\n",
    "         limit 100\n",
    "    \"\"\"\n",
    "    with sqlite3.connect(DB) as cxn:\n",
    "        df = pd.read_sql(sql, cxn)\n",
    "    path = TEMP_DIR / f'{cls}.csv'\n",
    "    df.to_csv(path, index=False)\n",
    "    dir_ = TEMP_DIR / f'{cls}'\n",
    "    dir_.mkdir(parents=True, exist_ok=True)\n",
    "    for idx, row in df.iterrows():\n",
    "        src = Path('..') / row['path']\n",
    "        dst = dir_ / Path(row['path']).name\n",
    "        shutil.copy(src, dst)"
   ]
  },
  {
   "cell_type": "code",
   "execution_count": 5,
   "id": "1f7437bc",
   "metadata": {},
   "outputs": [],
   "source": [
    "get_image_class('flowering')\n",
    "get_image_class('not_flowering')\n",
    "get_image_class('fruiting')\n",
    "get_image_class('not_fruiting')"
   ]
  },
  {
   "cell_type": "markdown",
   "id": "d879f7ae",
   "metadata": {},
   "source": [
    "## Build training, validation, and test datasets"
   ]
  },
  {
   "cell_type": "markdown",
   "id": "a355f9ee",
   "metadata": {},
   "source": [
    "The classes are woefully unbalanced and many images have multiple labels, so I'm going to oversample the smaller classes in the training dataset. We should be pretty safe with this approach due to the heavy data augmentation. I'm saving the splits so that I don't wind up training on my test data. Note that an image can belong to multiple classes I need to be careful that I don't add any core IDs in the test dataset to the training/validation datasets."
   ]
  },
  {
   "cell_type": "code",
   "execution_count": null,
   "id": "170e515d",
   "metadata": {},
   "outputs": [],
   "source": []
  },
  {
   "cell_type": "code",
   "execution_count": null,
   "id": "aafdec1c",
   "metadata": {},
   "outputs": [],
   "source": []
  }
 ],
 "metadata": {
  "kernelspec": {
   "display_name": "Python 3 (ipykernel)",
   "language": "python",
   "name": "python3"
  },
  "language_info": {
   "codemirror_mode": {
    "name": "ipython",
    "version": 3
   },
   "file_extension": ".py",
   "mimetype": "text/x-python",
   "name": "python",
   "nbconvert_exporter": "python",
   "pygments_lexer": "ipython3",
   "version": "3.9.5"
  }
 },
 "nbformat": 4,
 "nbformat_minor": 5
}
