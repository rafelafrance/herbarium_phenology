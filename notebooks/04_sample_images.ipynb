{
 "cells": [
  {
   "cell_type": "markdown",
   "id": "87334382",
   "metadata": {},
   "source": [
    "# Sample images"
   ]
  },
  {
   "cell_type": "markdown",
   "id": "92be2bad",
   "metadata": {},
   "source": [
    "Get 100 randomly sampled images from the following 4 classes\n",
    "1. flowering\n",
    "1. not flowering\n",
    "1. fruiting\n",
    "1. not fruiting"
   ]
  },
  {
   "cell_type": "code",
   "execution_count": 1,
   "id": "c517632d",
   "metadata": {},
   "outputs": [],
   "source": [
    "import sys\n",
    "\n",
    "sys.path.append('..')"
   ]
  },
  {
   "cell_type": "code",
   "execution_count": 12,
   "id": "3a95c1f2",
   "metadata": {},
   "outputs": [],
   "source": [
    "import shutil\n",
    "import sqlite3\n",
    "from pathlib import Path\n",
    "\n",
    "import pandas as pd\n",
    "\n",
    "from herbarium.pylib import db"
   ]
  },
  {
   "cell_type": "code",
   "execution_count": 3,
   "id": "1164e31e",
   "metadata": {},
   "outputs": [],
   "source": [
    "DATA_DIR = Path('..') / 'data'\n",
    "\n",
    "TEMP_DIR = DATA_DIR / 'temp'\n",
    "IMAGE_DIR = DATA_DIR / 'images'\n",
    "\n",
    "DB = DATA_DIR / 'angiosperms.sqlite'"
   ]
  },
  {
   "cell_type": "code",
   "execution_count": 4,
   "id": "067c6d04",
   "metadata": {},
   "outputs": [],
   "source": [
    "def get_image_class(cls):\n",
    "    sql = f\"\"\"\n",
    "        select *\n",
    "          from angiosperms\n",
    "          join images using (coreid)\n",
    "         where {cls} = 1\n",
    "      order by random()\n",
    "         limit 100\n",
    "    \"\"\"\n",
    "    with sqlite3.connect(DB) as cxn:\n",
    "        df = pd.read_sql(sql, cxn)\n",
    "    path = TEMP_DIR / f'{cls}.csv'\n",
    "    df.to_csv(path, index=False)\n",
    "    dir_ = TEMP_DIR / f'{cls}'\n",
    "    dir_.mkdir(parents=True, exist_ok=True)\n",
    "    for idx, row in df.iterrows():\n",
    "        src = Path('..') / row['path']\n",
    "        dst = dir_ / Path(row['path']).name\n",
    "        shutil.copy(src, dst)"
   ]
  },
  {
   "cell_type": "code",
   "execution_count": 5,
   "id": "1f7437bc",
   "metadata": {},
   "outputs": [],
   "source": [
    "get_image_class('flowering')\n",
    "get_image_class('not_flowering')\n",
    "get_image_class('fruiting')\n",
    "get_image_class('not_fruiting')"
   ]
  },
  {
   "cell_type": "markdown",
   "id": "d879f7ae",
   "metadata": {},
   "source": [
    "## Build training, validation, and test datasets"
   ]
  },
  {
   "cell_type": "markdown",
   "id": "a355f9ee",
   "metadata": {},
   "source": [
    "The classes are woefully unbalanced and many images have multiple labels, so I'm going to weight the losses per class. I'm also going to make sure that the test and validation datasets have a representative amount of all classes. Also note that any image may belong to multiple classes.\n",
    "\n",
    "I'm saving the splits so that I don't wind up training on my test data."
   ]
  },
  {
   "cell_type": "markdown",
   "id": "d7fd07ff",
   "metadata": {},
   "source": [
    "### Get count of image classes"
   ]
  },
  {
   "cell_type": "code",
   "execution_count": 16,
   "id": "aafdec1c",
   "metadata": {},
   "outputs": [],
   "source": [
    "sql = \"\"\"\n",
    "    select count(*) as n,\n",
    "           sum(flowering) as flowering,\n",
    "           sum(not_flowering) as not_flowering, \n",
    "           sum(fruiting) as fruiting,\n",
    "           sum(not_fruiting) as not_fruiting\n",
    "      from images\n",
    "      join angiosperms using (coreid)\n",
    "\"\"\""
   ]
  },
  {
   "cell_type": "code",
   "execution_count": 25,
   "id": "2cfc4669",
   "metadata": {},
   "outputs": [
    {
     "name": "stdout",
     "output_type": "stream",
     "text": [
      "total=15123\n"
     ]
    },
    {
     "data": {
      "text/plain": [
       "[('not_flowering', 1370.0),\n",
       " ('not_fruiting', 1434.0),\n",
       " ('fruiting', 4543.0),\n",
       " ('flowering', 11254.0)]"
      ]
     },
     "execution_count": 25,
     "metadata": {},
     "output_type": "execute_result"
    }
   ],
   "source": [
    "counts = db.rows_as_dicts(DB, sql)[0]\n",
    "\n",
    "total = counts['n']\n",
    "\n",
    "counts = [(k, v) for k, v in counts.items() if k != 'n']\n",
    "counts = sorted(counts, key=lambda t: t[1])\n",
    "\n",
    "print(f'{total=}')\n",
    "counts"
   ]
  },
  {
   "cell_type": "markdown",
   "id": "c331f707",
   "metadata": {},
   "source": [
    "### Get records from each class"
   ]
  },
  {
   "cell_type": "code",
   "execution_count": null,
   "id": "aad7b175",
   "metadata": {},
   "outputs": [],
   "source": [
    "used = set()\n",
    "\n",
    "for cls, count in counts:\n",
    "    sql = f\"\"\"select coreid\n",
    "        from images join angiosperms using (coreid)\n",
    "        where {cls} = 1\"\"\"\n",
    "    coreids = db.rows_as_dicts(DB, sql)\n",
    "    coreids = [i for i in coreids where i not in used]"
   ]
  },
  {
   "cell_type": "code",
   "execution_count": null,
   "id": "ca37edba",
   "metadata": {},
   "outputs": [],
   "source": []
  }
 ],
 "metadata": {
  "kernelspec": {
   "display_name": "Python 3 (ipykernel)",
   "language": "python",
   "name": "python3"
  },
  "language_info": {
   "codemirror_mode": {
    "name": "ipython",
    "version": 3
   },
   "file_extension": ".py",
   "mimetype": "text/x-python",
   "name": "python",
   "nbconvert_exporter": "python",
   "pygments_lexer": "ipython3",
   "version": "3.9.5"
  }
 },
 "nbformat": 4,
 "nbformat_minor": 5
}
