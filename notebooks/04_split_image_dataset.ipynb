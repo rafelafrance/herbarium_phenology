{
 "cells": [
  {
   "cell_type": "markdown",
   "id": "87334382",
   "metadata": {},
   "source": [
    "# Split image dataset"
   ]
  },
  {
   "cell_type": "markdown",
   "id": "92be2bad",
   "metadata": {},
   "source": [
    "Split the images into 3 datasets:\n",
    "1. A training dataset (~60%)\n",
    "1. A validation dataset (~20%). This is used to score the training progress.\n",
    "1. A test dataset (~20%). This is a holdout dataset used to do a final score of the data.\n",
    "\n",
    "Within each dataset there are 4 classes of possibly overlapping data.\n",
    "1. flowering\n",
    "1. not flowering\n",
    "1. fruiting\n",
    "1. not fruiting\n",
    "\n",
    "We are currently only using one trait i.e. we are only using one trait at a time.\n",
    "- flowering and not_flowering\n",
    "- fruiting and not_fruiting"
   ]
  },
  {
   "cell_type": "code",
   "execution_count": 1,
   "id": "c517632d",
   "metadata": {},
   "outputs": [],
   "source": [
    "import sys\n",
    "\n",
    "sys.path.append('..')"
   ]
  },
  {
   "cell_type": "code",
   "execution_count": 2,
   "id": "3a95c1f2",
   "metadata": {},
   "outputs": [],
   "source": [
    "import shutil\n",
    "import sqlite3\n",
    "from pathlib import Path\n",
    "\n",
    "import pandas as pd\n",
    "from sklearn.model_selection import train_test_split\n",
    "from sklearn.utils.class_weight import compute_class_weight\n",
    "from tqdm import tqdm\n",
    "\n",
    "from herbarium import db\n",
    "from herbarium.pylib.datasets.herbarium_dataset import HerbariumDataset"
   ]
  },
  {
   "cell_type": "code",
   "execution_count": 3,
   "id": "00218c13",
   "metadata": {},
   "outputs": [],
   "source": [
    "SPLIT_RUN = 'fruits_all_orders'"
   ]
  },
  {
   "cell_type": "code",
   "execution_count": 4,
   "id": "69f3eb78",
   "metadata": {},
   "outputs": [],
   "source": [
    "# CLASSES = 'flowering not_flowering fruiting not_fruiting'.split()\n",
    "# CLASSES = 'flowering not_flowering'.split()\n",
    "CLASSES = 'fruiting not_fruiting'.split()"
   ]
  },
  {
   "cell_type": "code",
   "execution_count": 5,
   "id": "1164e31e",
   "metadata": {},
   "outputs": [],
   "source": [
    "DATA_DIR = Path('..') / 'data'\n",
    "\n",
    "TEMP_DIR = DATA_DIR / 'temp'\n",
    "IMAGE_DIR = DATA_DIR / 'images'\n",
    "\n",
    "DB = DATA_DIR / 'angiosperms.sqlite'"
   ]
  },
  {
   "cell_type": "markdown",
   "id": "d879f7ae",
   "metadata": {},
   "source": [
    "## Build training, validation, and test splits"
   ]
  },
  {
   "cell_type": "markdown",
   "id": "a355f9ee",
   "metadata": {},
   "source": [
    "The classes are woefully unbalanced, so I'm going to weight the losses per class. I'm also going to make sure that the test and validation splits have a representative amount of all classes. Also note that any image may belong to multiple classes.\n",
    "\n",
    "I'm saving the splits so that I don't wind up training on my test data."
   ]
  },
  {
   "cell_type": "markdown",
   "id": "d7fd07ff",
   "metadata": {},
   "source": [
    "### Get count of image classes"
   ]
  },
  {
   "cell_type": "code",
   "execution_count": 6,
   "id": "aafdec1c",
   "metadata": {},
   "outputs": [],
   "source": [
    "sql = \"\"\"\n",
    "    select order_, count(*) as n,\n",
    "           sum(flowering) as flowering,\n",
    "           sum(not_flowering) as not_flowering, \n",
    "           sum(fruiting) as fruiting,\n",
    "           sum(not_fruiting) as not_fruiting\n",
    "      from images\n",
    "      join angiosperms using (coreid)\n",
    "  group by order_\n",
    "  order by n desc\n",
    "\"\"\""
   ]
  },
  {
   "cell_type": "code",
   "execution_count": 7,
   "id": "2cfc4669",
   "metadata": {},
   "outputs": [
    {
     "data": {
      "text/html": [
       "<div>\n",
       "<style scoped>\n",
       "    .dataframe tbody tr th:only-of-type {\n",
       "        vertical-align: middle;\n",
       "    }\n",
       "\n",
       "    .dataframe tbody tr th {\n",
       "        vertical-align: top;\n",
       "    }\n",
       "\n",
       "    .dataframe thead th {\n",
       "        text-align: right;\n",
       "    }\n",
       "</style>\n",
       "<table border=\"1\" class=\"dataframe\">\n",
       "  <thead>\n",
       "    <tr style=\"text-align: right;\">\n",
       "      <th></th>\n",
       "      <th>order_</th>\n",
       "      <th>n</th>\n",
       "      <th>flowering</th>\n",
       "      <th>not_flowering</th>\n",
       "      <th>fruiting</th>\n",
       "      <th>not_fruiting</th>\n",
       "    </tr>\n",
       "  </thead>\n",
       "  <tbody>\n",
       "    <tr>\n",
       "      <th>0</th>\n",
       "      <td>asterales</td>\n",
       "      <td>2721</td>\n",
       "      <td>2469.0</td>\n",
       "      <td>102.0</td>\n",
       "      <td>482.0</td>\n",
       "      <td>179.0</td>\n",
       "    </tr>\n",
       "    <tr>\n",
       "      <th>1</th>\n",
       "      <td>caryophyllales</td>\n",
       "      <td>1946</td>\n",
       "      <td>1544.0</td>\n",
       "      <td>80.0</td>\n",
       "      <td>591.0</td>\n",
       "      <td>84.0</td>\n",
       "    </tr>\n",
       "    <tr>\n",
       "      <th>2</th>\n",
       "      <td>poales</td>\n",
       "      <td>1708</td>\n",
       "      <td>870.0</td>\n",
       "      <td>537.0</td>\n",
       "      <td>737.0</td>\n",
       "      <td>337.0</td>\n",
       "    </tr>\n",
       "    <tr>\n",
       "      <th>3</th>\n",
       "      <td>lamiales</td>\n",
       "      <td>1091</td>\n",
       "      <td>951.0</td>\n",
       "      <td>21.0</td>\n",
       "      <td>210.0</td>\n",
       "      <td>45.0</td>\n",
       "    </tr>\n",
       "    <tr>\n",
       "      <th>4</th>\n",
       "      <td>fabales</td>\n",
       "      <td>968</td>\n",
       "      <td>797.0</td>\n",
       "      <td>3.0</td>\n",
       "      <td>377.0</td>\n",
       "      <td>20.0</td>\n",
       "    </tr>\n",
       "  </tbody>\n",
       "</table>\n",
       "</div>"
      ],
      "text/plain": [
       "           order_     n  flowering  not_flowering  fruiting  not_fruiting\n",
       "0       asterales  2721     2469.0          102.0     482.0         179.0\n",
       "1  caryophyllales  1946     1544.0           80.0     591.0          84.0\n",
       "2          poales  1708      870.0          537.0     737.0         337.0\n",
       "3        lamiales  1091      951.0           21.0     210.0          45.0\n",
       "4         fabales   968      797.0            3.0     377.0          20.0"
      ]
     },
     "execution_count": 7,
     "metadata": {},
     "output_type": "execute_result"
    }
   ],
   "source": [
    "counts = db.rows_as_dicts(DB, sql)\n",
    "\n",
    "order_df = pd.DataFrame(counts)\n",
    "order_df.head()"
   ]
  },
  {
   "cell_type": "code",
   "execution_count": 8,
   "id": "28f53c6b",
   "metadata": {},
   "outputs": [],
   "source": [
    "# db.create_splits_table(DB)"
   ]
  },
  {
   "cell_type": "markdown",
   "id": "9a5d6d97",
   "metadata": {},
   "source": [
    "### Limit data to two orders"
   ]
  },
  {
   "cell_type": "code",
   "execution_count": 9,
   "id": "94fa85cf",
   "metadata": {},
   "outputs": [],
   "source": [
    "# order_df = order_df.loc[order_df['order_'].isin(['asterales', 'fabales']), :]"
   ]
  },
  {
   "cell_type": "markdown",
   "id": "c331f707",
   "metadata": {},
   "source": [
    "### Get records for each order/trait combination"
   ]
  },
  {
   "cell_type": "code",
   "execution_count": 10,
   "id": "aad7b175",
   "metadata": {},
   "outputs": [
    {
     "name": "stderr",
     "output_type": "stream",
     "text": [
      "52it [00:38,  1.34it/s]\n"
     ]
    }
   ],
   "source": [
    "used = set()\n",
    "\n",
    "for _, row in tqdm(order_df.iterrows()):\n",
    "    order = row.order_\n",
    "\n",
    "    for cls in CLASSES:\n",
    "\n",
    "        sql = f\"\"\"\n",
    "           select coreid\n",
    "             from images join angiosperms using (coreid)\n",
    "            where order_ = ? and {cls} = 1\n",
    "         order by random()\"\"\"\n",
    "\n",
    "        rows = db.rows_as_dicts(DB, sql, [order])\n",
    "\n",
    "        coreids = {row['coreid'] for row in rows} - used\n",
    "        used |= coreids\n",
    "\n",
    "        recs = [{'split_set': SPLIT_RUN, 'coreid': i} for i in coreids]\n",
    "\n",
    "        count = len(coreids)\n",
    "\n",
    "        test_split = round(count * 0.2)\n",
    "        val_split = round(count * 0.4)\n",
    "\n",
    "        for i in range(count):\n",
    "            if i <= test_split:\n",
    "                split = 'test'\n",
    "            elif i <= val_split:\n",
    "                split = 'val'\n",
    "            else:\n",
    "                split = 'train'\n",
    "\n",
    "            recs[i]['split'] = split\n",
    "\n",
    "        db.insert_splits(DB, recs)"
   ]
  },
  {
   "cell_type": "code",
   "execution_count": null,
   "id": "ca37edba",
   "metadata": {},
   "outputs": [],
   "source": []
  }
 ],
 "metadata": {
  "kernelspec": {
   "display_name": "Python 3 (ipykernel)",
   "language": "python",
   "name": "python3"
  },
  "language_info": {
   "codemirror_mode": {
    "name": "ipython",
    "version": 3
   },
   "file_extension": ".py",
   "mimetype": "text/x-python",
   "name": "python",
   "nbconvert_exporter": "python",
   "pygments_lexer": "ipython3",
   "version": "3.9.7"
  }
 },
 "nbformat": 4,
 "nbformat_minor": 5
}
