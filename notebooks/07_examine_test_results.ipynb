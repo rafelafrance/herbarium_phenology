{
 "cells": [
  {
   "cell_type": "code",
   "execution_count": 1,
   "id": "c7c8b74f",
   "metadata": {},
   "outputs": [],
   "source": [
    "import sys\n",
    "\n",
    "sys.path.append('..')"
   ]
  },
  {
   "cell_type": "code",
   "execution_count": 2,
   "id": "e28dc5e0",
   "metadata": {},
   "outputs": [],
   "source": [
    "import sqlite3\n",
    "from pathlib import Path\n",
    "from pprint import pp\n",
    "\n",
    "import pandas as pd\n",
    "from IPython.display import display\n",
    "from ipywidgets import interact\n",
    "from PIL import Image, ImageDraw\n",
    "from sklearn import metrics\n",
    "\n",
    "from herbarium.pylib import db"
   ]
  },
  {
   "cell_type": "code",
   "execution_count": 3,
   "id": "9cc3a9e6",
   "metadata": {},
   "outputs": [],
   "source": [
    "DATA = Path('..') / 'data'\n",
    "\n",
    "DB = DATA / 'angiosperms.sqlite'\n",
    "IMAGES = DATA / 'images'"
   ]
  },
  {
   "cell_type": "code",
   "execution_count": 4,
   "id": "c43216cb",
   "metadata": {},
   "outputs": [],
   "source": [
    "TEST_RUNS = \"\"\" b0_flowers_all_orders_1 b0_fruits_all_orders_1 \"\"\".split()\n",
    "\n",
    "FIELDS = [\n",
    "    ('reproductivecondition', 'reproductive condition'),\n",
    "    ('occurrenceremarks', 'occurrence remarks'),\n",
    "    ('fieldnotes', 'field notes'),\n",
    "    ('dynamicproperties', 'dynamic properties'),\n",
    "]\n",
    "\n",
    "TRAITS = [\n",
    "    ('flowering', 'not_flowering'),\n",
    "    ('fruiting', 'not_fruiting'),\n",
    "    # ('leaf_out', 'not_leaf_out'),\n",
    "]\n",
    "\n",
    "FLOWERING = db.select_test_run(DB, 'b0_flowers_all_orders_1')\n",
    "\n",
    "FRUITING = db.select_test_run(DB, 'b0_fruits_all_orders_1')"
   ]
  },
  {
   "cell_type": "code",
   "execution_count": 5,
   "id": "600b6079",
   "metadata": {},
   "outputs": [],
   "source": [
    "true_pos = [r for r in FLOWERING if r['true'] == 1 and r['true'] == round(r['pred'])]\n",
    "true_neg = [r for r in FLOWERING if r['true'] == 0 and r['true'] == round(r['pred'])]\n",
    "false_pos = [r for r in FLOWERING if r['true'] == 1 and r['true'] != round(r['pred'])]\n",
    "false_neg = [r for r in FLOWERING if r['true'] == 0 and r['true'] != round(r['pred'])]"
   ]
  },
  {
   "cell_type": "code",
   "execution_count": 6,
   "id": "c93e6cf8",
   "metadata": {},
   "outputs": [
    {
     "data": {
      "text/html": [
       "<div>\n",
       "<style scoped>\n",
       "    .dataframe tbody tr th:only-of-type {\n",
       "        vertical-align: middle;\n",
       "    }\n",
       "\n",
       "    .dataframe tbody tr th {\n",
       "        vertical-align: top;\n",
       "    }\n",
       "\n",
       "    .dataframe thead th {\n",
       "        text-align: right;\n",
       "    }\n",
       "</style>\n",
       "<table border=\"1\" class=\"dataframe\">\n",
       "  <thead>\n",
       "    <tr style=\"text-align: right;\">\n",
       "      <th>Predicted</th>\n",
       "      <th>0</th>\n",
       "      <th>1</th>\n",
       "    </tr>\n",
       "    <tr>\n",
       "      <th>Actual</th>\n",
       "      <th></th>\n",
       "      <th></th>\n",
       "    </tr>\n",
       "  </thead>\n",
       "  <tbody>\n",
       "    <tr>\n",
       "      <th>0</th>\n",
       "      <td>186</td>\n",
       "      <td>117</td>\n",
       "    </tr>\n",
       "    <tr>\n",
       "      <th>1</th>\n",
       "      <td>10</td>\n",
       "      <td>2286</td>\n",
       "    </tr>\n",
       "  </tbody>\n",
       "</table>\n",
       "</div>"
      ],
      "text/plain": [
       "Predicted    0     1\n",
       "Actual              \n",
       "0          186   117\n",
       "1           10  2286"
      ]
     },
     "execution_count": 6,
     "metadata": {},
     "output_type": "execute_result"
    }
   ],
   "source": [
    "y_true = pd.Series([round(r['true']) for r in FLOWERING])\n",
    "y_pred = pd.Series([round(r['pred']) for r in FLOWERING])\n",
    "\n",
    "df_confusion = pd.crosstab(y_true, y_pred, rownames=['Actual'], colnames=['Predicted'])\n",
    "df_confusion"
   ]
  },
  {
   "cell_type": "code",
   "execution_count": 7,
   "id": "0e86ba38",
   "metadata": {},
   "outputs": [
    {
     "data": {
      "text/html": [
       "<div>\n",
       "<style scoped>\n",
       "    .dataframe tbody tr th:only-of-type {\n",
       "        vertical-align: middle;\n",
       "    }\n",
       "\n",
       "    .dataframe tbody tr th {\n",
       "        vertical-align: top;\n",
       "    }\n",
       "\n",
       "    .dataframe thead th {\n",
       "        text-align: right;\n",
       "    }\n",
       "</style>\n",
       "<table border=\"1\" class=\"dataframe\">\n",
       "  <thead>\n",
       "    <tr style=\"text-align: right;\">\n",
       "      <th>Predicted</th>\n",
       "      <th>0</th>\n",
       "      <th>1</th>\n",
       "    </tr>\n",
       "    <tr>\n",
       "      <th>Actual</th>\n",
       "      <th></th>\n",
       "      <th></th>\n",
       "    </tr>\n",
       "  </thead>\n",
       "  <tbody>\n",
       "    <tr>\n",
       "      <th>0</th>\n",
       "      <td>0.613861</td>\n",
       "      <td>0.050958</td>\n",
       "    </tr>\n",
       "    <tr>\n",
       "      <th>1</th>\n",
       "      <td>0.033003</td>\n",
       "      <td>0.995645</td>\n",
       "    </tr>\n",
       "  </tbody>\n",
       "</table>\n",
       "</div>"
      ],
      "text/plain": [
       "Predicted         0         1\n",
       "Actual                       \n",
       "0          0.613861  0.050958\n",
       "1          0.033003  0.995645"
      ]
     },
     "execution_count": 7,
     "metadata": {},
     "output_type": "execute_result"
    }
   ],
   "source": [
    "df_conf_norm = df_confusion / df_confusion.sum(axis=1)\n",
    "df_conf_norm"
   ]
  },
  {
   "cell_type": "code",
   "execution_count": 11,
   "id": "85f06018",
   "metadata": {},
   "outputs": [
    {
     "data": {
      "application/vnd.jupyter.widget-view+json": {
       "model_id": "d19ef7b578104bc39db51b059d44fd5c",
       "version_major": 2,
       "version_minor": 0
      },
      "text/plain": [
       "interactive(children=(IntSlider(value=59, description='idx', max=117, min=1), Output()), _dom_classes=('widget…"
      ]
     },
     "metadata": {},
     "output_type": "display_data"
    },
    {
     "data": {
      "text/plain": [
       "<function __main__.flowering(idx)>"
      ]
     },
     "execution_count": 11,
     "metadata": {},
     "output_type": "execute_result"
    }
   ],
   "source": [
    "dataset = false_neg\n",
    "\n",
    "\n",
    "def flowering(idx):\n",
    "    rec = dataset[idx - 1]\n",
    "    image = Image.open(Path('..') / rec['path'])\n",
    "\n",
    "    for field, label in FIELDS:\n",
    "        print(f'{(label+\":\"):<23} {rec[field]}')\n",
    "\n",
    "    flag = ''\n",
    "    if rec['flowering']:\n",
    "        flag += '1'\n",
    "    elif rec['not_flowering']:\n",
    "        flag += '0'\n",
    "    print(f'\\n{\"flowering NLP:\":<23} {flag}')\n",
    "\n",
    "    print(f'{\"flowering model:\":<23} {round(rec[\"pred\"])} ({rec[\"pred\"]:0.4})')\n",
    "\n",
    "    display(image)\n",
    "\n",
    "\n",
    "# flowering(0)\n",
    "interact(flowering, idx=(1, len(dataset)))"
   ]
  },
  {
   "cell_type": "code",
   "execution_count": null,
   "id": "a95c2f16",
   "metadata": {},
   "outputs": [],
   "source": []
  }
 ],
 "metadata": {
  "kernelspec": {
   "display_name": "Python 3 (ipykernel)",
   "language": "python",
   "name": "python3"
  },
  "language_info": {
   "codemirror_mode": {
    "name": "ipython",
    "version": 3
   },
   "file_extension": ".py",
   "mimetype": "text/x-python",
   "name": "python",
   "nbconvert_exporter": "python",
   "pygments_lexer": "ipython3",
   "version": "3.9.7"
  }
 },
 "nbformat": 4,
 "nbformat_minor": 5
}
