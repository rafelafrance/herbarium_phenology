{
 "cells": [
  {
   "cell_type": "code",
   "execution_count": 1,
   "id": "5f4130e3",
   "metadata": {},
   "outputs": [],
   "source": [
    "import sys\n",
    "\n",
    "sys.path.append('..')"
   ]
  },
  {
   "cell_type": "code",
   "execution_count": 13,
   "id": "367a7392",
   "metadata": {},
   "outputs": [],
   "source": [
    "import sqlite3\n",
    "import textwrap\n",
    "from collections import namedtuple\n",
    "from datetime import date\n",
    "from pathlib import Path\n",
    "from pprint import pp\n",
    "\n",
    "import pandas as pd\n",
    "from IPython.display import display\n",
    "from ipywidgets import interact\n",
    "from PIL import Image, ImageColor, ImageDraw, ImageFont\n",
    "from sklearn import metrics\n",
    "from tqdm import tqdm\n",
    "\n",
    "from herbarium.pylib import db"
   ]
  },
  {
   "cell_type": "code",
   "execution_count": 9,
   "id": "b2dec54a",
   "metadata": {},
   "outputs": [],
   "source": [
    "DATA = Path('..') / 'data'\n",
    "\n",
    "DB = DATA / 'angiosperms.sqlite'\n",
    "IMAGES = DATA / 'images'\n",
    "TEMP = DATA / 'temp'"
   ]
  },
  {
   "cell_type": "code",
   "execution_count": 10,
   "id": "dc52808e",
   "metadata": {},
   "outputs": [],
   "source": [
    "TODAY = date.today().isoformat()\n",
    "\n",
    "TEST_RUNS = \"\"\" b0_flowers_all_orders_1 b0_fruits_all_orders_1 \"\"\".split()\n",
    "\n",
    "FIELDS = [\n",
    "    ('reproductivecondition', 'reproductive condition'),\n",
    "    ('occurrenceremarks', 'occurrence remarks'),\n",
    "    ('fieldnotes', 'field notes'),\n",
    "    ('dynamicproperties', 'dynamic properties'),\n",
    "]\n",
    "\n",
    "TRAITS = [\n",
    "    ('flowering', 'not_flowering'),\n",
    "    ('fruiting', 'not_fruiting'),\n",
    "    # ('leaf_out', 'not_leaf_out'),\n",
    "]\n",
    "\n",
    "FLOWERING = db.select_test_run(DB, 'b0_flowers_all_orders_1')\n",
    "FRUITING = db.select_test_run(DB, 'b0_fruits_all_orders_1')"
   ]
  },
  {
   "cell_type": "markdown",
   "id": "37480313",
   "metadata": {},
   "source": [
    "# Confusion matrix per order"
   ]
  },
  {
   "cell_type": "code",
   "execution_count": 7,
   "id": "baddbc33",
   "metadata": {},
   "outputs": [],
   "source": [
    "traits = [\n",
    "    ('flowering', FLOWERING),\n",
    "    ('fruiting', FRUITING),\n",
    "]\n",
    "\n",
    "orders = db.select_all_orders(DB)"
   ]
  },
  {
   "cell_type": "code",
   "execution_count": 19,
   "id": "267baf07",
   "metadata": {},
   "outputs": [],
   "source": [
    "per_order = []\n",
    "\n",
    "for trait_name, test_recs in traits:\n",
    "    for order in orders:\n",
    "        order_recs = [r for r in test_recs if r['order_'] == order]\n",
    "        if not order_recs:\n",
    "            continue\n",
    "        per_order.append({\n",
    "            'trait': trait_name,\n",
    "            'order': order,\n",
    "            'true_pos': sum(1 for r in order_recs if r['true'] == 1 and round(r['pred']) == 1),\n",
    "            'true_neg': sum(1 for r in order_recs if r['true'] == 0 and round(r['pred']) == 0),\n",
    "            'false_pos': sum(1 for r in order_recs if r['true'] == 0 and round(r['pred']) == 1),\n",
    "            'false_neg': sum(1 for r in order_recs if r['true'] == 1 and round(r['pred']) == 0),\n",
    "        })"
   ]
  },
  {
   "cell_type": "code",
   "execution_count": 20,
   "id": "83754e56",
   "metadata": {},
   "outputs": [],
   "source": [
    "df = pd.DataFrame(per_order)\n",
    "path = TEMP / f'results_per_order_{TODAY}.csv'\n",
    "df.to_csv(path, index=False)"
   ]
  },
  {
   "cell_type": "code",
   "execution_count": 21,
   "id": "8d4cbbee",
   "metadata": {},
   "outputs": [
    {
     "data": {
      "text/html": [
       "<div>\n",
       "<style scoped>\n",
       "    .dataframe tbody tr th:only-of-type {\n",
       "        vertical-align: middle;\n",
       "    }\n",
       "\n",
       "    .dataframe tbody tr th {\n",
       "        vertical-align: top;\n",
       "    }\n",
       "\n",
       "    .dataframe thead th {\n",
       "        text-align: right;\n",
       "    }\n",
       "</style>\n",
       "<table border=\"1\" class=\"dataframe\">\n",
       "  <thead>\n",
       "    <tr style=\"text-align: right;\">\n",
       "      <th></th>\n",
       "      <th>trait</th>\n",
       "      <th>order</th>\n",
       "      <th>true_pos</th>\n",
       "      <th>true_neg</th>\n",
       "      <th>false_pos</th>\n",
       "      <th>false_neg</th>\n",
       "    </tr>\n",
       "  </thead>\n",
       "  <tbody>\n",
       "    <tr>\n",
       "      <th>0</th>\n",
       "      <td>flowering</td>\n",
       "      <td>acorales</td>\n",
       "      <td>0</td>\n",
       "      <td>1</td>\n",
       "      <td>0</td>\n",
       "      <td>1</td>\n",
       "    </tr>\n",
       "    <tr>\n",
       "      <th>1</th>\n",
       "      <td>flowering</td>\n",
       "      <td>alismatales</td>\n",
       "      <td>5</td>\n",
       "      <td>9</td>\n",
       "      <td>0</td>\n",
       "      <td>3</td>\n",
       "    </tr>\n",
       "    <tr>\n",
       "      <th>2</th>\n",
       "      <td>flowering</td>\n",
       "      <td>apiales</td>\n",
       "      <td>25</td>\n",
       "      <td>4</td>\n",
       "      <td>1</td>\n",
       "      <td>2</td>\n",
       "    </tr>\n",
       "    <tr>\n",
       "      <th>3</th>\n",
       "      <td>flowering</td>\n",
       "      <td>aquifoliales</td>\n",
       "      <td>2</td>\n",
       "      <td>1</td>\n",
       "      <td>0</td>\n",
       "      <td>0</td>\n",
       "    </tr>\n",
       "    <tr>\n",
       "      <th>4</th>\n",
       "      <td>flowering</td>\n",
       "      <td>arecales</td>\n",
       "      <td>3</td>\n",
       "      <td>0</td>\n",
       "      <td>1</td>\n",
       "      <td>0</td>\n",
       "    </tr>\n",
       "  </tbody>\n",
       "</table>\n",
       "</div>"
      ],
      "text/plain": [
       "       trait         order  true_pos  true_neg  false_pos  false_neg\n",
       "0  flowering      acorales         0         1          0          1\n",
       "1  flowering   alismatales         5         9          0          3\n",
       "2  flowering       apiales        25         4          1          2\n",
       "3  flowering  aquifoliales         2         1          0          0\n",
       "4  flowering      arecales         3         0          1          0"
      ]
     },
     "execution_count": 21,
     "metadata": {},
     "output_type": "execute_result"
    }
   ],
   "source": [
    "df.head()"
   ]
  },
  {
   "cell_type": "markdown",
   "id": "501a0fdb",
   "metadata": {},
   "source": [
    "# Flowering results"
   ]
  },
  {
   "cell_type": "code",
   "execution_count": 22,
   "id": "f2e5bbae",
   "metadata": {},
   "outputs": [],
   "source": [
    "pad = 8\n",
    "color = 'black'\n",
    "\n",
    "Text = namedtuple('Text', 'x y bbox text')"
   ]
  },
  {
   "cell_type": "code",
   "execution_count": 23,
   "id": "aab81e69",
   "metadata": {},
   "outputs": [],
   "source": [
    "indent = ' ' * 24\n",
    "\n",
    "def build_text(draw, font, texts, text, x, y):\n",
    "    for t in textwrap.wrap(text, subsequent_indent=indent):\n",
    "        bbox = draw.textbbox((0, 0), t, font, anchor='lt')\n",
    "        texts.append(Text(x, y, bbox, t))\n",
    "        y += bbox[3] + pad\n",
    "    return y"
   ]
  },
  {
   "cell_type": "code",
   "execution_count": 24,
   "id": "c25ee6f4",
   "metadata": {},
   "outputs": [],
   "source": [
    "true_pos = [r for r in FLOWERING if r['true'] == 1 and r['true'] == round(r['pred'])]\n",
    "true_neg = [r for r in FLOWERING if r['true'] == 0 and r['true'] == round(r['pred'])]\n",
    "false_pos = [r for r in FLOWERING if r['true'] == 1 and r['true'] != round(r['pred'])]\n",
    "false_neg = [r for r in FLOWERING if r['true'] == 0 and r['true'] != round(r['pred'])]"
   ]
  },
  {
   "cell_type": "code",
   "execution_count": 25,
   "id": "bdc86ac0",
   "metadata": {},
   "outputs": [
    {
     "data": {
      "text/html": [
       "<div>\n",
       "<style scoped>\n",
       "    .dataframe tbody tr th:only-of-type {\n",
       "        vertical-align: middle;\n",
       "    }\n",
       "\n",
       "    .dataframe tbody tr th {\n",
       "        vertical-align: top;\n",
       "    }\n",
       "\n",
       "    .dataframe thead th {\n",
       "        text-align: right;\n",
       "    }\n",
       "</style>\n",
       "<table border=\"1\" class=\"dataframe\">\n",
       "  <thead>\n",
       "    <tr style=\"text-align: right;\">\n",
       "      <th>Predicted</th>\n",
       "      <th>0</th>\n",
       "      <th>1</th>\n",
       "    </tr>\n",
       "    <tr>\n",
       "      <th>Actual</th>\n",
       "      <th></th>\n",
       "      <th></th>\n",
       "    </tr>\n",
       "  </thead>\n",
       "  <tbody>\n",
       "    <tr>\n",
       "      <th>0</th>\n",
       "      <td>284</td>\n",
       "      <td>19</td>\n",
       "    </tr>\n",
       "    <tr>\n",
       "      <th>1</th>\n",
       "      <td>110</td>\n",
       "      <td>2186</td>\n",
       "    </tr>\n",
       "  </tbody>\n",
       "</table>\n",
       "</div>"
      ],
      "text/plain": [
       "Predicted    0     1\n",
       "Actual              \n",
       "0          284    19\n",
       "1          110  2186"
      ]
     },
     "execution_count": 25,
     "metadata": {},
     "output_type": "execute_result"
    }
   ],
   "source": [
    "y_true = pd.Series([round(r['true']) for r in FLOWERING])\n",
    "y_pred = pd.Series([round(r['pred']) for r in FLOWERING])\n",
    "\n",
    "df_confusion = pd.crosstab(y_true, y_pred, rownames=['Actual'], colnames=['Predicted'])\n",
    "df_confusion"
   ]
  },
  {
   "cell_type": "code",
   "execution_count": 39,
   "id": "ec900f17",
   "metadata": {},
   "outputs": [],
   "source": [
    "DATASET = false_neg\n",
    "CONFUSION = 'false_neg'\n",
    "\n",
    "DIR = DATA / 'temp' / f'flowering_{TODAY}' / CONFUSION\n",
    "DIR.mkdir(exist_ok=True, parents=True)"
   ]
  },
  {
   "cell_type": "code",
   "execution_count": 35,
   "id": "5a7fc545",
   "metadata": {},
   "outputs": [],
   "source": [
    "def flowering(idx):\n",
    "    rec = DATASET[idx - 1]\n",
    "    image = Image.open(Path('..') / rec['path'])\n",
    "\n",
    "    font = ImageFont.truetype(str(DATA / 'fonts' / 'SourceCodePro-Regular.ttf'), 64)\n",
    "    draw = ImageDraw.Draw(image)\n",
    "\n",
    "    texts = []\n",
    "\n",
    "    x, y = 10, 10\n",
    "    w, h = image.size\n",
    "    \n",
    "    text = f'{\"confusion:\":<23} {CONFUSION}'\n",
    "    y = build_text(draw, font, texts, text, x, y)\n",
    "\n",
    "    text = f'{\"coreid:\":<23} {rec[\"coreid\"]}'\n",
    "    y = build_text(draw, font, texts, text, x, y)\n",
    "\n",
    "    for field, label in FIELDS:\n",
    "        text = f'{(label+\":\"):<23} {rec[field]}'\n",
    "        y = build_text(draw, font, texts, text, x, y)\n",
    "\n",
    "    flag = ''\n",
    "    if rec['flowering']:\n",
    "        flag += '1'\n",
    "    elif rec['not_flowering']:\n",
    "        flag += '0'\n",
    "\n",
    "    text = f'{\"flowering NLP:\":<23} {flag}'\n",
    "    y = build_text(draw, font, texts, text, x, y)\n",
    "\n",
    "    text = f'{\"flowering model:\":<23} {round(rec[\"pred\"])} ({rec[\"pred\"]:0.4})'\n",
    "    y = build_text(draw, font, texts, text, x, y)\n",
    "\n",
    "    max_x = max(t.bbox[2] for t in texts)\n",
    "    draw.rectangle((0, 0, max_x + 32, y + 32), fill='#eeeeee')\n",
    "\n",
    "    for t in texts:\n",
    "        draw.text((t.x, t.y), t.text, color, font=font)\n",
    "\n",
    "    path = DIR / f'{rec[\"coreid\"]}.jpg'\n",
    "    image.save(path, 'JPEG')\n",
    "    \n",
    "    # display(image)\n",
    "\n",
    "\n",
    "# flowering(19)\n",
    "# interact(flowering, idx=(1, len(dataset)))"
   ]
  },
  {
   "cell_type": "code",
   "execution_count": 40,
   "id": "ceb1b590",
   "metadata": {},
   "outputs": [
    {
     "name": "stderr",
     "output_type": "stream",
     "text": [
      "19it [00:15,  1.22it/s]\n"
     ]
    }
   ],
   "source": [
    "for i, _ in tqdm(enumerate(DATASET[:100], 1)):\n",
    "    flowering(i)"
   ]
  },
  {
   "cell_type": "markdown",
   "id": "29035482",
   "metadata": {},
   "source": [
    "# Fruiting results"
   ]
  },
  {
   "cell_type": "code",
   "execution_count": 41,
   "id": "8693fc13",
   "metadata": {},
   "outputs": [],
   "source": [
    "true_pos = [r for r in FRUITING if r['true'] == 1 and r['true'] == round(r['pred'])]\n",
    "true_neg = [r for r in FRUITING if r['true'] == 0 and r['true'] == round(r['pred'])]\n",
    "false_pos = [r for r in FRUITING if r['true'] == 1 and r['true'] != round(r['pred'])]\n",
    "false_neg = [r for r in FRUITING if r['true'] == 0 and r['true'] != round(r['pred'])]"
   ]
  },
  {
   "cell_type": "code",
   "execution_count": 42,
   "id": "28847f64",
   "metadata": {},
   "outputs": [
    {
     "data": {
      "text/html": [
       "<div>\n",
       "<style scoped>\n",
       "    .dataframe tbody tr th:only-of-type {\n",
       "        vertical-align: middle;\n",
       "    }\n",
       "\n",
       "    .dataframe tbody tr th {\n",
       "        vertical-align: top;\n",
       "    }\n",
       "\n",
       "    .dataframe thead th {\n",
       "        text-align: right;\n",
       "    }\n",
       "</style>\n",
       "<table border=\"1\" class=\"dataframe\">\n",
       "  <thead>\n",
       "    <tr style=\"text-align: right;\">\n",
       "      <th>Predicted</th>\n",
       "      <th>0</th>\n",
       "      <th>1</th>\n",
       "    </tr>\n",
       "    <tr>\n",
       "      <th>Actual</th>\n",
       "      <th></th>\n",
       "      <th></th>\n",
       "    </tr>\n",
       "  </thead>\n",
       "  <tbody>\n",
       "    <tr>\n",
       "      <th>0</th>\n",
       "      <td>267</td>\n",
       "      <td>54</td>\n",
       "    </tr>\n",
       "    <tr>\n",
       "      <th>1</th>\n",
       "      <td>156</td>\n",
       "      <td>797</td>\n",
       "    </tr>\n",
       "  </tbody>\n",
       "</table>\n",
       "</div>"
      ],
      "text/plain": [
       "Predicted    0    1\n",
       "Actual             \n",
       "0          267   54\n",
       "1          156  797"
      ]
     },
     "execution_count": 42,
     "metadata": {},
     "output_type": "execute_result"
    }
   ],
   "source": [
    "y_true = pd.Series([round(r['true']) for r in FRUITING])\n",
    "y_pred = pd.Series([round(r['pred']) for r in FRUITING])\n",
    "\n",
    "df_confusion = pd.crosstab(y_true, y_pred, rownames=['Actual'], colnames=['Predicted'])\n",
    "df_confusion"
   ]
  },
  {
   "cell_type": "code",
   "execution_count": 52,
   "id": "eccafa73",
   "metadata": {},
   "outputs": [],
   "source": [
    "DATASET = false_neg\n",
    "CONFUSION = 'false_neg'\n",
    "\n",
    "DIR = DATA / 'temp' / f'fruiting_{TODAY}' / CONFUSION\n",
    "DIR.mkdir(exist_ok=True, parents=True)"
   ]
  },
  {
   "cell_type": "code",
   "execution_count": 46,
   "id": "a6109b14",
   "metadata": {},
   "outputs": [],
   "source": [
    "def fruiting(idx):\n",
    "    rec = DATASET[idx - 1]\n",
    "    image = Image.open(Path('..') / rec['path'])\n",
    "\n",
    "    font = ImageFont.truetype(str(DATA / 'fonts' / 'SourceCodePro-Regular.ttf'), 64)\n",
    "    draw = ImageDraw.Draw(image)\n",
    "\n",
    "    texts = []\n",
    "\n",
    "    x, y = 10, 10\n",
    "    w, h = image.size\n",
    "    \n",
    "    text = f'{\"confusion:\":<23} {CONFUSION}'\n",
    "    y = build_text(draw, font, texts, text, x, y)\n",
    "\n",
    "    text = f'{\"coreid:\":<23} {rec[\"coreid\"]}'\n",
    "    y = build_text(draw, font, texts, text, x, y)\n",
    "\n",
    "    for field, label in FIELDS:\n",
    "        text = f'{(label+\":\"):<23} {rec[field]}'\n",
    "        y = build_text(draw, font, texts, text, x, y)\n",
    "\n",
    "    flag = ''\n",
    "    if rec['fruiting']:\n",
    "        flag += '1'\n",
    "    elif rec['not_fruiting']:\n",
    "        flag += '0'\n",
    "\n",
    "    text = f'{\"fruiting NLP:\":<23} {flag}'\n",
    "    y = build_text(draw, font, texts, text, x, y)\n",
    "\n",
    "    text = f'{\"fruiting model:\":<23} {round(rec[\"pred\"])} ({rec[\"pred\"]:0.4})'\n",
    "    y = build_text(draw, font, texts, text, x, y)\n",
    "\n",
    "    max_x = max(t.bbox[2] for t in texts)\n",
    "    draw.rectangle((0, 0, max_x + 32, y + 32), fill='#eeeeee')\n",
    "\n",
    "    for t in texts:\n",
    "        draw.text((t.x, t.y), t.text, color, font=font)\n",
    "\n",
    "    path = DIR / f'{rec[\"coreid\"]}.jpg'\n",
    "    image.save(path, 'JPEG')\n",
    "\n",
    "    # display(image)\n",
    "\n",
    "\n",
    "# fruiting(19)\n",
    "# interact(fruiting, idx=(1, len(dataset)))"
   ]
  },
  {
   "cell_type": "code",
   "execution_count": 53,
   "id": "ddb32b9e",
   "metadata": {},
   "outputs": [
    {
     "name": "stderr",
     "output_type": "stream",
     "text": [
      "33it [00:22,  1.17it/s]/home/rafe/work/phenology/.venv/lib/python3.9/site-packages/PIL/TiffImagePlugin.py:819: UserWarning: Corrupt EXIF data.  Expecting to read 12 bytes but only got 10. \n",
      "  warnings.warn(str(msg))\n",
      "54it [00:45,  1.19it/s]\n"
     ]
    }
   ],
   "source": [
    "for i, _ in tqdm(enumerate(DATASET[:100], 1)):\n",
    "    fruiting(i)"
   ]
  },
  {
   "cell_type": "code",
   "execution_count": null,
   "id": "7f5aade1",
   "metadata": {},
   "outputs": [],
   "source": []
  }
 ],
 "metadata": {
  "kernelspec": {
   "display_name": "Python 3 (ipykernel)",
   "language": "python",
   "name": "python3"
  },
  "language_info": {
   "codemirror_mode": {
    "name": "ipython",
    "version": 3
   },
   "file_extension": ".py",
   "mimetype": "text/x-python",
   "name": "python",
   "nbconvert_exporter": "python",
   "pygments_lexer": "ipython3",
   "version": "3.9.7"
  }
 },
 "nbformat": 4,
 "nbformat_minor": 5
}
