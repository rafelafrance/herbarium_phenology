{
 "cells": [
  {
   "cell_type": "markdown",
   "id": "8251209e",
   "metadata": {},
   "source": [
    "This notebook can be greatly improved. There are too hard-coded values and too much duplicate code."
   ]
  },
  {
   "cell_type": "code",
   "execution_count": 1,
   "id": "5f4130e3",
   "metadata": {},
   "outputs": [],
   "source": [
    "import sys\n",
    "\n",
    "sys.path.append('..')"
   ]
  },
  {
   "cell_type": "code",
   "execution_count": 2,
   "id": "367a7392",
   "metadata": {},
   "outputs": [],
   "source": [
    "import sqlite3\n",
    "import textwrap\n",
    "from collections import namedtuple\n",
    "from pathlib import Path\n",
    "from pprint import pp\n",
    "\n",
    "import pandas as pd\n",
    "from IPython.display import display\n",
    "from ipywidgets import interact\n",
    "from PIL import Image, ImageColor, ImageDraw, ImageFont\n",
    "from sklearn import metrics\n",
    "\n",
    "from herbarium.pylib import db"
   ]
  },
  {
   "cell_type": "code",
   "execution_count": 3,
   "id": "b2dec54a",
   "metadata": {},
   "outputs": [],
   "source": [
    "DATA = Path('..') / 'data'\n",
    "\n",
    "DB = DATA / 'angiosperms.sqlite'\n",
    "IMAGES = DATA / 'images'"
   ]
  },
  {
   "cell_type": "code",
   "execution_count": 4,
   "id": "dc52808e",
   "metadata": {},
   "outputs": [],
   "source": [
    "TEST_RUNS = \"\"\" b0_flowers_all_orders_1 b0_fruits_all_orders_1 \"\"\".split()\n",
    "\n",
    "FIELDS = [\n",
    "    ('reproductivecondition', 'reproductive condition'),\n",
    "    ('occurrenceremarks', 'occurrence remarks'),\n",
    "    ('fieldnotes', 'field notes'),\n",
    "    ('dynamicproperties', 'dynamic properties'),\n",
    "]\n",
    "\n",
    "TRAITS = [\n",
    "    ('flowering', 'not_flowering'),\n",
    "    ('fruiting', 'not_fruiting'),\n",
    "    # ('leaf_out', 'not_leaf_out'),\n",
    "]\n",
    "\n",
    "FLOWERING = db.select_test_run(DB, 'b0_flowers_all_orders_1')\n",
    "\n",
    "FRUITING = db.select_test_run(DB, 'b0_fruits_all_orders_1')"
   ]
  },
  {
   "cell_type": "code",
   "execution_count": 8,
   "id": "f2e5bbae",
   "metadata": {},
   "outputs": [],
   "source": [
    "pad = 8\n",
    "color = 'black'\n",
    "\n",
    "Text = namedtuple('Text', 'x y bbox text')"
   ]
  },
  {
   "cell_type": "code",
   "execution_count": 9,
   "id": "aab81e69",
   "metadata": {},
   "outputs": [],
   "source": [
    "indent = ' ' * 24\n",
    "\n",
    "def build_text(draw, font, texts, text, x, y):\n",
    "    for t in textwrap.wrap(text, subsequent_indent=indent):\n",
    "        bbox = draw.textbbox((0, 0), t, font, anchor='lt')\n",
    "        texts.append(Text(x, y, bbox, t))\n",
    "        y += bbox[3] + pad\n",
    "    return y"
   ]
  },
  {
   "cell_type": "markdown",
   "id": "501a0fdb",
   "metadata": {},
   "source": [
    "# Flowering results"
   ]
  },
  {
   "cell_type": "code",
   "execution_count": 5,
   "id": "c25ee6f4",
   "metadata": {},
   "outputs": [],
   "source": [
    "true_pos = [r for r in FLOWERING if r['true'] == 1 and r['true'] == round(r['pred'])]\n",
    "true_neg = [r for r in FLOWERING if r['true'] == 0 and r['true'] == round(r['pred'])]\n",
    "false_pos = [r for r in FLOWERING if r['true'] == 1 and r['true'] != round(r['pred'])]\n",
    "false_neg = [r for r in FLOWERING if r['true'] == 0 and r['true'] != round(r['pred'])]"
   ]
  },
  {
   "cell_type": "code",
   "execution_count": 6,
   "id": "bdc86ac0",
   "metadata": {},
   "outputs": [
    {
     "data": {
      "text/html": [
       "<div>\n",
       "<style scoped>\n",
       "    .dataframe tbody tr th:only-of-type {\n",
       "        vertical-align: middle;\n",
       "    }\n",
       "\n",
       "    .dataframe tbody tr th {\n",
       "        vertical-align: top;\n",
       "    }\n",
       "\n",
       "    .dataframe thead th {\n",
       "        text-align: right;\n",
       "    }\n",
       "</style>\n",
       "<table border=\"1\" class=\"dataframe\">\n",
       "  <thead>\n",
       "    <tr style=\"text-align: right;\">\n",
       "      <th>Predicted</th>\n",
       "      <th>0</th>\n",
       "      <th>1</th>\n",
       "    </tr>\n",
       "    <tr>\n",
       "      <th>Actual</th>\n",
       "      <th></th>\n",
       "      <th></th>\n",
       "    </tr>\n",
       "  </thead>\n",
       "  <tbody>\n",
       "    <tr>\n",
       "      <th>0</th>\n",
       "      <td>284</td>\n",
       "      <td>19</td>\n",
       "    </tr>\n",
       "    <tr>\n",
       "      <th>1</th>\n",
       "      <td>110</td>\n",
       "      <td>2186</td>\n",
       "    </tr>\n",
       "  </tbody>\n",
       "</table>\n",
       "</div>"
      ],
      "text/plain": [
       "Predicted    0     1\n",
       "Actual              \n",
       "0          284    19\n",
       "1          110  2186"
      ]
     },
     "execution_count": 6,
     "metadata": {},
     "output_type": "execute_result"
    }
   ],
   "source": [
    "y_true = pd.Series([round(r['true']) for r in FLOWERING])\n",
    "y_pred = pd.Series([round(r['pred']) for r in FLOWERING])\n",
    "\n",
    "df_confusion = pd.crosstab(y_true, y_pred, rownames=['Actual'], colnames=['Predicted'])\n",
    "df_confusion"
   ]
  },
  {
   "cell_type": "code",
   "execution_count": 35,
   "id": "ec900f17",
   "metadata": {},
   "outputs": [],
   "source": [
    "DATASET = true_neg\n",
    "CONFUSION = 'true_neg'\n",
    "\n",
    "DIR = DATA / 'temp' / CONFUSION\n",
    "DIR.mkdir(exist_ok=True)"
   ]
  },
  {
   "cell_type": "code",
   "execution_count": 36,
   "id": "5a7fc545",
   "metadata": {},
   "outputs": [],
   "source": [
    "def flowering(idx):\n",
    "    rec = DATASET[idx - 1]\n",
    "    image = Image.open(Path('..') / rec['path'])\n",
    "\n",
    "    font = ImageFont.truetype(str(DATA / 'fonts' / 'SourceCodePro-Regular.ttf'), 64)\n",
    "    draw = ImageDraw.Draw(image)\n",
    "\n",
    "    texts = []\n",
    "\n",
    "    x, y = 10, 10\n",
    "    w, h = image.size\n",
    "    \n",
    "    text = f'{\"confusion:\":<23} {CONFUSION}'\n",
    "    y = build_text(draw, font, texts, text, x, y)\n",
    "\n",
    "    text = f'{\"coreid:\":<23} {rec[\"coreid\"]}'\n",
    "    y = build_text(draw, font, texts, text, x, y)\n",
    "\n",
    "    for field, label in FIELDS:\n",
    "        text = f'{(label+\":\"):<23} {rec[field]}'\n",
    "        y = build_text(draw, font, texts, text, x, y)\n",
    "\n",
    "    flag = ''\n",
    "    if rec['flowering']:\n",
    "        flag += '1'\n",
    "    elif rec['not_flowering']:\n",
    "        flag += '0'\n",
    "\n",
    "    text = f'{\"flowering NLP:\":<23} {flag}'\n",
    "    y = build_text(draw, font, texts, text, x, y)\n",
    "\n",
    "    text = f'{\"flowering model:\":<23} {round(rec[\"pred\"])} ({rec[\"pred\"]:0.4})'\n",
    "    y = build_text(draw, font, texts, text, x, y)\n",
    "\n",
    "    max_x = max(t.bbox[2] for t in texts)\n",
    "    draw.rectangle((0, 0, max_x + 32, y + 32), fill='#eeeeee')\n",
    "\n",
    "    for t in texts:\n",
    "        draw.text((t.x, t.y), t.text, color, font=font)\n",
    "\n",
    "    path = DIR / f'{rec[\"coreid\"]}.jpg'\n",
    "    image.save(path, 'JPEG')\n",
    "    \n",
    "    # display(image)\n",
    "\n",
    "\n",
    "# flowering(19)\n",
    "# interact(flowering, idx=(1, len(dataset)))"
   ]
  },
  {
   "cell_type": "code",
   "execution_count": 37,
   "id": "ceb1b590",
   "metadata": {},
   "outputs": [],
   "source": [
    "for i, _ in enumerate(DATASET[:20], 1):\n",
    "    flowering(i)"
   ]
  },
  {
   "cell_type": "markdown",
   "id": "29035482",
   "metadata": {},
   "source": [
    "# Fruiting results"
   ]
  },
  {
   "cell_type": "code",
   "execution_count": 38,
   "id": "8693fc13",
   "metadata": {},
   "outputs": [],
   "source": [
    "true_pos = [r for r in FRUITING if r['true'] == 1 and r['true'] == round(r['pred'])]\n",
    "true_neg = [r for r in FRUITING if r['true'] == 0 and r['true'] == round(r['pred'])]\n",
    "false_pos = [r for r in FRUITING if r['true'] == 1 and r['true'] != round(r['pred'])]\n",
    "false_neg = [r for r in FRUITING if r['true'] == 0 and r['true'] != round(r['pred'])]"
   ]
  },
  {
   "cell_type": "code",
   "execution_count": 39,
   "id": "28847f64",
   "metadata": {},
   "outputs": [
    {
     "data": {
      "text/html": [
       "<div>\n",
       "<style scoped>\n",
       "    .dataframe tbody tr th:only-of-type {\n",
       "        vertical-align: middle;\n",
       "    }\n",
       "\n",
       "    .dataframe tbody tr th {\n",
       "        vertical-align: top;\n",
       "    }\n",
       "\n",
       "    .dataframe thead th {\n",
       "        text-align: right;\n",
       "    }\n",
       "</style>\n",
       "<table border=\"1\" class=\"dataframe\">\n",
       "  <thead>\n",
       "    <tr style=\"text-align: right;\">\n",
       "      <th>Predicted</th>\n",
       "      <th>0</th>\n",
       "      <th>1</th>\n",
       "    </tr>\n",
       "    <tr>\n",
       "      <th>Actual</th>\n",
       "      <th></th>\n",
       "      <th></th>\n",
       "    </tr>\n",
       "  </thead>\n",
       "  <tbody>\n",
       "    <tr>\n",
       "      <th>0</th>\n",
       "      <td>267</td>\n",
       "      <td>54</td>\n",
       "    </tr>\n",
       "    <tr>\n",
       "      <th>1</th>\n",
       "      <td>156</td>\n",
       "      <td>797</td>\n",
       "    </tr>\n",
       "  </tbody>\n",
       "</table>\n",
       "</div>"
      ],
      "text/plain": [
       "Predicted    0    1\n",
       "Actual             \n",
       "0          267   54\n",
       "1          156  797"
      ]
     },
     "execution_count": 39,
     "metadata": {},
     "output_type": "execute_result"
    }
   ],
   "source": [
    "y_true = pd.Series([round(r['true']) for r in FRUITING])\n",
    "y_pred = pd.Series([round(r['pred']) for r in FRUITING])\n",
    "\n",
    "df_confusion = pd.crosstab(y_true, y_pred, rownames=['Actual'], colnames=['Predicted'])\n",
    "df_confusion"
   ]
  },
  {
   "cell_type": "code",
   "execution_count": 55,
   "id": "eccafa73",
   "metadata": {},
   "outputs": [],
   "source": [
    "DATASET = false_neg\n",
    "CONFUSION = 'false_neg'\n",
    "\n",
    "DIR = DATA / 'temp' / CONFUSION\n",
    "DIR.mkdir(exist_ok=True)"
   ]
  },
  {
   "cell_type": "code",
   "execution_count": 56,
   "id": "a6109b14",
   "metadata": {},
   "outputs": [],
   "source": [
    "def fruiting(idx):\n",
    "    rec = DATASET[idx - 1]\n",
    "    image = Image.open(Path('..') / rec['path'])\n",
    "\n",
    "    font = ImageFont.truetype(str(DATA / 'fonts' / 'SourceCodePro-Regular.ttf'), 64)\n",
    "    draw = ImageDraw.Draw(image)\n",
    "\n",
    "    texts = []\n",
    "\n",
    "    x, y = 10, 10\n",
    "    w, h = image.size\n",
    "    \n",
    "    text = f'{\"confusion:\":<23} {CONFUSION}'\n",
    "    y = build_text(draw, font, texts, text, x, y)\n",
    "\n",
    "    text = f'{\"coreid:\":<23} {rec[\"coreid\"]}'\n",
    "    y = build_text(draw, font, texts, text, x, y)\n",
    "\n",
    "    for field, label in FIELDS:\n",
    "        text = f'{(label+\":\"):<23} {rec[field]}'\n",
    "        y = build_text(draw, font, texts, text, x, y)\n",
    "\n",
    "    flag = ''\n",
    "    if rec['fruiting']:\n",
    "        flag += '1'\n",
    "    elif rec['not_fruiting']:\n",
    "        flag += '0'\n",
    "\n",
    "    text = f'{\"fruiting NLP:\":<23} {flag}'\n",
    "    y = build_text(draw, font, texts, text, x, y)\n",
    "\n",
    "    text = f'{\"fruiting model:\":<23} {round(rec[\"pred\"])} ({rec[\"pred\"]:0.4})'\n",
    "    y = build_text(draw, font, texts, text, x, y)\n",
    "\n",
    "    max_x = max(t.bbox[2] for t in texts)\n",
    "    draw.rectangle((0, 0, max_x + 32, y + 32), fill='#eeeeee')\n",
    "\n",
    "    for t in texts:\n",
    "        draw.text((t.x, t.y), t.text, color, font=font)\n",
    "\n",
    "    path = DIR / f'{rec[\"coreid\"]}.jpg'\n",
    "    image.save(path, 'JPEG')\n",
    "\n",
    "    # display(image)\n",
    "\n",
    "\n",
    "# fruiting(19)\n",
    "# interact(fruiting, idx=(1, len(dataset)))"
   ]
  },
  {
   "cell_type": "code",
   "execution_count": 57,
   "id": "ddb32b9e",
   "metadata": {},
   "outputs": [],
   "source": [
    "for i, _ in enumerate(DATASET[:20], 1):\n",
    "    fruiting(i)"
   ]
  },
  {
   "cell_type": "code",
   "execution_count": null,
   "id": "7f5aade1",
   "metadata": {},
   "outputs": [],
   "source": []
  }
 ],
 "metadata": {
  "kernelspec": {
   "display_name": "Python 3 (ipykernel)",
   "language": "python",
   "name": "python3"
  },
  "language_info": {
   "codemirror_mode": {
    "name": "ipython",
    "version": 3
   },
   "file_extension": ".py",
   "mimetype": "text/x-python",
   "name": "python",
   "nbconvert_exporter": "python",
   "pygments_lexer": "ipython3",
   "version": "3.9.7"
  }
 },
 "nbformat": 4,
 "nbformat_minor": 5
}
