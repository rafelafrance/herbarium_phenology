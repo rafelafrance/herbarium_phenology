{
 "cells": [
  {
   "cell_type": "markdown",
   "id": "6a1ae71e",
   "metadata": {},
   "source": [
    "# iDigBio load"
   ]
  },
  {
   "cell_type": "markdown",
   "id": "2b9132d6",
   "metadata": {},
   "source": [
    "We will need labeled images for training our classifier models. iDigBio data has many multi-modal records that we can leverage for getting training data.\n",
    "\n",
    "We first need to go to the [iDigBio site](https://www.idigbio.org/portal/search) and download a snapshot of data we can use for this project. The downloads can be large and are often over 75 GB zipped."
   ]
  },
  {
   "cell_type": "markdown",
   "id": "07da895e",
   "metadata": {},
   "source": [
    "## Setup"
   ]
  },
  {
   "cell_type": "code",
   "execution_count": 1,
   "id": "240c500d",
   "metadata": {},
   "outputs": [],
   "source": [
    "import sys\n",
    "\n",
    "sys.path.append('..')"
   ]
  },
  {
   "cell_type": "code",
   "execution_count": 2,
   "id": "f6f946bf",
   "metadata": {},
   "outputs": [],
   "source": [
    "from herbarium.pylib import config\n",
    "from herbarium.pylib import util"
   ]
  },
  {
   "cell_type": "code",
   "execution_count": null,
   "id": "a33337bc",
   "metadata": {},
   "outputs": [],
   "source": []
  }
 ],
 "metadata": {
  "hide_input": false,
  "kernelspec": {
   "display_name": "Python 3.9.0  ('.venv': venv)",
   "language": "python",
   "name": "pythonjvsc74a57bd032d845bac60b679f8e5f22d8a5bba0d3cb74b30896cf30d8a0b9935d5a07e95d"
  },
  "language_info": {
   "codemirror_mode": {
    "name": "ipython",
    "version": 3
   },
   "file_extension": ".py",
   "mimetype": "text/x-python",
   "name": "python",
   "nbconvert_exporter": "python",
   "pygments_lexer": "ipython3",
   "version": "3.9.5"
  },
  "varInspector": {
   "cols": {
    "lenName": 16,
    "lenType": 16,
    "lenVar": 40
   },
   "kernels_config": {
    "python": {
     "delete_cmd_postfix": "",
     "delete_cmd_prefix": "del ",
     "library": "var_list.py",
     "varRefreshCmd": "print(var_dic_list())"
    },
    "r": {
     "delete_cmd_postfix": ") ",
     "delete_cmd_prefix": "rm(",
     "library": "var_list.r",
     "varRefreshCmd": "cat(var_dic_list()) "
    }
   },
   "types_to_exclude": [
    "module",
    "function",
    "builtin_function_or_method",
    "instance",
    "_Feature"
   ],
   "window_display": false
  }
 },
 "nbformat": 4,
 "nbformat_minor": 5
}
