{
 "cells": [
  {
   "cell_type": "markdown",
   "id": "ee0dcb80",
   "metadata": {},
   "source": [
    "# Sample data from iDigBio"
   ]
  },
  {
   "cell_type": "markdown",
   "id": "38b030ff",
   "metadata": {},
   "source": [
    "We will need labeled images for training our classifier models. iDigBio data has many multi-modal records that we can leverage for getting training data."
   ]
  },
  {
   "cell_type": "code",
   "execution_count": null,
   "id": "dffa531d",
   "metadata": {},
   "outputs": [],
   "source": []
  },
  {
   "cell_type": "code",
   "execution_count": null,
   "id": "3f2d8d89",
   "metadata": {},
   "outputs": [],
   "source": []
  },
  {
   "cell_type": "code",
   "execution_count": null,
   "id": "4b91398b",
   "metadata": {},
   "outputs": [],
   "source": []
  }
 ],
 "metadata": {
  "hide_input": false,
  "kernelspec": {
   "display_name": "Python 3.9.0  ('.venv': venv)",
   "language": "python",
   "name": "pythonjvsc74a57bd032d845bac60b679f8e5f22d8a5bba0d3cb74b30896cf30d8a0b9935d5a07e95d"
  },
  "language_info": {
   "codemirror_mode": {
    "name": "ipython",
    "version": 3
   },
   "file_extension": ".py",
   "mimetype": "text/x-python",
   "name": "python",
   "nbconvert_exporter": "python",
   "pygments_lexer": "ipython3",
   "version": "3.9.5"
  },
  "varInspector": {
   "cols": {
    "lenName": 16,
    "lenType": 16,
    "lenVar": 40
   },
   "kernels_config": {
    "python": {
     "delete_cmd_postfix": "",
     "delete_cmd_prefix": "del ",
     "library": "var_list.py",
     "varRefreshCmd": "print(var_dic_list())"
    },
    "r": {
     "delete_cmd_postfix": ") ",
     "delete_cmd_prefix": "rm(",
     "library": "var_list.r",
     "varRefreshCmd": "cat(var_dic_list()) "
    }
   },
   "types_to_exclude": [
    "module",
    "function",
    "builtin_function_or_method",
    "instance",
    "_Feature"
   ],
   "window_display": false
  }
 },
 "nbformat": 4,
 "nbformat_minor": 5
}
