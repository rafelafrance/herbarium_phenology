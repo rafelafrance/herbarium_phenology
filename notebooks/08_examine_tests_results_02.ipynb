{
 "cells": [
  {
   "cell_type": "code",
   "execution_count": 1,
   "id": "92ddabba",
   "metadata": {},
   "outputs": [],
   "source": [
    "import sys\n",
    "\n",
    "sys.path.append('..')"
   ]
  },
  {
   "cell_type": "code",
   "execution_count": 2,
   "id": "6f036731",
   "metadata": {},
   "outputs": [],
   "source": [
    "import argparse\n",
    "import textwrap\n",
    "from collections import defaultdict, namedtuple\n",
    "from pathlib import Path\n",
    "\n",
    "import sklearn.metrics as metrics\n",
    "\n",
    "from herbarium.pylib import db"
   ]
  },
  {
   "cell_type": "code",
   "execution_count": 3,
   "id": "0873b21a",
   "metadata": {},
   "outputs": [],
   "source": [
    "DATA = Path('..') / 'data'\n",
    "\n",
    "DB = DATA / 'angiosperms.sqlite'"
   ]
  },
  {
   "cell_type": "markdown",
   "id": "1c97b081",
   "metadata": {},
   "source": [
    "## Get test results"
   ]
  },
  {
   "cell_type": "code",
   "execution_count": 4,
   "id": "70e2fe5c",
   "metadata": {},
   "outputs": [],
   "source": [
    "results = defaultdict(list)\n",
    "\n",
    "rows = db.rows_as_dicts(DB, \"select * from tests\")\n",
    "for row in rows:\n",
    "    key = (row[\"test_set\"], row[\"split_set\"])\n",
    "    results[key].append(row)"
   ]
  },
  {
   "cell_type": "markdown",
   "id": "99330e24",
   "metadata": {},
   "source": [
    "## Sort results by split_set and f1"
   ]
  },
  {
   "cell_type": "code",
   "execution_count": 5,
   "id": "a75fa8a5",
   "metadata": {},
   "outputs": [],
   "source": [
    "Results = namedtuple(\"Results\", \"split test tn fp fn tp acc prec recall f1\")"
   ]
  },
  {
   "cell_type": "code",
   "execution_count": 6,
   "id": "401c834e",
   "metadata": {},
   "outputs": [],
   "source": [
    "by_split_set = []\n",
    "\n",
    "for (test_set, split_set), rows in results.items():\n",
    "    y_true = [r['target'] for r in rows]\n",
    "    y_pred = [round(r['pred']) for r in rows]\n",
    "    \n",
    "    cm = metrics.confusion_matrix(y_true, y_pred)\n",
    "\n",
    "    accuracy = metrics.accuracy_score(y_true, y_pred)\n",
    "    f1 = metrics.f1_score(y_true, y_pred)\n",
    "    prec = metrics.precision_score(y_true, y_pred)\n",
    "    recall = metrics.recall_score(y_true, y_pred)\n",
    "    \n",
    "    by_split_set.append(\n",
    "        Results(\n",
    "            split=split_set,\n",
    "            test=test_set,\n",
    "            tn=cm[0, 0],\n",
    "            fp=cm[0, 1],\n",
    "            fn=cm[1, 0],\n",
    "            tp=cm[1, 1],\n",
    "            acc=accuracy,\n",
    "            prec=prec,\n",
    "            recall=recall,\n",
    "            f1=f1,\n",
    "        )\n",
    "    )"
   ]
  },
  {
   "cell_type": "code",
   "execution_count": 7,
   "id": "b86830ef",
   "metadata": {},
   "outputs": [],
   "source": [
    "by_split_set = sorted(by_split_set, key=lambda t: (t[0], -t[-1]))"
   ]
  },
  {
   "cell_type": "markdown",
   "id": "c19c8574",
   "metadata": {},
   "source": [
    "## Stats per test"
   ]
  },
  {
   "cell_type": "code",
   "execution_count": 15,
   "id": "9c1416ba",
   "metadata": {},
   "outputs": [
    {
     "name": "stdout",
     "output_type": "stream",
     "text": [
      "split_set            test_set                             TP     FP     TN     FN     acc      prec    recall     f1  \n",
      "---------            --------                            ----   ----   ----   ----   ------   ------   ------   ------\n",
      "flowering            b0_flowers_all_orders_2             2190     16    287    104   0.9538   0.9927   0.9547   0.9733\n",
      "flowering            b0_flowers_all_orders_1             2170     16    287    124   0.9461   0.9927   0.9459   0.9688\n",
      "\n",
      "flowering_2_orders   b3_flowers_2_orders_unfrozen_2_acc   636     12     11     19   0.9543   0.9815   0.9710   0.9762\n",
      "flowering_2_orders   b1_flowers_2_orders_frozen_2_acc     626      2     21     29   0.9543   0.9968   0.9557   0.9758\n",
      "flowering_2_orders   b1_flowers_2_orders_unfrozen_4_acc   645     22      1     10   0.9528   0.9670   0.9847   0.9758\n",
      "flowering_2_orders   b1_flowers_2_orders_frozen_1_acc     624      1     22     31   0.9528   0.9984   0.9527   0.9750\n",
      "flowering_2_orders   b3_flowers_2_orders_frozen_2         623      2     21     32   0.9499   0.9968   0.9511   0.9734\n",
      "flowering_2_orders   b3_flowers_2_orders_unfrozen_2       623      3     20     32   0.9484   0.9952   0.9511   0.9727\n",
      "\n",
      "fruiting             b7_fruiting_2                        810     40    281    141   0.8577   0.9529   0.8517   0.8995\n",
      "fruiting             b7_fruiting_3                        809     40    281    142   0.8569   0.9529   0.8507   0.8989\n",
      "fruiting             b7_fruiting_cyclic                   821     55    266    130   0.8546   0.9372   0.8633   0.8987\n",
      "fruiting             b0_fruiting_pseudo                   815     55    266    136   0.8498   0.9368   0.8570   0.8951\n",
      "fruiting             b0_fruiting_cyclic                   810     51    270    141   0.8491   0.9408   0.8517   0.8940\n",
      "fruiting             b0_fruits_all_orders_2               809     55    266    142   0.8451   0.9363   0.8507   0.8915\n",
      "fruiting             b0_fruits_all_orders_1               806     52    269    145   0.8451   0.9394   0.8475   0.8911\n",
      "fruiting             b0_fruiting_1                        814     67    254    137   0.8396   0.9240   0.8559   0.8886\n",
      "fruiting             b0_fruits_all_orders_pseudo_old      794     46    275    157   0.8404   0.9452   0.8349   0.8867\n",
      "fruiting             b0_fruiting_pseudo_1                 776     46    275    175   0.8263   0.9440   0.8160   0.8754\n",
      "fruiting             b0_fruiting_full_3                   896    240     81     55   0.7681   0.7887   0.9422   0.8586\n",
      "fruiting             b0_fruiting_bn                       747     54    267    204   0.7972   0.9326   0.7855   0.8527\n",
      "fruiting             b0_fruiting_full                     821    183    138    130   0.7539   0.8177   0.8633   0.8399\n",
      "fruiting             b0_fruiting_full_2                   824    216    105    127   0.7303   0.7923   0.8665   0.8277\n",
      "\n",
      "fruiting_2_orders    b0_fruits_2_orders_frozen_in_1_acc   154      7     35     19   0.8791   0.9565   0.8902   0.9222\n",
      "fruiting_2_orders    b0_fruits_2_orders_frozen_1_acc      165     40      2      8   0.7767   0.8049   0.9538   0.8730\n",
      "fruiting_2_orders    b0_fruits_2_orders_frozen_1          113     26     16     60   0.6000   0.8129   0.6532   0.7244\n",
      "fruiting_2_orders    b4_fruits_2_orders_frozen_2_acc      101     60     27     27   0.5953   0.6273   0.7891   0.6990\n",
      "\n",
      "leaf_out             b0_leaf_out_all_orders_1             722      4     73      7   0.9864   0.9945   0.9904   0.9924\n"
     ]
    }
   ],
   "source": [
    "print(f'{\"split_set\":<20} {\"test_set\":<35} '\n",
    "      f'{\"TP\":^4}   {\"FP\":^4}   {\"TN\":^4}   {\"FN\":^4}   '\n",
    "      f'{\"acc\":^6}   {\"prec\":^6}   {\"recall\":^6}   {\"f1\":^6}')\n",
    "\n",
    "print(f'{\"---------\":<20} {\"--------\":<35} '\n",
    "      '----   ----   ----   ----   '\n",
    "      '------   ------   ------   ------')\n",
    "\n",
    "prev = ''\n",
    "for s in by_split_set:\n",
    "\n",
    "    if prev and prev != s[0]:\n",
    "        print()\n",
    "\n",
    "    print(\n",
    "        f'{s.split:<20} {s.test:<35} '\n",
    "        f'{s.tp:4d}   {s.fp:4d}   {s.tn:4d}   {s.fn:4d}   '\n",
    "        f'{s.acc:0.4f}   {s.prec:0.4f}   {s.recall:0.4f}   {s.f1:0.4f}'\n",
    "#         f'  {s.tp + s.tn + s.fp + s.fn:4d}'\n",
    "    )\n",
    "\n",
    "    prev = s.split"
   ]
  },
  {
   "cell_type": "code",
   "execution_count": null,
   "id": "f6cfc07c",
   "metadata": {},
   "outputs": [],
   "source": []
  }
 ],
 "metadata": {
  "kernelspec": {
   "display_name": "Python 3 (ipykernel)",
   "language": "python",
   "name": "python3"
  },
  "language_info": {
   "codemirror_mode": {
    "name": "ipython",
    "version": 3
   },
   "file_extension": ".py",
   "mimetype": "text/x-python",
   "name": "python",
   "nbconvert_exporter": "python",
   "pygments_lexer": "ipython3",
   "version": "3.9.7"
  }
 },
 "nbformat": 4,
 "nbformat_minor": 5
}
