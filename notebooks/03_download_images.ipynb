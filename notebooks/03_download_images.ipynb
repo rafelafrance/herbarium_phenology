{
 "cells": [
  {
   "cell_type": "markdown",
   "id": "108c8411",
   "metadata": {},
   "source": [
    "# Download Images"
   ]
  },
  {
   "cell_type": "code",
   "execution_count": 1,
   "id": "3860afae",
   "metadata": {},
   "outputs": [],
   "source": [
    "import sys\n",
    "\n",
    "sys.path.append('..')"
   ]
  },
  {
   "cell_type": "code",
   "execution_count": 2,
   "id": "2a54f56c",
   "metadata": {},
   "outputs": [],
   "source": [
    "import multiprocessing\n",
    "import shutil\n",
    "import sqlite3\n",
    "from pathlib import Path\n",
    "\n",
    "import pandas as pd\n",
    "\n",
    "from herbarium.pylib import image_util as iu"
   ]
  },
  {
   "cell_type": "code",
   "execution_count": 3,
   "id": "65391093",
   "metadata": {},
   "outputs": [],
   "source": [
    "DATA_DIR = Path('..') / 'data'\n",
    "\n",
    "URI_DIR = DATA_DIR / 'temp'\n",
    "IMAGE_DIR = DATA_DIR / 'images'\n",
    "\n",
    "ERROR1 = DATA_DIR / 'temp' / 'download_errors.txt'\n",
    "ERROR2 = DATA_DIR / 'temp' / 'validate_errors.txt'\n",
    "\n",
    "DB = DATA_DIR / 'angiosperms.sqlite'"
   ]
  },
  {
   "cell_type": "markdown",
   "id": "be0bbf8d",
   "metadata": {},
   "source": [
    "## Sample records from each image class"
   ]
  },
  {
   "cell_type": "code",
   "execution_count": 4,
   "id": "339e5001",
   "metadata": {},
   "outputs": [],
   "source": [
    "# iu.sample_records(DB, URI_DIR)"
   ]
  },
  {
   "cell_type": "markdown",
   "id": "19b3dce9",
   "metadata": {},
   "source": [
    "## Download images"
   ]
  },
  {
   "cell_type": "code",
   "execution_count": 5,
   "id": "03b0f0f0",
   "metadata": {},
   "outputs": [],
   "source": [
    "csvs = list(URI_DIR.glob('uris_*.csv'))"
   ]
  },
  {
   "cell_type": "code",
   "execution_count": 6,
   "id": "ca0218bc",
   "metadata": {},
   "outputs": [],
   "source": [
    "with multiprocessing.Pool(processes=6) as pool:\n",
    "    results = []\n",
    "    for csv_file in csvs:\n",
    "        results.append(pool.apply_async(\n",
    "            iu.image_util, (csv_file, IMAGE_DIR, ERROR1)))\n",
    "    all_results = [result.get() for result in results]"
   ]
  },
  {
   "cell_type": "markdown",
   "id": "a49e81e5",
   "metadata": {},
   "source": [
    "## Validate images"
   ]
  },
  {
   "cell_type": "code",
   "execution_count": 4,
   "id": "e9695478",
   "metadata": {},
   "outputs": [
    {
     "name": "stderr",
     "output_type": "stream",
     "text": [
      "15127it [1:08:02,  3.71it/s]\n"
     ]
    }
   ],
   "source": [
    "iu.validate_images(IMAGE_DIR / 'all', DB, error=ERROR2)"
   ]
  },
  {
   "cell_type": "markdown",
   "id": "f836bb7f",
   "metadata": {},
   "source": [
    "## Remove images not in the DB"
   ]
  },
  {
   "cell_type": "code",
   "execution_count": null,
   "id": "260a49ad",
   "metadata": {},
   "outputs": [],
   "source": [
    "bad_dir = IMAGE_DIR / 'bad'\n",
    "good_dir = IMAGE_DIR / 'all'\n",
    "\n",
    "bad_dir.mkdir(exist_ok=True)\n",
    "good_dir.mkdir(exist_ok=True)"
   ]
  },
  {
   "cell_type": "code",
   "execution_count": null,
   "id": "d63ed710",
   "metadata": {},
   "outputs": [],
   "source": [
    "for src in IMAGE_DIRGE_DIR.glob('*.jpg'):\n",
    "    dst = bad_dir / src.name\n",
    "    shutil.move(src, dst)"
   ]
  },
  {
   "cell_type": "code",
   "execution_count": 5,
   "id": "32ab8376",
   "metadata": {},
   "outputs": [],
   "source": [
    "sql = \"\"\"select coreid from images join angiosperms using (coreid)\"\"\"\n",
    "\n",
    "with sqlite3.connect(DB) as cxn:\n",
    "    for row in cxn.execute(sql):\n",
    "        src = good_dir / f'{row[0]}.jpg'\n",
    "        dst = dst_dir / f'{row[0]}.jpg'\n",
    "        shutil.move(src, dst)"
   ]
  },
  {
   "cell_type": "code",
   "execution_count": null,
   "id": "ce57b3cb",
   "metadata": {},
   "outputs": [],
   "source": [
    "shutil.move(bad_dir, DATA_DIR / 'backup')"
   ]
  },
  {
   "cell_type": "code",
   "execution_count": null,
   "id": "83043913",
   "metadata": {},
   "outputs": [],
   "source": [
    "for src in good_dir.glob('*'):\n",
    "    dst = IMAGE_DIR / src.name\n",
    "    shutil.move(src, dst)"
   ]
  },
  {
   "cell_type": "code",
   "execution_count": 6,
   "id": "7cb98cbe",
   "metadata": {},
   "outputs": [],
   "source": [
    "sql = \"\"\"delete from images\n",
    "    where coreid not in (select coreid from images join angiosperms using (coreid));\"\"\"\n",
    "with sqlite3.connect(DB) as cxn:\n",
    "    cxn.execute(sql)"
   ]
  },
  {
   "cell_type": "code",
   "execution_count": null,
   "id": "516c243a",
   "metadata": {},
   "outputs": [],
   "source": [
    "good_dir.rmdir()"
   ]
  },
  {
   "cell_type": "markdown",
   "id": "e4efac33-cf7b-4dc2-ad59-c8177e8ca765",
   "metadata": {},
   "source": [
    "## Get image means and standard deviations"
   ]
  },
  {
   "cell_type": "code",
   "execution_count": 5,
   "id": "549fa8ec-1472-4c08-847c-186fe5959f7f",
   "metadata": {},
   "outputs": [
    {
     "name": "stderr",
     "output_type": "stream",
     "text": [
      "100%|██████████████████████████████████████████████████████| 946/946 [1:08:58<00:00,  4.37s/it]\n"
     ]
    }
   ],
   "source": [
    "mean, std = iu.get_image_norm(IMAGE_DIR)"
   ]
  },
  {
   "cell_type": "code",
   "execution_count": 6,
   "id": "935d8cd8-f638-46f7-ac3b-50448fa4f2f6",
   "metadata": {},
   "outputs": [
    {
     "name": "stdout",
     "output_type": "stream",
     "text": [
      "mean=tensor([0.7743, 0.7529, 0.7100]) std=tensor([0.2286, 0.2365, 0.2492])\n"
     ]
    }
   ],
   "source": [
    "print(f'{mean=} {std=}')"
   ]
  },
  {
   "cell_type": "code",
   "execution_count": null,
   "id": "39987ffb",
   "metadata": {},
   "outputs": [],
   "source": []
  }
 ],
 "metadata": {
  "kernelspec": {
   "display_name": "Python 3.9.0  ('.venv': venv)",
   "language": "python",
   "name": "pythonjvsc74a57bd032d845bac60b679f8e5f22d8a5bba0d3cb74b30896cf30d8a0b9935d5a07e95d"
  },
  "language_info": {
   "codemirror_mode": {
    "name": "ipython",
    "version": 3
   },
   "file_extension": ".py",
   "mimetype": "text/x-python",
   "name": "python",
   "nbconvert_exporter": "python",
   "pygments_lexer": "ipython3",
   "version": "3.9.5"
  }
 },
 "nbformat": 4,
 "nbformat_minor": 5
}
