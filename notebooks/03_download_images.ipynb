{
 "cells": [
  {
   "cell_type": "markdown",
   "id": "9d12a71d",
   "metadata": {},
   "source": [
    "# Download Images"
   ]
  },
  {
   "cell_type": "markdown",
   "id": "fde1006f",
   "metadata": {},
   "source": [
    "There are a few things to keep in mind here.\n",
    "1. We want a broad sample of images. So I'm going to group them by family and genus and build lists that pick one (or two) images from each family genus combination.\n",
    "2. There may be more one than image for each coreid. So there is a tiny chance that we will sample the same coreid twice. The scripts are designed so that only one copy will remain.\n",
    "3. There will be bad image files or bad URLs to images."
   ]
  },
  {
   "cell_type": "code",
   "execution_count": 1,
   "id": "c3078160",
   "metadata": {},
   "outputs": [],
   "source": [
    "import sys\n",
    "\n",
    "sys.path.append('..')"
   ]
  },
  {
   "cell_type": "code",
   "execution_count": 2,
   "id": "ed6edf48",
   "metadata": {},
   "outputs": [],
   "source": [
    "import multiprocessing\n",
    "from pathlib import Path\n",
    "\n",
    "import pandas as pd\n",
    "\n",
    "from herbarium.pylib import download_images as di"
   ]
  },
  {
   "cell_type": "code",
   "execution_count": 3,
   "id": "2758a30a",
   "metadata": {},
   "outputs": [],
   "source": [
    "DATA_DIR = Path('..') / 'data'\n",
    "\n",
    "URI_DIR = DATA_DIR / 'temp'\n",
    "IMAGE_DIR = DATA_DIR / 'images'\n",
    "\n",
    "ERROR1 = DATA_DIR / 'temp' / 'download_errors.txt'\n",
    "ERROR2 = DATA_DIR / 'temp' / 'validate_errors.txt'\n",
    "\n",
    "DB = DATA_DIR / 'angiosperms.sqlite'"
   ]
  },
  {
   "cell_type": "markdown",
   "id": "57343d8b",
   "metadata": {},
   "source": [
    "## Sample record from each family/genus combination"
   ]
  },
  {
   "cell_type": "code",
   "execution_count": 4,
   "id": "ebe101f3",
   "metadata": {},
   "outputs": [],
   "source": [
    "di.sample_records(DB, URI_DIR, count=12_000)"
   ]
  },
  {
   "cell_type": "markdown",
   "id": "ffd63fb4",
   "metadata": {},
   "source": [
    "## Download images"
   ]
  },
  {
   "cell_type": "code",
   "execution_count": 5,
   "id": "c24c9930",
   "metadata": {},
   "outputs": [],
   "source": [
    "csvs = list(URI_DIR.glob('uris_*.csv'))"
   ]
  },
  {
   "cell_type": "code",
   "execution_count": null,
   "id": "71588bfb",
   "metadata": {},
   "outputs": [],
   "source": [
    "with multiprocessing.Pool(processes=6) as pool:\n",
    "    results = []\n",
    "    for csv_file in csvs:\n",
    "        results.append(pool.apply_async(\n",
    "            di.download_images, (csv_file, IMAGE_DIR, ERROR1)))\n",
    "    all_results = [result.get() for result in results]"
   ]
  },
  {
   "cell_type": "markdown",
   "id": "86960128",
   "metadata": {},
   "source": [
    "## Validate images"
   ]
  },
  {
   "cell_type": "code",
   "execution_count": null,
   "id": "6d25c2c0",
   "metadata": {},
   "outputs": [],
   "source": [
    "di.validate_images(IMAGE_DIR, DB, )"
   ]
  },
  {
   "cell_type": "code",
   "execution_count": null,
   "id": "9e1fbcfb",
   "metadata": {},
   "outputs": [],
   "source": []
  }
 ],
 "metadata": {
  "kernelspec": {
   "display_name": "Python 3.9.0  ('.venv': venv)",
   "language": "python",
   "name": "pythonjvsc74a57bd032d845bac60b679f8e5f22d8a5bba0d3cb74b30896cf30d8a0b9935d5a07e95d"
  },
  "language_info": {
   "codemirror_mode": {
    "name": "ipython",
    "version": 3
   },
   "file_extension": ".py",
   "mimetype": "text/x-python",
   "name": "python",
   "nbconvert_exporter": "python",
   "pygments_lexer": "ipython3",
   "version": "3.9.5"
  }
 },
 "nbformat": 4,
 "nbformat_minor": 5
}
