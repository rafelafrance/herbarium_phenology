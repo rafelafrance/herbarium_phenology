{
 "cells": [
  {
   "cell_type": "markdown",
   "id": "108c8411",
   "metadata": {},
   "source": [
    "# Download Images"
   ]
  },
  {
   "cell_type": "code",
   "execution_count": 1,
   "id": "3860afae",
   "metadata": {},
   "outputs": [],
   "source": [
    "import sys\n",
    "\n",
    "sys.path.append('..')"
   ]
  },
  {
   "cell_type": "code",
   "execution_count": 2,
   "id": "2a54f56c",
   "metadata": {},
   "outputs": [],
   "source": [
    "import multiprocessing\n",
    "from pathlib import Path\n",
    "\n",
    "import pandas as pd\n",
    "\n",
    "from herbarium.pylib import download_images as di"
   ]
  },
  {
   "cell_type": "code",
   "execution_count": 3,
   "id": "65391093",
   "metadata": {},
   "outputs": [],
   "source": [
    "DATA_DIR = Path('..') / 'data'\n",
    "\n",
    "URI_DIR = DATA_DIR / 'temp'\n",
    "IMAGE_DIR = DATA_DIR / 'images'\n",
    "\n",
    "ERROR1 = DATA_DIR / 'temp' / 'download_errors.txt'\n",
    "ERROR2 = DATA_DIR / 'temp' / 'validate_errors.txt'\n",
    "\n",
    "DB = DATA_DIR / 'angiosperms.sqlite'"
   ]
  },
  {
   "cell_type": "markdown",
   "id": "be0bbf8d",
   "metadata": {},
   "source": [
    "## Sample records from each image class"
   ]
  },
  {
   "cell_type": "code",
   "execution_count": 4,
   "id": "339e5001",
   "metadata": {},
   "outputs": [],
   "source": [
    "# di.sample_records(DB, URI_DIR)"
   ]
  },
  {
   "cell_type": "markdown",
   "id": "19b3dce9",
   "metadata": {},
   "source": [
    "## Download images"
   ]
  },
  {
   "cell_type": "code",
   "execution_count": 5,
   "id": "03b0f0f0",
   "metadata": {},
   "outputs": [],
   "source": [
    "csvs = list(URI_DIR.glob('uris_*.csv'))"
   ]
  },
  {
   "cell_type": "code",
   "execution_count": 6,
   "id": "ca0218bc",
   "metadata": {},
   "outputs": [],
   "source": [
    "with multiprocessing.Pool(processes=6) as pool:\n",
    "    results = []\n",
    "    for csv_file in csvs:\n",
    "        results.append(pool.apply_async(\n",
    "            di.download_images, (csv_file, IMAGE_DIR, ERROR1)))\n",
    "    all_results = [result.get() for result in results]"
   ]
  },
  {
   "cell_type": "markdown",
   "id": "a49e81e5",
   "metadata": {},
   "source": [
    "## Validate images"
   ]
  },
  {
   "cell_type": "code",
   "execution_count": 7,
   "id": "e9695478",
   "metadata": {},
   "outputs": [
    {
     "name": "stderr",
     "output_type": "stream",
     "text": [
      "/home/rafe/work/digi-leap/digi_leap/.venv/lib/python3.9/site-packages/PIL/Image.py:2855: DecompressionBombWarning: Image size (90940080 pixels) exceeds limit of 89478485 pixels, could be decompression bomb DOS attack.\n",
      "  warnings.warn(\n",
      "/home/rafe/work/digi-leap/digi_leap/.venv/lib/python3.9/site-packages/PIL/Image.py:2855: DecompressionBombWarning: Image size (107191960 pixels) exceeds limit of 89478485 pixels, could be decompression bomb DOS attack.\n",
      "  warnings.warn(\n"
     ]
    }
   ],
   "source": [
    "di.validate_images(IMAGE_DIR, DB, error=ERROR2)"
   ]
  },
  {
   "cell_type": "code",
   "execution_count": null,
   "id": "d707335b",
   "metadata": {},
   "outputs": [],
   "source": []
  }
 ],
 "metadata": {
  "kernelspec": {
   "display_name": "Python 3.9.0  ('.venv': venv)",
   "language": "python",
   "name": "pythonjvsc74a57bd032d845bac60b679f8e5f22d8a5bba0d3cb74b30896cf30d8a0b9935d5a07e95d"
  },
  "language_info": {
   "codemirror_mode": {
    "name": "ipython",
    "version": 3
   },
   "file_extension": ".py",
   "mimetype": "text/x-python",
   "name": "python",
   "nbconvert_exporter": "python",
   "pygments_lexer": "ipython3",
   "version": "3.9.5"
  }
 },
 "nbformat": 4,
 "nbformat_minor": 5
}
