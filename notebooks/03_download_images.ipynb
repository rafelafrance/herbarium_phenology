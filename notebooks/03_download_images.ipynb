{
 "cells": [
  {
   "cell_type": "markdown",
   "id": "108c8411",
   "metadata": {},
   "source": [
    "# Download Images"
   ]
  },
  {
   "cell_type": "code",
   "execution_count": 1,
   "id": "3860afae",
   "metadata": {},
   "outputs": [],
   "source": [
    "import sys\n",
    "\n",
    "sys.path.append('..')"
   ]
  },
  {
   "cell_type": "code",
   "execution_count": 2,
   "id": "2a54f56c",
   "metadata": {},
   "outputs": [],
   "source": [
    "import multiprocessing\n",
    "import shutil\n",
    "import sqlite3\n",
    "from pathlib import Path\n",
    "from datetime import date\n",
    "\n",
    "import pandas as pd\n",
    "\n",
    "from herbarium.pylib import db\n",
    "from herbarium.pylib import download_images as di"
   ]
  },
  {
   "cell_type": "code",
   "execution_count": 3,
   "id": "65391093",
   "metadata": {},
   "outputs": [],
   "source": [
    "DATA_DIR = Path('..') / 'data'\n",
    "\n",
    "URI_DIR = DATA_DIR / 'temp'\n",
    "IMAGE_DIR = DATA_DIR / 'images'\n",
    "\n",
    "today = date.today().isoformat()\n",
    "\n",
    "ERROR1 = DATA_DIR / 'temp' / f'download_errors_{today}.txt'\n",
    "ERROR2 = DATA_DIR / 'temp' / f'validate_errors_{today}.txt'\n",
    "\n",
    "DB = DATA_DIR / 'angiosperms.sqlite'"
   ]
  },
  {
   "cell_type": "markdown",
   "id": "be0bbf8d",
   "metadata": {},
   "source": [
    "## Sample records from each image class"
   ]
  },
  {
   "cell_type": "code",
   "execution_count": 4,
   "id": "339e5001",
   "metadata": {
    "scrolled": true
   },
   "outputs": [],
   "source": [
    "# di.sample_records(DB, URI_DIR)"
   ]
  },
  {
   "cell_type": "markdown",
   "id": "19b3dce9",
   "metadata": {},
   "source": [
    "## Download images"
   ]
  },
  {
   "cell_type": "code",
   "execution_count": 5,
   "id": "ca0218bc",
   "metadata": {},
   "outputs": [],
   "source": [
    "# with multiprocessing.Pool(processes=6) as pool:\n",
    "#     results = []\n",
    "#     for csv_file in list(URI_DIR.glob('uris_*.csv')):\n",
    "#         results.append(pool.apply_async(\n",
    "#             di.download_images, (csv_file, IMAGE_DIR, ERROR1)))\n",
    "#     all_results = [result.get() for result in results]"
   ]
  },
  {
   "cell_type": "markdown",
   "id": "a49e81e5",
   "metadata": {},
   "source": [
    "## Validate images"
   ]
  },
  {
   "cell_type": "code",
   "execution_count": 6,
   "id": "e9695478",
   "metadata": {},
   "outputs": [
    {
     "name": "stderr",
     "output_type": "stream",
     "text": [
      "100%|███████████████████████████████████████████████████████████████████████████████████████████████████████| 22415/22415 [3:23:23<00:00,  1.84it/s]\n"
     ]
    }
   ],
   "source": [
    "di.validate_images(IMAGE_DIR, DB, error=ERROR2)"
   ]
  },
  {
   "cell_type": "markdown",
   "id": "e4efac33-cf7b-4dc2-ad59-c8177e8ca765",
   "metadata": {},
   "source": [
    "## Get image means and standard deviations"
   ]
  },
  {
   "cell_type": "code",
   "execution_count": 7,
   "id": "549fa8ec-1472-4c08-847c-186fe5959f7f",
   "metadata": {},
   "outputs": [],
   "source": [
    "# mean, std = di.get_image_norm(IMAGE_DIR)"
   ]
  },
  {
   "cell_type": "code",
   "execution_count": 8,
   "id": "935d8cd8-f638-46f7-ac3b-50448fa4f2f6",
   "metadata": {},
   "outputs": [],
   "source": [
    "# print(f'{mean=} {std=}')"
   ]
  },
  {
   "cell_type": "code",
   "execution_count": null,
   "id": "39987ffb",
   "metadata": {},
   "outputs": [],
   "source": []
  }
 ],
 "metadata": {
  "kernelspec": {
   "display_name": "Python 3 (ipykernel)",
   "language": "python",
   "name": "python3"
  },
  "language_info": {
   "codemirror_mode": {
    "name": "ipython",
    "version": 3
   },
   "file_extension": ".py",
   "mimetype": "text/x-python",
   "name": "python",
   "nbconvert_exporter": "python",
   "pygments_lexer": "ipython3",
   "version": "3.9.7"
  }
 },
 "nbformat": 4,
 "nbformat_minor": 5
}
