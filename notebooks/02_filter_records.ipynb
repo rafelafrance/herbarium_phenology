{
 "cells": [
  {
   "cell_type": "markdown",
   "id": "27ba6443",
   "metadata": {},
   "source": [
    "# Filter records"
   ]
  },
  {
   "cell_type": "markdown",
   "id": "f2a61169",
   "metadata": {},
   "source": [
    "We only want angiosperms in this database. We already have a database with all of the "
   ]
  },
  {
   "cell_type": "code",
   "execution_count": null,
   "id": "aa470e08",
   "metadata": {},
   "outputs": [],
   "source": []
  },
  {
   "cell_type": "code",
   "execution_count": null,
   "id": "335c681d",
   "metadata": {},
   "outputs": [],
   "source": []
  },
  {
   "cell_type": "code",
   "execution_count": null,
   "id": "4cb3d2aa",
   "metadata": {},
   "outputs": [],
   "source": []
  }
 ],
 "metadata": {
  "kernelspec": {
   "display_name": "Python 3 (ipykernel)",
   "language": "python",
   "name": "python3"
  },
  "language_info": {
   "codemirror_mode": {
    "name": "ipython",
    "version": 3
   },
   "file_extension": ".py",
   "mimetype": "text/x-python",
   "name": "python",
   "nbconvert_exporter": "python",
   "pygments_lexer": "ipython3",
   "version": "3.9.5"
  }
 },
 "nbformat": 4,
 "nbformat_minor": 5
}
