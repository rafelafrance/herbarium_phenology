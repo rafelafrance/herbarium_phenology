{
 "cells": [
  {
   "cell_type": "markdown",
   "id": "01b61226",
   "metadata": {},
   "source": [
    "# Tag records"
   ]
  },
  {
   "cell_type": "markdown",
   "id": "7d4199e0",
   "metadata": {},
   "source": [
    "We want to identify records that contain the flowering, fruiting, and leaf-out notations."
   ]
  },
  {
   "cell_type": "code",
   "execution_count": null,
   "id": "355dc01a",
   "metadata": {},
   "outputs": [],
   "source": []
  },
  {
   "cell_type": "code",
   "execution_count": null,
   "id": "499852f3",
   "metadata": {},
   "outputs": [],
   "source": []
  },
  {
   "cell_type": "code",
   "execution_count": null,
   "id": "53790a54",
   "metadata": {},
   "outputs": [],
   "source": []
  }
 ],
 "metadata": {
  "kernelspec": {
   "display_name": "Python 3.9.0  ('.venv': venv)",
   "language": "python",
   "name": "pythonjvsc74a57bd032d845bac60b679f8e5f22d8a5bba0d3cb74b30896cf30d8a0b9935d5a07e95d"
  },
  "language_info": {
   "codemirror_mode": {
    "name": "ipython",
    "version": 3
   },
   "file_extension": ".py",
   "mimetype": "text/x-python",
   "name": "python",
   "nbconvert_exporter": "python",
   "pygments_lexer": "ipython3",
   "version": "3.9.5"
  }
 },
 "nbformat": 4,
 "nbformat_minor": 5
}
