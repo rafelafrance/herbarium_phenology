{
 "cells": [
  {
   "cell_type": "code",
   "execution_count": 1,
   "id": "749a2f03",
   "metadata": {},
   "outputs": [],
   "source": [
    "import sys\n",
    "\n",
    "sys.path.append('..')"
   ]
  },
  {
   "cell_type": "code",
   "execution_count": 2,
   "id": "ca50844b",
   "metadata": {},
   "outputs": [],
   "source": [
    "from pathlib import Path\n",
    "\n",
    "from herbarium.pylib import db\n",
    "from herbarium.pylib.multi_efficient_net import NETS\n",
    "from herbarium.pylib.train_model import train"
   ]
  },
  {
   "cell_type": "code",
   "execution_count": 3,
   "id": "b1474af9",
   "metadata": {},
   "outputs": [],
   "source": [
    "DATA = Path('..') / 'data'\n",
    "MODELS = DATA / 'models'"
   ]
  },
  {
   "cell_type": "code",
   "execution_count": 4,
   "id": "06a42388",
   "metadata": {},
   "outputs": [],
   "source": [
    "net = 'b0'\n",
    "split_run = 'flowers_2_orders'\n",
    "acc = '_acc'\n",
    "prev = 'frozen'\n",
    "frozen = 'unfrozen'\n",
    "x = 2\n",
    "\n",
    "\n",
    "class Args:\n",
    "    net: str = net\n",
    "    database: Path = DATA / 'angiosperms.sqlite'\n",
    "    load_weights: Path = MODELS / f'{net}_{split_run}_{prev}_{x-1}{acc}.pth' if prev else None\n",
    "    save_model: Path = MODELS / f'{net}_{split_run}_{frozen}_{x}.pth'\n",
    "    split_run: str = split_run\n",
    "    epochs: int = 20\n",
    "    workers: int = 8\n",
    "    learning_rate: float = 0.001\n",
    "    limit: int = 0\n",
    "    batch_size: int = 8\n",
    "    freeze: str = 'top' if frozen else ''\n",
    "    trait: str = 'flowering'\n",
    "\n",
    "\n",
    "args = Args()"
   ]
  },
  {
   "cell_type": "code",
   "execution_count": 5,
   "id": "08f887cf",
   "metadata": {},
   "outputs": [],
   "source": [
    "orders = db.select_orders(args.database, args.split_run)\n",
    "\n",
    "net = NETS[args.net](len(orders), args.load_weights, args.freeze)"
   ]
  },
  {
   "cell_type": "code",
   "execution_count": 6,
   "id": "5889f0e5",
   "metadata": {
    "scrolled": true
   },
   "outputs": [
    {
     "name": "stderr",
     "output_type": "stream",
     "text": [
      "2021-12-21 13:06:14 INFO: ================================================================================\n",
      "2021-12-21 13:06:14 INFO: ipykernel_launcher started\n",
      "2021-12-21 13:10:06 INFO:  1: Train: loss 0.051943 acc 0.834821\tValid: loss 0.026581 acc 0.969118 ++\n",
      "2021-12-21 13:13:48 INFO:  2: Train: loss 0.028525 acc 0.692956\tValid: loss 0.011554 acc 0.902941\n",
      "2021-12-21 13:17:31 INFO:  3: Train: loss 0.029541 acc 0.756448\tValid: loss 0.022434 acc 0.805882\n",
      "2021-12-21 13:21:15 INFO:  4: Train: loss 0.029554 acc 0.785714\tValid: loss 0.012017 acc 0.920588\n",
      "2021-12-21 13:24:58 INFO:  5: Train: loss 0.024853 acc 0.771329\tValid: loss 0.012662 acc 0.900000\n",
      "2021-12-21 13:28:40 INFO:  6: Train: loss 0.022418 acc 0.803571\tValid: loss 0.013564 acc 0.926471\n",
      "2021-12-21 13:32:23 INFO:  7: Train: loss 0.026170 acc 0.774802\tValid: loss 0.018983 acc 0.801471\n",
      "2021-12-21 13:36:07 INFO:  8: Train: loss 0.023538 acc 0.770833\tValid: loss 0.011725 acc 0.932353\n",
      "2021-12-21 13:39:47 INFO:  9: Train: loss 0.020070 acc 0.813988\tValid: loss 0.010328 acc 0.936765\n",
      "2021-12-21 13:43:28 INFO: 10: Train: loss 0.019917 acc 0.843254\tValid: loss 0.008270 acc 0.930882\n",
      "2021-12-21 13:47:08 INFO: 11: Train: loss 0.021964 acc 0.784226\tValid: loss 0.008824 acc 0.920588\n",
      "2021-12-21 13:50:48 INFO: 12: Train: loss 0.022646 acc 0.820437\tValid: loss 0.009091 acc 0.925000\n",
      "2021-12-21 13:54:31 INFO: 13: Train: loss 0.021848 acc 0.834325\tValid: loss 0.011392 acc 0.888235\n",
      "2021-12-21 13:58:10 INFO: 14: Train: loss 0.021674 acc 0.785714\tValid: loss 0.010086 acc 0.927941\n",
      "2021-12-21 14:01:49 INFO: 15: Train: loss 0.023903 acc 0.755952\tValid: loss 0.016110 acc 0.822059\n",
      "2021-12-21 14:05:26 INFO: 16: Train: loss 0.021401 acc 0.747024\tValid: loss 0.009283 acc 0.916176\n",
      "2021-12-21 14:09:03 INFO: 17: Train: loss 0.025026 acc 0.795635\tValid: loss 0.009511 acc 0.922059\n",
      "2021-12-21 14:12:39 INFO: 18: Train: loss 0.020542 acc 0.810516\tValid: loss 0.008976 acc 0.927941\n",
      "2021-12-21 14:16:18 INFO: 19: Train: loss 0.020366 acc 0.820437\tValid: loss 0.009505 acc 0.933824\n",
      "2021-12-21 14:19:57 INFO: 20: Train: loss 0.021183 acc 0.797123\tValid: loss 0.008249 acc 0.933824\n",
      "2021-12-21 14:19:57 INFO: ipykernel_launcher finished\n"
     ]
    }
   ],
   "source": [
    "train(args, net, orders)"
   ]
  },
  {
   "cell_type": "code",
   "execution_count": null,
   "id": "6aada4bc",
   "metadata": {},
   "outputs": [],
   "source": []
  }
 ],
 "metadata": {
  "kernelspec": {
   "display_name": "Python 3 (ipykernel)",
   "language": "python",
   "name": "python3"
  },
  "language_info": {
   "codemirror_mode": {
    "name": "ipython",
    "version": 3
   },
   "file_extension": ".py",
   "mimetype": "text/x-python",
   "name": "python",
   "nbconvert_exporter": "python",
   "pygments_lexer": "ipython3",
   "version": "3.9.7"
  }
 },
 "nbformat": 4,
 "nbformat_minor": 5
}
