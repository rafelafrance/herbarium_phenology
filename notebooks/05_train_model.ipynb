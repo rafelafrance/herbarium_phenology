{
 "cells": [
  {
   "cell_type": "code",
   "execution_count": 1,
   "id": "749a2f03",
   "metadata": {},
   "outputs": [],
   "source": [
    "import sys\n",
    "\n",
    "sys.path.append('..')"
   ]
  },
  {
   "cell_type": "code",
   "execution_count": 2,
   "id": "ca50844b",
   "metadata": {},
   "outputs": [],
   "source": [
    "from pathlib import Path\n",
    "\n",
    "from herbarium.pylib import db\n",
    "from herbarium.pylib.models.herbarium_model import HerbariumModel\n",
    "from herbarium.pylib.runners import training_runner"
   ]
  },
  {
   "cell_type": "code",
   "execution_count": 3,
   "id": "b1474af9",
   "metadata": {},
   "outputs": [],
   "source": [
    "DATA = Path('..') / 'data'\n",
    "MODELS = DATA / 'models'"
   ]
  },
  {
   "cell_type": "code",
   "execution_count": 4,
   "id": "06a42388",
   "metadata": {},
   "outputs": [],
   "source": [
    "backbone = 'b0'\n",
    "\n",
    "trait = 'fruiting'\n",
    "# trait = 'flowering'\n",
    "\n",
    "k = 1\n",
    "\n",
    "dir_ = MODELS / trait\n",
    "\n",
    "\n",
    "class Args:\n",
    "    database = DATA / 'angiosperms.sqlite'\n",
    "    save_model = dir_ / f'{backbone}_{split_set}_{k}.pt'\n",
    "    split_set = trait\n",
    "    target_set='first_run'\n",
    "    trait = trait\n",
    "    model='herbarium'\n",
    "    backbone = backbone\n",
    "    load_model =  None  # dir_ / f'{backbone}_{split_set}_{k-1}.pt'\n",
    "    log_dir = None\n",
    "    learning_rate = 0.001\n",
    "    batch_size = 128\n",
    "    workers = 8\n",
    "    epochs = 50\n",
    "    limit = 0"
   ]
  },
  {
   "cell_type": "code",
   "execution_count": 5,
   "id": "08f887cf",
   "metadata": {},
   "outputs": [],
   "source": [
    "orders = db.select_all_orders(Args.database)\n",
    "\n",
    "model = HerbariumModel(orders, Args.backbone, Args.load_model)\n",
    "\n",
    "runner = HerbariumTrainingRunner(model, orders, Args)"
   ]
  },
  {
   "cell_type": "code",
   "execution_count": 6,
   "id": "5889f0e5",
   "metadata": {
    "scrolled": false
   },
   "outputs": [
    {
     "name": "stderr",
     "output_type": "stream",
     "text": [
      "2022-01-21 17:20:21 INFO: ================================================================================\n",
      "2022-01-21 17:20:21 INFO: ipykernel_launcher started\n",
      "2022-01-21 17:23:50 INFO:  1: Train: loss 0.032911 acc 0.578373\tValid: loss 0.021436 acc 0.801136 ++\n"
     ]
    }
   ],
   "source": [
    "runner.run()"
   ]
  },
  {
   "cell_type": "code",
   "execution_count": null,
   "id": "6aada4bc",
   "metadata": {},
   "outputs": [],
   "source": []
  }
 ],
 "metadata": {
  "kernelspec": {
   "display_name": "Python 3 (ipykernel)",
   "language": "python",
   "name": "python3"
  },
  "language_info": {
   "codemirror_mode": {
    "name": "ipython",
    "version": 3
   },
   "file_extension": ".py",
   "mimetype": "text/x-python",
   "name": "python",
   "nbconvert_exporter": "python",
   "pygments_lexer": "ipython3",
   "version": "3.9.7"
  }
 },
 "nbformat": 4,
 "nbformat_minor": 5
}
