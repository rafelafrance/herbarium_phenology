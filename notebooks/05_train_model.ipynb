{
 "cells": [
  {
   "cell_type": "code",
   "execution_count": 1,
   "id": "749a2f03",
   "metadata": {},
   "outputs": [],
   "source": [
    "import sys\n",
    "\n",
    "sys.path.append('..')"
   ]
  },
  {
   "cell_type": "code",
   "execution_count": 2,
   "id": "ca50844b",
   "metadata": {},
   "outputs": [],
   "source": [
    "from pathlib import Path\n",
    "\n",
    "from herbarium.pylib import db\n",
    "from herbarium.pylib.multi_efficient_net import NETS\n",
    "from herbarium.pylib.train_model import train"
   ]
  },
  {
   "cell_type": "code",
   "execution_count": 3,
   "id": "4a7464c7",
   "metadata": {},
   "outputs": [],
   "source": [
    "DATA = Path('..') / 'data'\n",
    "MODELS = DATA / 'models'"
   ]
  },
  {
   "cell_type": "code",
   "execution_count": 4,
   "id": "06a42388",
   "metadata": {},
   "outputs": [],
   "source": [
    "net = 'b0'\n",
    "split_run = 'flowers_2_orders'\n",
    "acc = '_acc'\n",
    "prev = 'frozen'\n",
    "frozen = 'unfrozen'\n",
    "x = 1\n",
    "\n",
    "\n",
    "class Args:\n",
    "    net: str = net\n",
    "    database: Path = DATA / 'angiosperms.sqlite'\n",
    "    load_weights: Path = MODELS / f'{net}_{split_run}_{prev}_{x-1}{acc}.pth' if prev else None\n",
    "    save_model: Path = MODELS / f'{net}_{split_run}_{frozen}_{x}.pth'\n",
    "    split_run: str = split_run\n",
    "    epochs: int = 20\n",
    "    workers: int = 8\n",
    "    learning_rate: float = 0.001\n",
    "    limit: int = 0\n",
    "    batch_size: int = 8\n",
    "    freeze: bool = frozen == 'frozen'\n",
    "    trait: str = 'flowering'\n",
    "\n",
    "\n",
    "args = Args()"
   ]
  },
  {
   "cell_type": "code",
   "execution_count": 5,
   "id": "08f887cf",
   "metadata": {},
   "outputs": [],
   "source": [
    "orders = db.select_orders(args.database, args.split_run)\n",
    "\n",
    "net = NETS[args.net](len(orders), args.load_weights, args.freeze)"
   ]
  },
  {
   "cell_type": "code",
   "execution_count": null,
   "id": "5889f0e5",
   "metadata": {
    "scrolled": true
   },
   "outputs": [
    {
     "name": "stderr",
     "output_type": "stream",
     "text": [
      "2021-12-21 10:29:14 INFO: ================================================================================\n",
      "2021-12-21 10:29:14 INFO: ipykernel_launcher started\n",
      "2021-12-21 10:32:20 INFO:  1: Train: loss 0.033817 acc 0.570437\tValid: loss 0.018156 acc 0.836648  -- ++\n",
      "2021-12-21 10:35:53 INFO:  2: Train: loss 0.025637 acc 0.692956\tValid: loss 0.016284 acc 0.866477  -- ++\n",
      "2021-12-21 10:39:39 INFO:  3: Train: loss 0.022797 acc 0.758929\tValid: loss 0.019544 acc 0.856534 \n",
      "2021-12-21 10:43:32 INFO:  4: Train: loss 0.019616 acc 0.823909\tValid: loss 0.015413 acc 0.917614  -- ++\n",
      "2021-12-21 10:47:18 INFO:  5: Train: loss 0.021342 acc 0.816468\tValid: loss 0.014078 acc 0.892045  --\n",
      "2021-12-21 10:51:00 INFO:  6: Train: loss 0.017924 acc 0.835814\tValid: loss 0.013645 acc 0.890625  --\n",
      "2021-12-21 10:54:48 INFO:  7: Train: loss 0.016286 acc 0.858135\tValid: loss 0.012063 acc 0.924716  -- ++\n",
      "2021-12-21 10:58:38 INFO:  8: Train: loss 0.016403 acc 0.882937\tValid: loss 0.010655 acc 0.909091  --\n",
      "2021-12-21 11:02:37 INFO:  9: Train: loss 0.020285 acc 0.843750\tValid: loss 0.011855 acc 0.914773 \n",
      "2021-12-21 11:06:28 INFO: 10: Train: loss 0.015140 acc 0.875000\tValid: loss 0.010796 acc 0.928977  ++\n",
      "2021-12-21 11:10:24 INFO: 11: Train: loss 0.013639 acc 0.890377\tValid: loss 0.011223 acc 0.928977  ++\n",
      "2021-12-21 11:14:22 INFO: 12: Train: loss 0.017870 acc 0.863591\tValid: loss 0.011713 acc 0.889205 \n",
      "2021-12-21 11:18:41 INFO: 13: Train: loss 0.015108 acc 0.861111\tValid: loss 0.009558 acc 0.900568  --\n",
      "2021-12-21 11:22:54 INFO: 14: Train: loss 0.015678 acc 0.879960\tValid: loss 0.009914 acc 0.911932 \n",
      "2021-12-21 11:27:00 INFO: 15: Train: loss 0.014638 acc 0.874504\tValid: loss 0.010706 acc 0.904830 \n",
      "2021-12-21 11:31:13 INFO: 16: Train: loss 0.014554 acc 0.880952\tValid: loss 0.009082 acc 0.933239  -- ++\n",
      "2021-12-21 11:35:00 INFO: 17: Train: loss 0.014960 acc 0.871528\tValid: loss 0.008827 acc 0.928977  --\n",
      "2021-12-21 11:38:41 INFO: 18: Train: loss 0.013848 acc 0.899802\tValid: loss 0.008385 acc 0.934659  -- ++\n",
      "2021-12-21 11:42:17 INFO: 19: Train: loss 0.014807 acc 0.873512\tValid: loss 0.007996 acc 0.930398  --\n",
      "2021-12-21 11:45:51 INFO: 20: Train: loss 0.012877 acc 0.885913\tValid: loss 0.007874 acc 0.937500  -- ++\n",
      "2021-12-21 11:49:32 INFO: 21: Train: loss 0.012237 acc 0.902778\tValid: loss 0.008138 acc 0.937500  ++\n",
      "2021-12-21 11:53:13 INFO: 22: Train: loss 0.013914 acc 0.890873\tValid: loss 0.008800 acc 0.934659 \n",
      "2021-12-21 11:56:56 INFO: 23: Train: loss 0.011123 acc 0.896329\tValid: loss 0.009084 acc 0.931818 \n",
      "2021-12-21 12:00:45 INFO: 24: Train: loss 0.013848 acc 0.901786\tValid: loss 0.009435 acc 0.916193 \n",
      "2021-12-21 12:04:32 INFO: 25: Train: loss 0.012178 acc 0.893849\tValid: loss 0.008623 acc 0.936080 \n",
      "2021-12-21 12:08:14 INFO: 26: Train: loss 0.011564 acc 0.896329\tValid: loss 0.009119 acc 0.911932 \n",
      "2021-12-21 12:11:55 INFO: 27: Train: loss 0.014583 acc 0.892361\tValid: loss 0.010545 acc 0.894886 \n",
      "2021-12-21 12:15:42 INFO: 28: Train: loss 0.018966 acc 0.881448\tValid: loss 0.009864 acc 0.938920  ++\n",
      "2021-12-21 12:19:26 INFO: 29: Train: loss 0.012282 acc 0.892361\tValid: loss 0.009141 acc 0.937500 \n",
      "2021-12-21 12:23:10 INFO: 30: Train: loss 0.011820 acc 0.905258\tValid: loss 0.008830 acc 0.936080 \n",
      "2021-12-21 12:26:55 INFO: 31: Train: loss 0.012395 acc 0.888393\tValid: loss 0.008120 acc 0.946023  ++\n",
      "2021-12-21 12:30:54 INFO: 32: Train: loss 0.009308 acc 0.917163\tValid: loss 0.008689 acc 0.934659 \n",
      "2021-12-21 12:34:48 INFO: 33: Train: loss 0.013335 acc 0.896825\tValid: loss 0.010273 acc 0.913352 \n",
      "2021-12-21 12:39:00 INFO: 34: Train: loss 0.012599 acc 0.905754\tValid: loss 0.008549 acc 0.926136 \n",
      "2021-12-21 12:42:48 INFO: 35: Train: loss 0.011321 acc 0.891865\tValid: loss 0.008712 acc 0.930398 \n",
      "2021-12-21 12:46:36 INFO: 36: Train: loss 0.011028 acc 0.900794\tValid: loss 0.010669 acc 0.920455 \n",
      "2021-12-21 12:50:27 INFO: 37: Train: loss 0.010959 acc 0.904762\tValid: loss 0.010438 acc 0.907670 \n",
      "2021-12-21 12:54:18 INFO: 38: Train: loss 0.012899 acc 0.887401\tValid: loss 0.011516 acc 0.899148 \n",
      "2021-12-21 12:58:06 INFO: 39: Train: loss 0.013584 acc 0.892857\tValid: loss 0.008862 acc 0.909091 \n"
     ]
    }
   ],
   "source": [
    "train(args, net, orders)"
   ]
  },
  {
   "cell_type": "code",
   "execution_count": null,
   "id": "6aada4bc",
   "metadata": {},
   "outputs": [],
   "source": []
  }
 ],
 "metadata": {
  "kernelspec": {
   "display_name": "Python 3 (ipykernel)",
   "language": "python",
   "name": "python3"
  },
  "language_info": {
   "codemirror_mode": {
    "name": "ipython",
    "version": 3
   },
   "file_extension": ".py",
   "mimetype": "text/x-python",
   "name": "python",
   "nbconvert_exporter": "python",
   "pygments_lexer": "ipython3",
   "version": "3.9.7"
  }
 },
 "nbformat": 4,
 "nbformat_minor": 5
}
