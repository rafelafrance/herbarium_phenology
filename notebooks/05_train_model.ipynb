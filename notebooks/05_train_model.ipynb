{
 "cells": [
  {
   "cell_type": "code",
   "execution_count": 1,
   "id": "749a2f03",
   "metadata": {},
   "outputs": [],
   "source": [
    "import sys\n",
    "\n",
    "sys.path.append('..')"
   ]
  },
  {
   "cell_type": "code",
   "execution_count": 2,
   "id": "ca50844b",
   "metadata": {},
   "outputs": [],
   "source": [
    "from dataclasses import dataclass\n",
    "from pathlib import Path\n",
    "\n",
    "from herbarium.pylib import db\n",
    "from herbarium.pylib.multi_efficient_net import NETS\n",
    "from herbarium.pylib.train_model import train"
   ]
  },
  {
   "cell_type": "code",
   "execution_count": 3,
   "id": "06a42388",
   "metadata": {},
   "outputs": [],
   "source": [
    "@dataclass\n",
    "class Args:\n",
    "    net: str = 'b0'\n",
    "    database: Path = Path('..') / 'data' / 'angiosperms.sqlite'\n",
    "    # save_model: Path = Path('..') / 'data' / 'models' / 'b0_2_orders_frozen.pth'\n",
    "    save_model: Path = Path('..') / 'data' / 'models' / 'b0_2_orders_unfrozen.pth'\n",
    "    #oad_weights: Path = None\n",
    "    load_weights: Path = Path('..') / 'data' / 'models' / 'b0_2_orders_frozen.pth'\n",
    "    split_run: str = '2_orders'\n",
    "    epochs: int = 20\n",
    "    workers: int = 8\n",
    "    learning_rate: float = 0.0005\n",
    "    limit: int = 0\n",
    "    batch_size: int = 16\n",
    "    freeze: bool = False\n",
    "\n",
    "\n",
    "args = Args()"
   ]
  },
  {
   "cell_type": "code",
   "execution_count": 4,
   "id": "08f887cf",
   "metadata": {},
   "outputs": [],
   "source": [
    "orders = db.select_orders(args.database, args.split_run)\n",
    "\n",
    "net = NETS[args.net](len(orders), args.load_weights, args.freeze)"
   ]
  },
  {
   "cell_type": "code",
   "execution_count": null,
   "id": "5889f0e5",
   "metadata": {
    "scrolled": true
   },
   "outputs": [
    {
     "name": "stderr",
     "output_type": "stream",
     "text": [
      " 18%|███████████████████████▍                                                                                                             | 24/136 [00:28<01:00,  1.85it/s]"
     ]
    }
   ],
   "source": [
    "train(args, net, orders)"
   ]
  },
  {
   "cell_type": "code",
   "execution_count": null,
   "id": "6aada4bc",
   "metadata": {},
   "outputs": [],
   "source": []
  }
 ],
 "metadata": {
  "kernelspec": {
   "display_name": "Python 3 (ipykernel)",
   "language": "python",
   "name": "python3"
  },
  "language_info": {
   "codemirror_mode": {
    "name": "ipython",
    "version": 3
   },
   "file_extension": ".py",
   "mimetype": "text/x-python",
   "name": "python",
   "nbconvert_exporter": "python",
   "pygments_lexer": "ipython3",
   "version": "3.9.5"
  }
 },
 "nbformat": 4,
 "nbformat_minor": 5
}
