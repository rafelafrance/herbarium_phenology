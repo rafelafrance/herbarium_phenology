{
 "cells": [
  {
   "cell_type": "code",
   "execution_count": 1,
   "id": "749a2f03",
   "metadata": {},
   "outputs": [],
   "source": [
    "import sys\n",
    "\n",
    "sys.path.append('..')"
   ]
  },
  {
   "cell_type": "code",
   "execution_count": 2,
   "id": "ca50844b",
   "metadata": {},
   "outputs": [],
   "source": [
    "from pathlib import Path\n",
    "\n",
    "from herbarium.pylib import db\n",
    "from herbarium.pylib.multi_efficient_net import NETS\n",
    "from herbarium.pylib.run_model import train"
   ]
  },
  {
   "cell_type": "code",
   "execution_count": 3,
   "id": "b1474af9",
   "metadata": {},
   "outputs": [],
   "source": [
    "DATA = Path('..') / 'data'\n",
    "MODELS = DATA / 'models'"
   ]
  },
  {
   "cell_type": "code",
   "execution_count": 4,
   "id": "06a42388",
   "metadata": {},
   "outputs": [],
   "source": [
    "net = 'b1'\n",
    "trait = 'flowering'\n",
    "split_run = 'flowers_2_orders'\n",
    "prev = 'frozen'\n",
    "frozen = 'unfrozen'\n",
    "suffix = '_acc'\n",
    "k = 4\n",
    "\n",
    "dir_ = MODELS / trait\n",
    "\n",
    "\n",
    "class Args:\n",
    "    load_weights =  dir_ / f'{net}_{split_run}_{prev}_{k-1}{suffix}.pth' if prev else None\n",
    "    save_model = dir_ / f'{net}_{split_run}_{frozen}_{k}.pth'\n",
    "    freeze = 'top' if frozen == 'frozen' else ''\n",
    "    database = DATA / 'angiosperms.sqlite'\n",
    "    split_run = split_run\n",
    "    learning_rate = 0.001\n",
    "    trait = [trait]\n",
    "    batch_size = 8\n",
    "    workers = 6\n",
    "    epochs = 20\n",
    "    limit = 0\n",
    "    net = net"
   ]
  },
  {
   "cell_type": "code",
   "execution_count": 5,
   "id": "08f887cf",
   "metadata": {},
   "outputs": [],
   "source": [
    "orders = db.select_orders(Args.database, Args.split_run)\n",
    "\n",
    "net = NETS[Args.net](len(orders), Args.load_weights, Args.freeze)"
   ]
  },
  {
   "cell_type": "code",
   "execution_count": 6,
   "id": "5889f0e5",
   "metadata": {
    "scrolled": false
   },
   "outputs": [
    {
     "name": "stderr",
     "output_type": "stream",
     "text": [
      "2022-01-06 14:31:13 INFO: ================================================================================\n",
      "2022-01-06 14:31:13 INFO: ipykernel_launcher started\n",
      "2022-01-06 14:36:00 INFO: 72: Train: loss 0.048903 acc 0.688492\tValid: loss 0.040888 acc 0.961765 ++\n",
      "2022-01-06 14:40:14 INFO: 73: Train: loss 0.026951 acc 0.720238\tValid: loss 0.009944 acc 0.911765\n",
      "2022-01-06 14:44:26 INFO: 74: Train: loss 0.021602 acc 0.773314\tValid: loss 0.028899 acc 0.938235\n",
      "2022-01-06 14:48:40 INFO: 75: Train: loss 0.022048 acc 0.774802\tValid: loss 0.013826 acc 0.951471\n",
      "2022-01-06 14:52:58 INFO: 76: Train: loss 0.019857 acc 0.845734\tValid: loss 0.054900 acc 0.758824\n",
      "2022-01-06 14:57:26 INFO: 77: Train: loss 0.043905 acc 0.785218\tValid: loss 0.025071 acc 0.672059\n",
      "2022-01-06 15:02:01 INFO: 78: Train: loss 0.028156 acc 0.677579\tValid: loss 0.015603 acc 0.889706\n",
      "2022-01-06 15:06:09 INFO: 79: Train: loss 0.028085 acc 0.687996\tValid: loss 0.016537 acc 0.827941\n",
      "2022-01-06 15:10:11 INFO: 80: Train: loss 0.022874 acc 0.757937\tValid: loss 0.015471 acc 0.858824\n",
      "2022-01-06 15:14:10 INFO: 81: Train: loss 0.028331 acc 0.748512\tValid: loss 0.020182 acc 0.867647\n",
      "2022-01-06 15:18:07 INFO: 82: Train: loss 0.033793 acc 0.718254\tValid: loss 0.021200 acc 0.825000\n",
      "2022-01-06 15:22:03 INFO: 83: Train: loss 0.030653 acc 0.797619\tValid: loss 0.019749 acc 0.863235\n",
      "2022-01-06 15:26:19 INFO: 84: Train: loss 0.022105 acc 0.825397\tValid: loss 0.012591 acc 0.902941\n",
      "2022-01-06 15:30:38 INFO: 85: Train: loss 0.022327 acc 0.852679\tValid: loss 0.019879 acc 0.839706\n",
      "2022-01-06 15:35:02 INFO: 86: Train: loss 0.023275 acc 0.787698\tValid: loss 0.014519 acc 0.838235\n",
      "2022-01-06 15:39:15 INFO: 87: Train: loss 0.018687 acc 0.815972\tValid: loss 0.014801 acc 0.838235\n",
      "2022-01-06 15:43:40 INFO: 88: Train: loss 0.023886 acc 0.838294\tValid: loss 0.016020 acc 0.842647\n",
      "2022-01-06 15:48:48 INFO: 89: Train: loss 0.018674 acc 0.846726\tValid: loss 0.017938 acc 0.820588\n",
      "2022-01-06 15:53:35 INFO: 90: Train: loss 0.021331 acc 0.852183\tValid: loss 0.031053 acc 0.639706\n",
      "2022-01-06 15:57:52 INFO: 91: Train: loss 0.019546 acc 0.811012\tValid: loss 0.011338 acc 0.879412\n",
      "2022-01-06 15:57:52 INFO: ipykernel_launcher finished\n"
     ]
    }
   ],
   "source": [
    "train(Args, net, orders)"
   ]
  },
  {
   "cell_type": "code",
   "execution_count": null,
   "id": "6aada4bc",
   "metadata": {},
   "outputs": [],
   "source": []
  }
 ],
 "metadata": {
  "kernelspec": {
   "display_name": "Python 3 (ipykernel)",
   "language": "python",
   "name": "python3"
  },
  "language_info": {
   "codemirror_mode": {
    "name": "ipython",
    "version": 3
   },
   "file_extension": ".py",
   "mimetype": "text/x-python",
   "name": "python",
   "nbconvert_exporter": "python",
   "pygments_lexer": "ipython3",
   "version": "3.9.7"
  }
 },
 "nbformat": 4,
 "nbformat_minor": 5
}
