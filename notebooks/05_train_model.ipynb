{
 "cells": [
  {
   "cell_type": "code",
   "execution_count": 1,
   "id": "749a2f03",
   "metadata": {},
   "outputs": [],
   "source": [
    "import sys\n",
    "\n",
    "sys.path.append('..')"
   ]
  },
  {
   "cell_type": "code",
   "execution_count": 2,
   "id": "ca50844b",
   "metadata": {},
   "outputs": [],
   "source": [
    "from pathlib import Path\n",
    "\n",
    "from herbarium.pylib import db\n",
    "from herbarium.pylib.multi_efficient_net import NETS\n",
    "from herbarium.pylib.run_model import train"
   ]
  },
  {
   "cell_type": "code",
   "execution_count": 3,
   "id": "b1474af9",
   "metadata": {},
   "outputs": [],
   "source": [
    "DATA = Path('..') / 'data'\n",
    "MODELS = DATA / 'models'"
   ]
  },
  {
   "cell_type": "code",
   "execution_count": 4,
   "id": "06a42388",
   "metadata": {},
   "outputs": [],
   "source": [
    "net = 'b0'\n",
    "trait = 'flowering'\n",
    "split_run = 'flowers_2_orders'\n",
    "prev = ''\n",
    "frozen = 'frozen'\n",
    "suffix = '_acc'\n",
    "k = 1\n",
    "\n",
    "dir_ = MODELS / trait\n",
    "\n",
    "\n",
    "class Args:\n",
    "    load_weights =  dir_ / f'{net}_{split_run}_{prev}_in_{k-1}{suffix}.pth' if prev else None\n",
    "    save_model = dir_ / f'{net}_{split_run}_{frozen}_in_{k}.pth'\n",
    "    freeze = 'top' if frozen == 'frozen' else ''\n",
    "    database = DATA / 'angiosperms.sqlite'\n",
    "    split_run = split_run\n",
    "    learning_rate = 0.001\n",
    "    trait = [trait]\n",
    "    batch_size = 32\n",
    "    workers = 8\n",
    "    epochs = 50\n",
    "    limit = 0\n",
    "    net = net"
   ]
  },
  {
   "cell_type": "code",
   "execution_count": 5,
   "id": "08f887cf",
   "metadata": {},
   "outputs": [],
   "source": [
    "orders = db.select_orders(Args.database, Args.split_run)\n",
    "\n",
    "net = NETS[Args.net](len(orders), Args.load_weights, Args.freeze)"
   ]
  },
  {
   "cell_type": "code",
   "execution_count": null,
   "id": "5889f0e5",
   "metadata": {
    "scrolled": false
   },
   "outputs": [
    {
     "name": "stderr",
     "output_type": "stream",
     "text": [
      "2022-01-07 16:13:17 INFO: ================================================================================\n",
      "2022-01-07 16:13:17 INFO: ipykernel_launcher started\n",
      "2022-01-07 16:16:48 INFO:  1: Train: loss 0.034790 acc 0.540675\tValid: loss 0.022930 acc 0.829545 ++\n",
      "2022-01-07 16:20:27 INFO:  2: Train: loss 0.026173 acc 0.688988\tValid: loss 0.022112 acc 0.877841 ++\n",
      "2022-01-07 16:24:15 INFO:  3: Train: loss 0.025194 acc 0.738591\tValid: loss 0.020130 acc 0.859375\n",
      "2022-01-07 16:28:23 INFO:  4: Train: loss 0.021595 acc 0.802579\tValid: loss 0.017625 acc 0.896307 ++\n",
      "2022-01-07 16:33:03 INFO:  5: Train: loss 0.021421 acc 0.837798\tValid: loss 0.016983 acc 0.882102\n",
      "2022-01-07 16:37:15 INFO:  6: Train: loss 0.019936 acc 0.815972\tValid: loss 0.012924 acc 0.931818 ++\n",
      "2022-01-07 16:42:09 INFO:  7: Train: loss 0.018026 acc 0.841766\tValid: loss 0.012155 acc 0.890625\n",
      "2022-01-07 16:46:40 INFO:  8: Train: loss 0.015911 acc 0.881448\tValid: loss 0.011164 acc 0.924716\n",
      "2022-01-07 16:51:28 INFO:  9: Train: loss 0.017449 acc 0.871528\tValid: loss 0.011241 acc 0.924716\n",
      "2022-01-07 16:56:05 INFO: 10: Train: loss 0.015621 acc 0.874504\tValid: loss 0.012332 acc 0.916193\n",
      "2022-01-07 17:00:32 INFO: 11: Train: loss 0.014611 acc 0.865575\tValid: loss 0.011121 acc 0.938920 ++\n",
      "2022-01-07 17:04:38 INFO: 12: Train: loss 0.015455 acc 0.883929\tValid: loss 0.010644 acc 0.936080\n",
      "2022-01-07 17:08:44 INFO: 13: Train: loss 0.017376 acc 0.876984\tValid: loss 0.009903 acc 0.934659\n",
      "2022-01-07 17:12:47 INFO: 14: Train: loss 0.016054 acc 0.873512\tValid: loss 0.010285 acc 0.896307\n",
      "2022-01-07 17:16:56 INFO: 15: Train: loss 0.015083 acc 0.859127\tValid: loss 0.009710 acc 0.923295\n",
      "2022-01-07 17:21:08 INFO: 16: Train: loss 0.017189 acc 0.882937\tValid: loss 0.009506 acc 0.936080\n",
      "2022-01-07 17:25:02 INFO: 17: Train: loss 0.016396 acc 0.870040\tValid: loss 0.009518 acc 0.924716\n",
      "2022-01-07 17:28:51 INFO: 18: Train: loss 0.014086 acc 0.896825\tValid: loss 0.012349 acc 0.894886\n",
      "2022-01-07 17:32:44 INFO: 19: Train: loss 0.014775 acc 0.880952\tValid: loss 0.009204 acc 0.894886\n"
     ]
    }
   ],
   "source": [
    "train(Args, net, orders)"
   ]
  },
  {
   "cell_type": "code",
   "execution_count": null,
   "id": "6aada4bc",
   "metadata": {},
   "outputs": [],
   "source": []
  }
 ],
 "metadata": {
  "kernelspec": {
   "display_name": "Python 3 (ipykernel)",
   "language": "python",
   "name": "python3"
  },
  "language_info": {
   "codemirror_mode": {
    "name": "ipython",
    "version": 3
   },
   "file_extension": ".py",
   "mimetype": "text/x-python",
   "name": "python",
   "nbconvert_exporter": "python",
   "pygments_lexer": "ipython3",
   "version": "3.9.7"
  }
 },
 "nbformat": 4,
 "nbformat_minor": 5
}
