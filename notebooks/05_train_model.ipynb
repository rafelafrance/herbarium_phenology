{
 "cells": [
  {
   "cell_type": "code",
   "execution_count": 1,
   "id": "749a2f03",
   "metadata": {},
   "outputs": [],
   "source": [
    "import sys\n",
    "\n",
    "sys.path.append('..')"
   ]
  },
  {
   "cell_type": "code",
   "execution_count": 2,
   "id": "ca50844b",
   "metadata": {},
   "outputs": [],
   "source": [
    "from pathlib import Path\n",
    "\n",
    "from herbarium.pylib import db\n",
    "from herbarium.pylib.multi_efficient_net import NETS\n",
    "from herbarium.pylib.train_model import train"
   ]
  },
  {
   "cell_type": "code",
   "execution_count": 3,
   "id": "b1474af9",
   "metadata": {},
   "outputs": [],
   "source": [
    "DATA = Path('..') / 'data'\n",
    "MODELS = DATA / 'models'"
   ]
  },
  {
   "cell_type": "code",
   "execution_count": 4,
   "id": "06a42388",
   "metadata": {},
   "outputs": [],
   "source": [
    "net = 'b0'\n",
    "split_run = 'fruits_2_orders'\n",
    "acc = '_acc'\n",
    "prev = ''\n",
    "frozen = 'frozen'\n",
    "x = 1\n",
    "\n",
    "\n",
    "class Args:\n",
    "    net: str = net\n",
    "    database: Path = DATA / 'angiosperms.sqlite'\n",
    "    load_weights: Path = MODELS / f'{net}_{split_run}_{prev}_{x-1}{acc}.pth' if prev else None\n",
    "    save_model: Path = MODELS / f'{net}_{split_run}_{frozen}_{x}.pth'\n",
    "    split_run: str = split_run\n",
    "    epochs: int = 100\n",
    "    workers: int = 8\n",
    "    learning_rate: float = 0.001\n",
    "    limit: int = 0\n",
    "    batch_size: int = 32\n",
    "    freeze: str = 'top' if frozen == 'frozen' else ''\n",
    "    trait: str = ['fruiting']\n",
    "\n",
    "\n",
    "args = Args()"
   ]
  },
  {
   "cell_type": "code",
   "execution_count": 5,
   "id": "08f887cf",
   "metadata": {},
   "outputs": [],
   "source": [
    "orders = db.select_orders(args.database, args.split_run)\n",
    "\n",
    "net = NETS[args.net](len(orders), args.load_weights, args.freeze)"
   ]
  },
  {
   "cell_type": "code",
   "execution_count": 6,
   "id": "5889f0e5",
   "metadata": {
    "scrolled": false
   },
   "outputs": [
    {
     "name": "stderr",
     "output_type": "stream",
     "text": [
      "2021-12-22 14:26:04 INFO: ================================================================================\n",
      "2021-12-22 14:26:04 INFO: ipykernel_launcher started\n",
      "2021-12-22 14:27:23 INFO:  1: Train: loss 0.206934 acc 0.620833\tValid: loss 0.198845 acc 0.676020 -- ++\n",
      "2021-12-22 14:28:37 INFO:  2: Train: loss 0.171336 acc 0.716295\tValid: loss 0.160704 acc 0.816752 -- ++\n",
      "2021-12-22 14:29:49 INFO:  3: Train: loss 0.156605 acc 0.772470\tValid: loss 0.165880 acc 0.841412 ++\n",
      "2021-12-22 14:30:59 INFO:  4: Train: loss 0.137530 acc 0.818527\tValid: loss 0.160334 acc 0.841412 -- ++\n",
      "2021-12-22 14:32:09 INFO:  5: Train: loss 0.142105 acc 0.819420\tValid: loss 0.152153 acc 0.859269 -- ++\n",
      "2021-12-22 14:33:19 INFO:  6: Train: loss 0.148394 acc 0.828051\tValid: loss 0.154345 acc 0.841412\n",
      "2021-12-22 14:34:35 INFO:  7: Train: loss 0.143019 acc 0.812351\tValid: loss 0.157253 acc 0.839073\n",
      "2021-12-22 14:35:44 INFO:  8: Train: loss 0.134526 acc 0.832812\tValid: loss 0.161771 acc 0.821216\n",
      "2021-12-22 14:36:57 INFO:  9: Train: loss 0.133727 acc 0.846726\tValid: loss 0.165860 acc 0.830145\n",
      "2021-12-22 14:38:12 INFO: 10: Train: loss 0.129634 acc 0.849851\tValid: loss 0.158647 acc 0.854804\n",
      "2021-12-22 14:39:25 INFO: 11: Train: loss 0.117106 acc 0.846801\tValid: loss 0.154270 acc 0.848214\n",
      "2021-12-22 14:40:37 INFO: 12: Train: loss 0.141934 acc 0.839732\tValid: loss 0.142791 acc 0.868197 -- ++\n",
      "2021-12-22 14:41:51 INFO: 13: Train: loss 0.114593 acc 0.864658\tValid: loss 0.149095 acc 0.830357\n",
      "2021-12-22 14:43:01 INFO: 14: Train: loss 0.129174 acc 0.854613\tValid: loss 0.143692 acc 0.859269\n",
      "2021-12-22 14:44:13 INFO: 15: Train: loss 0.114956 acc 0.851488\tValid: loss 0.146278 acc 0.845876\n",
      "2021-12-22 14:45:28 INFO: 16: Train: loss 0.129746 acc 0.821652\tValid: loss 0.133852 acc 0.854804 --\n",
      "2021-12-22 14:46:39 INFO: 17: Train: loss 0.116384 acc 0.868676\tValid: loss 0.139487 acc 0.879464 ++\n",
      "2021-12-22 14:47:51 INFO: 18: Train: loss 0.117152 acc 0.870982\tValid: loss 0.143946 acc 0.830357\n",
      "2021-12-22 14:49:01 INFO: 19: Train: loss 0.126156 acc 0.845982\tValid: loss 0.134778 acc 0.839286\n",
      "2021-12-22 14:50:15 INFO: 20: Train: loss 0.112383 acc 0.860789\tValid: loss 0.136072 acc 0.843750\n",
      "2021-12-22 14:51:25 INFO: 21: Train: loss 0.122448 acc 0.860863\tValid: loss 0.130703 acc 0.857143 --\n",
      "2021-12-22 14:52:36 INFO: 22: Train: loss 0.098641 acc 0.876414\tValid: loss 0.131462 acc 0.850340\n",
      "2021-12-22 14:53:46 INFO: 23: Train: loss 0.100585 acc 0.881176\tValid: loss 0.134044 acc 0.863733\n",
      "2021-12-22 14:54:59 INFO: 24: Train: loss 0.093130 acc 0.887426\tValid: loss 0.128607 acc 0.845876 --\n",
      "2021-12-22 14:56:10 INFO: 25: Train: loss 0.109068 acc 0.870982\tValid: loss 0.139896 acc 0.881590 ++\n",
      "2021-12-22 14:57:21 INFO: 26: Train: loss 0.103295 acc 0.888170\tValid: loss 0.143187 acc 0.872662\n",
      "2021-12-22 14:58:31 INFO: 27: Train: loss 0.100457 acc 0.869420\tValid: loss 0.135220 acc 0.868197\n",
      "2021-12-22 14:59:41 INFO: 28: Train: loss 0.087588 acc 0.889807\tValid: loss 0.126282 acc 0.845876 --\n",
      "2021-12-22 15:00:55 INFO: 29: Train: loss 0.087183 acc 0.890551\tValid: loss 0.133341 acc 0.868197\n",
      "2021-12-22 15:02:05 INFO: 30: Train: loss 0.085582 acc 0.896726\tValid: loss 0.137084 acc 0.848214\n",
      "2021-12-22 15:03:14 INFO: 31: Train: loss 0.124754 acc 0.871057\tValid: loss 0.139051 acc 0.879464\n",
      "2021-12-22 15:04:26 INFO: 32: Train: loss 0.101261 acc 0.897470\tValid: loss 0.148993 acc 0.868197\n",
      "2021-12-22 15:05:41 INFO: 33: Train: loss 0.107307 acc 0.885938\tValid: loss 0.138994 acc 0.850340\n",
      "2021-12-22 15:06:54 INFO: 34: Train: loss 0.099521 acc 0.888244\tValid: loss 0.136686 acc 0.863733\n",
      "2021-12-22 15:08:04 INFO: 35: Train: loss 0.092786 acc 0.887426\tValid: loss 0.139258 acc 0.868197\n",
      "2021-12-22 15:09:15 INFO: 36: Train: loss 0.098921 acc 0.881845\tValid: loss 0.139286 acc 0.870536\n",
      "2021-12-22 15:10:23 INFO: 37: Train: loss 0.086031 acc 0.881920\tValid: loss 0.156558 acc 0.863733\n",
      "2021-12-22 15:11:39 INFO: 38: Train: loss 0.096325 acc 0.885938\tValid: loss 0.132580 acc 0.863733\n",
      "2021-12-22 15:12:49 INFO: 39: Train: loss 0.103577 acc 0.878869\tValid: loss 0.125709 acc 0.857143 --\n",
      "2021-12-22 15:14:01 INFO: 40: Train: loss 0.102537 acc 0.889732\tValid: loss 0.123143 acc 0.863733 --\n",
      "2021-12-22 15:15:12 INFO: 41: Train: loss 0.100548 acc 0.878051\tValid: loss 0.114840 acc 0.861607 --\n",
      "2021-12-22 15:16:24 INFO: 42: Train: loss 0.089128 acc 0.882664\tValid: loss 0.123355 acc 0.861607\n",
      "2021-12-22 15:17:38 INFO: 43: Train: loss 0.083246 acc 0.899926\tValid: loss 0.119803 acc 0.852679\n",
      "2021-12-22 15:18:47 INFO: 44: Train: loss 0.077479 acc 0.884970\tValid: loss 0.124342 acc 0.852679\n",
      "2021-12-22 15:19:55 INFO: 45: Train: loss 0.097715 acc 0.895164\tValid: loss 0.141453 acc 0.861607\n",
      "2021-12-22 15:21:08 INFO: 46: Train: loss 0.078888 acc 0.911682\tValid: loss 0.152748 acc 0.857143\n",
      "2021-12-22 15:22:21 INFO: 47: Train: loss 0.090043 acc 0.890551\tValid: loss 0.146830 acc 0.879464\n",
      "2021-12-22 15:23:32 INFO: 48: Train: loss 0.082402 acc 0.898363\tValid: loss 0.156548 acc 0.894983 ++\n",
      "2021-12-22 15:24:41 INFO: 49: Train: loss 0.084267 acc 0.906920\tValid: loss 0.150077 acc 0.894983 ++\n",
      "2021-12-22 15:25:51 INFO: 50: Train: loss 0.088911 acc 0.898289\tValid: loss 0.139753 acc 0.888393\n",
      "2021-12-22 15:27:04 INFO: 51: Train: loss 0.078905 acc 0.902307\tValid: loss 0.134140 acc 0.875000\n",
      "2021-12-22 15:28:17 INFO: 52: Train: loss 0.088237 acc 0.895238\tValid: loss 0.134959 acc 0.866071\n",
      "2021-12-22 15:29:29 INFO: 53: Train: loss 0.082902 acc 0.891220\tValid: loss 0.132318 acc 0.881590\n",
      "2021-12-22 15:30:41 INFO: 54: Train: loss 0.085048 acc 0.899926\tValid: loss 0.119159 acc 0.877126\n",
      "2021-12-22 15:31:52 INFO: 55: Train: loss 0.089492 acc 0.891295\tValid: loss 0.136194 acc 0.886055\n",
      "2021-12-22 15:33:01 INFO: 56: Train: loss 0.073971 acc 0.909301\tValid: loss 0.135341 acc 0.886055\n",
      "2021-12-22 15:34:12 INFO: 57: Train: loss 0.076598 acc 0.910863\tValid: loss 0.127215 acc 0.850340\n",
      "2021-12-22 15:35:26 INFO: 58: Train: loss 0.077663 acc 0.912426\tValid: loss 0.122360 acc 0.859269\n",
      "2021-12-22 15:36:39 INFO: 59: Train: loss 0.072895 acc 0.913988\tValid: loss 0.122659 acc 0.886055\n",
      "2021-12-22 15:37:51 INFO: 60: Train: loss 0.075841 acc 0.913988\tValid: loss 0.123595 acc 0.881590\n",
      "2021-12-22 15:39:02 INFO: 61: Train: loss 0.083144 acc 0.902976\tValid: loss 0.118290 acc 0.875000\n",
      "2021-12-22 15:40:10 INFO: 62: Train: loss 0.086666 acc 0.896801\tValid: loss 0.127321 acc 0.868197\n",
      "2021-12-22 15:41:20 INFO: 63: Train: loss 0.089748 acc 0.901563\tValid: loss 0.142313 acc 0.863733\n",
      "2021-12-22 15:42:34 INFO: 64: Train: loss 0.092830 acc 0.896057\tValid: loss 0.121152 acc 0.872662\n",
      "2021-12-22 15:43:46 INFO: 65: Train: loss 0.086263 acc 0.899926\tValid: loss 0.130322 acc 0.872662\n",
      "2021-12-22 15:44:54 INFO: 66: Train: loss 0.070873 acc 0.915551\tValid: loss 0.134168 acc 0.848214\n",
      "2021-12-22 15:46:08 INFO: 67: Train: loss 0.081871 acc 0.906920\tValid: loss 0.129014 acc 0.868197\n",
      "2021-12-22 15:47:15 INFO: 68: Train: loss 0.075940 acc 0.903051\tValid: loss 0.136558 acc 0.881590\n",
      "2021-12-22 15:48:25 INFO: 69: Train: loss 0.078000 acc 0.900000\tValid: loss 0.131176 acc 0.890519\n",
      "2021-12-22 15:49:37 INFO: 70: Train: loss 0.067871 acc 0.920313\tValid: loss 0.132448 acc 0.886055\n",
      "2021-12-22 15:50:50 INFO: 71: Train: loss 0.084300 acc 0.907738\tValid: loss 0.136970 acc 0.825680\n",
      "2021-12-22 15:52:04 INFO: 72: Train: loss 0.088105 acc 0.904539\tValid: loss 0.142842 acc 0.852679\n",
      "2021-12-22 15:53:16 INFO: 73: Train: loss 0.057968 acc 0.932813\tValid: loss 0.137621 acc 0.843750\n",
      "2021-12-22 15:54:25 INFO: 74: Train: loss 0.068305 acc 0.911682\tValid: loss 0.125262 acc 0.879464\n",
      "2021-12-22 15:55:37 INFO: 75: Train: loss 0.084768 acc 0.903869\tValid: loss 0.140924 acc 0.854804\n",
      "2021-12-22 15:56:49 INFO: 76: Train: loss 0.070590 acc 0.907664\tValid: loss 0.142284 acc 0.859269\n",
      "2021-12-22 15:58:02 INFO: 77: Train: loss 0.062969 acc 0.921875\tValid: loss 0.166024 acc 0.863733\n",
      "2021-12-22 15:59:14 INFO: 78: Train: loss 0.065887 acc 0.921057\tValid: loss 0.166049 acc 0.872662\n",
      "2021-12-22 16:00:26 INFO: 79: Train: loss 0.092469 acc 0.917857\tValid: loss 0.158240 acc 0.881590\n",
      "2021-12-22 16:01:36 INFO: 80: Train: loss 0.072084 acc 0.906176\tValid: loss 0.155277 acc 0.863733\n",
      "2021-12-22 16:02:49 INFO: 81: Train: loss 0.067947 acc 0.917932\tValid: loss 0.148644 acc 0.872662\n",
      "2021-12-22 16:04:02 INFO: 82: Train: loss 0.080509 acc 0.891220\tValid: loss 0.157670 acc 0.872662\n"
     ]
    },
    {
     "name": "stderr",
     "output_type": "stream",
     "text": [
      "2021-12-22 16:05:15 INFO: 83: Train: loss 0.074181 acc 0.910789\tValid: loss 0.165190 acc 0.872662\n",
      "2021-12-22 16:06:24 INFO: 84: Train: loss 0.080962 acc 0.903125\tValid: loss 0.159416 acc 0.852466\n",
      "2021-12-22 16:07:38 INFO: 85: Train: loss 0.072412 acc 0.899107\tValid: loss 0.172099 acc 0.868197\n",
      "2021-12-22 16:08:49 INFO: 86: Train: loss 0.066811 acc 0.912426\tValid: loss 0.184156 acc 0.877126\n",
      "2021-12-22 16:10:00 INFO: 87: Train: loss 0.078531 acc 0.917039\tValid: loss 0.162023 acc 0.834821\n",
      "2021-12-22 16:11:14 INFO: 88: Train: loss 0.067764 acc 0.911682\tValid: loss 0.147102 acc 0.857143\n",
      "2021-12-22 16:12:25 INFO: 89: Train: loss 0.067331 acc 0.925744\tValid: loss 0.163125 acc 0.863733\n",
      "2021-12-22 16:13:33 INFO: 90: Train: loss 0.057993 acc 0.925000\tValid: loss 0.157797 acc 0.863733\n",
      "2021-12-22 16:14:47 INFO: 91: Train: loss 0.069453 acc 0.917113\tValid: loss 0.145757 acc 0.859269\n",
      "2021-12-22 16:16:01 INFO: 92: Train: loss 0.058589 acc 0.925744\tValid: loss 0.158023 acc 0.877126\n",
      "2021-12-22 16:17:11 INFO: 93: Train: loss 0.052988 acc 0.943750\tValid: loss 0.169089 acc 0.872662\n",
      "2021-12-22 16:18:25 INFO: 94: Train: loss 0.067765 acc 0.926488\tValid: loss 0.172823 acc 0.863733\n",
      "2021-12-22 16:19:40 INFO: 95: Train: loss 0.082342 acc 0.905432\tValid: loss 0.132217 acc 0.857143\n",
      "2021-12-22 16:20:53 INFO: 96: Train: loss 0.073510 acc 0.906101\tValid: loss 0.123171 acc 0.870536\n",
      "2021-12-22 16:22:01 INFO: 97: Train: loss 0.081179 acc 0.895164\tValid: loss 0.156604 acc 0.859269\n",
      "2021-12-22 16:23:12 INFO: 98: Train: loss 0.068798 acc 0.912500\tValid: loss 0.139314 acc 0.856930\n",
      "2021-12-22 16:24:22 INFO: 99: Train: loss 0.075525 acc 0.902976\tValid: loss 0.134945 acc 0.834821\n",
      "2021-12-22 16:25:37 INFO: 100: Train: loss 0.064831 acc 0.933557\tValid: loss 0.133433 acc 0.870536\n",
      "2021-12-22 16:25:37 INFO: ipykernel_launcher finished\n"
     ]
    }
   ],
   "source": [
    "train(args, net, orders)"
   ]
  },
  {
   "cell_type": "code",
   "execution_count": null,
   "id": "6aada4bc",
   "metadata": {},
   "outputs": [],
   "source": []
  }
 ],
 "metadata": {
  "kernelspec": {
   "display_name": "Python 3 (ipykernel)",
   "language": "python",
   "name": "python3"
  },
  "language_info": {
   "codemirror_mode": {
    "name": "ipython",
    "version": 3
   },
   "file_extension": ".py",
   "mimetype": "text/x-python",
   "name": "python",
   "nbconvert_exporter": "python",
   "pygments_lexer": "ipython3",
   "version": "3.9.7"
  }
 },
 "nbformat": 4,
 "nbformat_minor": 5
}
