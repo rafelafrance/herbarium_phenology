{
 "cells": [
  {
   "cell_type": "code",
   "execution_count": 1,
   "id": "749a2f03",
   "metadata": {},
   "outputs": [],
   "source": [
    "import sys\n",
    "\n",
    "sys.path.append('..')"
   ]
  },
  {
   "cell_type": "code",
   "execution_count": 2,
   "id": "ca50844b",
   "metadata": {},
   "outputs": [],
   "source": [
    "from pathlib import Path\n",
    "\n",
    "from herbarium.pylib import db\n",
    "from herbarium.pylib.multi_efficient_net import NETS\n",
    "from herbarium.pylib.run_model import train"
   ]
  },
  {
   "cell_type": "code",
   "execution_count": 3,
   "id": "b1474af9",
   "metadata": {},
   "outputs": [],
   "source": [
    "DATA = Path('..') / 'data'\n",
    "MODELS = DATA / 'models'"
   ]
  },
  {
   "cell_type": "code",
   "execution_count": 4,
   "id": "06a42388",
   "metadata": {},
   "outputs": [],
   "source": [
    "model = 'b0'\n",
    "trait = 'fruiting'\n",
    "split_run = 'fruits_2_orders'\n",
    "prev = ''\n",
    "frozen = 'frozen'\n",
    "suffix = '_acc'\n",
    "k = 1\n",
    "\n",
    "dir_ = MODELS / trait\n",
    "\n",
    "\n",
    "class Args:\n",
    "    load_weights =  dir_ / f'{model}_{split_run}_{prev}_in_{k-1}{suffix}.pth' if prev else None\n",
    "    save_model = dir_ / f'{model}_{split_run}_{frozen}_in_{k}.pth'\n",
    "    freeze = 'top' if frozen == 'frozen' else ''\n",
    "    database = DATA / 'angiosperms.sqlite'\n",
    "    split_run = split_run\n",
    "    learning_rate = 0.001\n",
    "    trait = [trait]\n",
    "    batch_size = 32\n",
    "    workers = 8\n",
    "    epochs = 50\n",
    "    limit = 0\n",
    "    model = model"
   ]
  },
  {
   "cell_type": "code",
   "execution_count": 5,
   "id": "08f887cf",
   "metadata": {},
   "outputs": [],
   "source": [
    "orders = db.select_orders(Args.database, Args.split_run)\n",
    "\n",
    "model = NETS[Args.model](len(orders), Args.load_weights, Args.freeze)"
   ]
  },
  {
   "cell_type": "code",
   "execution_count": 6,
   "id": "5889f0e5",
   "metadata": {
    "scrolled": false
   },
   "outputs": [
    {
     "name": "stderr",
     "output_type": "stream",
     "text": [
      "2022-01-13 12:18:03 INFO: ================================================================================\n",
      "2022-01-13 12:18:03 INFO: ipykernel_launcher started\n",
      "2022-01-13 12:19:11 INFO:  1: Train: loss 0.218919 acc 0.658333\tValid: loss 0.197712 acc 0.812287 ++\n",
      "2022-01-13 12:20:20 INFO:  2: Train: loss 0.171075 acc 0.747470\tValid: loss 0.159266 acc 0.812287 ++\n",
      "2022-01-13 12:21:30 INFO:  3: Train: loss 0.150163 acc 0.759970\tValid: loss 0.156687 acc 0.839073 ++\n",
      "2022-01-13 12:22:40 INFO:  4: Train: loss 0.142280 acc 0.804613\tValid: loss 0.150030 acc 0.828019\n",
      "2022-01-13 12:23:54 INFO:  5: Train: loss 0.142553 acc 0.837426\tValid: loss 0.137619 acc 0.850340 ++\n",
      "2022-01-13 12:25:09 INFO:  6: Train: loss 0.130499 acc 0.824777\tValid: loss 0.133453 acc 0.859269 ++\n",
      "2022-01-13 12:26:21 INFO:  7: Train: loss 0.125811 acc 0.832738\tValid: loss 0.157887 acc 0.836947\n",
      "2022-01-13 12:27:35 INFO:  8: Train: loss 0.134486 acc 0.838914\tValid: loss 0.141089 acc 0.877126 ++\n",
      "2022-01-13 12:28:47 INFO:  9: Train: loss 0.133702 acc 0.847619\tValid: loss 0.157716 acc 0.834821\n",
      "2022-01-13 12:30:02 INFO: 10: Train: loss 0.131269 acc 0.846801\tValid: loss 0.139596 acc 0.848214\n",
      "2022-01-13 12:31:18 INFO: 11: Train: loss 0.134601 acc 0.830283\tValid: loss 0.132401 acc 0.839286\n",
      "2022-01-13 12:32:34 INFO: 12: Train: loss 0.126158 acc 0.834152\tValid: loss 0.134648 acc 0.879464 ++\n",
      "2022-01-13 12:33:53 INFO: 13: Train: loss 0.119760 acc 0.857738\tValid: loss 0.134352 acc 0.839286\n",
      "2022-01-13 12:35:13 INFO: 14: Train: loss 0.122219 acc 0.838988\tValid: loss 0.128203 acc 0.848214\n",
      "2022-01-13 12:36:32 INFO: 15: Train: loss 0.110432 acc 0.859301\tValid: loss 0.128415 acc 0.857143\n",
      "2022-01-13 12:37:55 INFO: 16: Train: loss 0.102304 acc 0.861682\tValid: loss 0.132795 acc 0.843750\n",
      "2022-01-13 12:39:19 INFO: 17: Train: loss 0.115931 acc 0.850595\tValid: loss 0.134335 acc 0.857143\n",
      "2022-01-13 12:40:38 INFO: 18: Train: loss 0.127586 acc 0.872545\tValid: loss 0.133958 acc 0.850340\n",
      "2022-01-13 12:42:00 INFO: 19: Train: loss 0.119450 acc 0.863988\tValid: loss 0.125491 acc 0.857143\n",
      "2022-01-13 12:43:20 INFO: 20: Train: loss 0.105250 acc 0.879613\tValid: loss 0.126839 acc 0.866071\n",
      "2022-01-13 12:44:42 INFO: 21: Train: loss 0.103787 acc 0.869345\tValid: loss 0.129863 acc 0.808036\n",
      "2022-01-13 12:46:03 INFO: 22: Train: loss 0.102771 acc 0.869494\tValid: loss 0.124399 acc 0.859269\n",
      "2022-01-13 12:47:25 INFO: 23: Train: loss 0.104267 acc 0.868527\tValid: loss 0.125023 acc 0.848214\n",
      "2022-01-13 12:48:40 INFO: 24: Train: loss 0.100675 acc 0.879687\tValid: loss 0.140188 acc 0.886055 ++\n",
      "2022-01-13 12:49:58 INFO: 25: Train: loss 0.096714 acc 0.876414\tValid: loss 0.128110 acc 0.861607\n",
      "2022-01-13 12:51:23 INFO: 26: Train: loss 0.105431 acc 0.878125\tValid: loss 0.130033 acc 0.877126\n",
      "2022-01-13 12:52:40 INFO: 27: Train: loss 0.110689 acc 0.892113\tValid: loss 0.134053 acc 0.890519 ++\n",
      "2022-01-13 12:54:05 INFO: 28: Train: loss 0.091553 acc 0.896057\tValid: loss 0.132119 acc 0.877126\n",
      "2022-01-13 12:55:22 INFO: 29: Train: loss 0.101952 acc 0.887426\tValid: loss 0.132618 acc 0.863733\n",
      "2022-01-13 12:56:40 INFO: 30: Train: loss 0.098061 acc 0.873363\tValid: loss 0.148282 acc 0.841412\n",
      "2022-01-13 12:58:00 INFO: 31: Train: loss 0.098809 acc 0.899107\tValid: loss 0.141834 acc 0.868197\n",
      "2022-01-13 12:59:20 INFO: 32: Train: loss 0.094091 acc 0.889732\tValid: loss 0.129781 acc 0.868197\n",
      "2022-01-13 13:00:36 INFO: 33: Train: loss 0.106838 acc 0.875744\tValid: loss 0.137836 acc 0.881590\n",
      "2022-01-13 13:01:50 INFO: 34: Train: loss 0.084953 acc 0.897545\tValid: loss 0.138080 acc 0.857143\n",
      "2022-01-13 13:03:10 INFO: 35: Train: loss 0.089073 acc 0.903795\tValid: loss 0.143411 acc 0.845876\n",
      "2022-01-13 13:04:35 INFO: 36: Train: loss 0.108168 acc 0.876488\tValid: loss 0.141008 acc 0.859269\n",
      "2022-01-13 13:05:58 INFO: 37: Train: loss 0.094372 acc 0.893601\tValid: loss 0.138345 acc 0.868197\n",
      "2022-01-13 13:07:25 INFO: 38: Train: loss 0.107099 acc 0.893676\tValid: loss 0.139943 acc 0.877126\n",
      "2022-01-13 13:08:54 INFO: 39: Train: loss 0.109379 acc 0.892857\tValid: loss 0.140399 acc 0.868197\n",
      "2022-01-13 13:10:21 INFO: 40: Train: loss 0.097686 acc 0.887426\tValid: loss 0.147385 acc 0.850340\n",
      "2022-01-13 13:11:45 INFO: 41: Train: loss 0.089645 acc 0.903869\tValid: loss 0.151366 acc 0.863733\n",
      "2022-01-13 13:13:13 INFO: 42: Train: loss 0.082577 acc 0.891369\tValid: loss 0.141147 acc 0.886055\n",
      "2022-01-13 13:14:28 INFO: 43: Train: loss 0.082746 acc 0.907664\tValid: loss 0.132482 acc 0.839286\n",
      "2022-01-13 13:15:47 INFO: 44: Train: loss 0.105125 acc 0.896801\tValid: loss 0.130806 acc 0.841412\n",
      "2022-01-13 13:17:05 INFO: 45: Train: loss 0.087406 acc 0.888988\tValid: loss 0.129390 acc 0.863733\n",
      "2022-01-13 13:18:19 INFO: 46: Train: loss 0.089340 acc 0.888244\tValid: loss 0.131223 acc 0.872662\n",
      "2022-01-13 13:19:34 INFO: 47: Train: loss 0.086253 acc 0.894345\tValid: loss 0.143418 acc 0.886055\n",
      "2022-01-13 13:20:53 INFO: 48: Train: loss 0.093011 acc 0.886682\tValid: loss 0.130617 acc 0.894983 ++\n",
      "2022-01-13 13:22:11 INFO: 49: Train: loss 0.076813 acc 0.906994\tValid: loss 0.142604 acc 0.899447 ++\n",
      "2022-01-13 13:23:32 INFO: 50: Train: loss 0.091016 acc 0.914807\tValid: loss 0.125424 acc 0.886055\n",
      "2022-01-13 13:23:32 INFO: ipykernel_launcher finished\n"
     ]
    }
   ],
   "source": [
    "train(Args, model, orders)"
   ]
  },
  {
   "cell_type": "code",
   "execution_count": null,
   "id": "6aada4bc",
   "metadata": {},
   "outputs": [],
   "source": []
  }
 ],
 "metadata": {
  "kernelspec": {
   "display_name": "Python 3 (ipykernel)",
   "language": "python",
   "name": "python3"
  },
  "language_info": {
   "codemirror_mode": {
    "name": "ipython",
    "version": 3
   },
   "file_extension": ".py",
   "mimetype": "text/x-python",
   "name": "python",
   "nbconvert_exporter": "python",
   "pygments_lexer": "ipython3",
   "version": "3.9.7"
  }
 },
 "nbformat": 4,
 "nbformat_minor": 5
}
