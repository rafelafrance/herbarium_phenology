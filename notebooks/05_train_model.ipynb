{
 "cells": [
  {
   "cell_type": "code",
   "execution_count": 1,
   "id": "749a2f03",
   "metadata": {},
   "outputs": [],
   "source": [
    "import sys\n",
    "\n",
    "sys.path.append('..')"
   ]
  },
  {
   "cell_type": "code",
   "execution_count": 2,
   "id": "ca50844b",
   "metadata": {},
   "outputs": [],
   "source": [
    "from pathlib import Path\n",
    "\n",
    "from herbarium.pylib import db\n",
    "from herbarium.pylib.multi_efficient_net import NETS\n",
    "from herbarium.pylib.train_model import train"
   ]
  },
  {
   "cell_type": "code",
   "execution_count": 3,
   "id": "b1474af9",
   "metadata": {},
   "outputs": [],
   "source": [
    "DATA = Path('..') / 'data'\n",
    "MODELS = DATA / 'models'"
   ]
  },
  {
   "cell_type": "code",
   "execution_count": 4,
   "id": "06a42388",
   "metadata": {},
   "outputs": [],
   "source": [
    "net = 'b3'\n",
    "trait = 'flowering'\n",
    "split_run = 'flowers_2_orders'\n",
    "prev = 'frozen'\n",
    "frozen = 'frozen'\n",
    "suffix = '_acc'\n",
    "k = 2\n",
    "\n",
    "dir_ = MODELS / trait\n",
    "\n",
    "\n",
    "class Args:\n",
    "    load_weights =  dir_ / f'{net}_{split_run}_{prev}_{k-1}{suffix}.pth' if prev else None\n",
    "    save_model = dir_ / f'{net}_{split_run}_{frozen}_{k}.pth'\n",
    "    freeze = 'top' if frozen == 'frozen' else ''\n",
    "    database = DATA / 'angiosperms.sqlite'\n",
    "    trait = ['flowering']\n",
    "    split_run = split_run\n",
    "    learning_rate = 0.001\n",
    "    batch_size = 32\n",
    "    workers = 8\n",
    "    epochs = 50\n",
    "    limit = 0\n",
    "    net = net"
   ]
  },
  {
   "cell_type": "code",
   "execution_count": 5,
   "id": "08f887cf",
   "metadata": {},
   "outputs": [],
   "source": [
    "orders = db.select_orders(Args.database, Args.split_run)\n",
    "\n",
    "net = NETS[Args.net](len(orders), Args.load_weights, Args.freeze)"
   ]
  },
  {
   "cell_type": "code",
   "execution_count": null,
   "id": "5889f0e5",
   "metadata": {
    "scrolled": false
   },
   "outputs": [
    {
     "name": "stderr",
     "output_type": "stream",
     "text": [
      "2022-01-05 09:17:02 INFO: ================================================================================\n",
      "2022-01-05 09:17:02 INFO: ipykernel_launcher started\n",
      "2022-01-05 09:20:31 INFO: 46: Train: loss 0.009351 acc 0.941468\tValid: loss 0.006830 acc 0.944602\n",
      "2022-01-05 09:24:18 INFO: 47: Train: loss 0.008346 acc 0.930060\tValid: loss 0.006537 acc 0.947443\n",
      "2022-01-05 09:28:05 INFO: 48: Train: loss 0.008913 acc 0.935516\tValid: loss 0.006047 acc 0.950284 --\n",
      "2022-01-05 09:32:02 INFO: 49: Train: loss 0.009215 acc 0.926091\tValid: loss 0.006157 acc 0.948864\n",
      "2022-01-05 09:36:06 INFO: 50: Train: loss 0.009286 acc 0.915179\tValid: loss 0.006678 acc 0.944602\n",
      "2022-01-05 09:40:08 INFO: 51: Train: loss 0.009252 acc 0.917659\tValid: loss 0.007160 acc 0.947443\n",
      "2022-01-05 09:44:01 INFO: 52: Train: loss 0.008560 acc 0.932540\tValid: loss 0.006616 acc 0.946023\n",
      "2022-01-05 09:47:54 INFO: 53: Train: loss 0.010271 acc 0.917163\tValid: loss 0.006468 acc 0.946023\n",
      "2022-01-05 09:51:50 INFO: 54: Train: loss 0.008433 acc 0.923115\tValid: loss 0.006437 acc 0.948864\n",
      "2022-01-05 09:56:01 INFO: 55: Train: loss 0.008841 acc 0.938988\tValid: loss 0.006490 acc 0.941761\n",
      "2022-01-05 09:59:58 INFO: 56: Train: loss 0.007084 acc 0.936012\tValid: loss 0.008066 acc 0.953125\n",
      "2022-01-05 10:03:54 INFO: 57: Train: loss 0.011465 acc 0.932044\tValid: loss 0.005996 acc 0.950284 --\n",
      "2022-01-05 10:07:53 INFO: 58: Train: loss 0.009048 acc 0.937004\tValid: loss 0.006241 acc 0.948864\n",
      "2022-01-05 10:11:58 INFO: 59: Train: loss 0.009094 acc 0.931548\tValid: loss 0.006582 acc 0.954545\n",
      "2022-01-05 10:15:49 INFO: 60: Train: loss 0.006438 acc 0.949405\tValid: loss 0.006783 acc 0.955966\n",
      "2022-01-05 10:19:44 INFO: 61: Train: loss 0.006891 acc 0.936012\tValid: loss 0.009897 acc 0.958807\n",
      "2022-01-05 10:23:41 INFO: 62: Train: loss 0.008467 acc 0.935516\tValid: loss 0.006440 acc 0.950284\n",
      "2022-01-05 10:27:36 INFO: 63: Train: loss 0.008994 acc 0.924107\tValid: loss 0.008092 acc 0.951705\n",
      "2022-01-05 10:31:22 INFO: 64: Train: loss 0.011918 acc 0.926091\tValid: loss 0.006497 acc 0.936080\n",
      "2022-01-05 10:35:12 INFO: 65: Train: loss 0.007471 acc 0.932540\tValid: loss 0.006245 acc 0.946023\n",
      "2022-01-05 10:39:08 INFO: 66: Train: loss 0.007831 acc 0.935516\tValid: loss 0.006012 acc 0.951705\n",
      "2022-01-05 10:43:01 INFO: 67: Train: loss 0.007913 acc 0.948909\tValid: loss 0.006850 acc 0.947443\n",
      "2022-01-05 10:46:51 INFO: 68: Train: loss 0.007963 acc 0.930556\tValid: loss 0.006467 acc 0.946023\n",
      "2022-01-05 10:50:48 INFO: 69: Train: loss 0.006842 acc 0.943948\tValid: loss 0.006294 acc 0.944602\n",
      "2022-01-05 10:54:38 INFO: 70: Train: loss 0.007004 acc 0.947421\tValid: loss 0.006158 acc 0.947443\n",
      "2022-01-05 10:58:36 INFO: 71: Train: loss 0.006557 acc 0.943452\tValid: loss 0.005895 acc 0.950284 --\n",
      "2022-01-05 11:02:28 INFO: 72: Train: loss 0.008300 acc 0.947421\tValid: loss 0.005978 acc 0.947443\n",
      "2022-01-05 11:06:19 INFO: 73: Train: loss 0.009880 acc 0.931052\tValid: loss 0.006797 acc 0.948864\n",
      "2022-01-05 11:10:08 INFO: 74: Train: loss 0.007046 acc 0.942460\tValid: loss 0.006805 acc 0.941761\n",
      "2022-01-05 11:14:05 INFO: 75: Train: loss 0.011752 acc 0.926091\tValid: loss 0.006220 acc 0.950284\n",
      "2022-01-05 11:17:56 INFO: 76: Train: loss 0.008983 acc 0.926091\tValid: loss 0.007462 acc 0.930398\n",
      "2022-01-05 11:21:47 INFO: 77: Train: loss 0.009122 acc 0.923115\tValid: loss 0.008014 acc 0.954545\n",
      "2022-01-05 11:25:47 INFO: 78: Train: loss 0.006572 acc 0.946429\tValid: loss 0.006904 acc 0.953125\n",
      "2022-01-05 11:29:38 INFO: 79: Train: loss 0.007028 acc 0.944444\tValid: loss 0.005797 acc 0.955966 --\n",
      "2022-01-05 11:33:28 INFO: 80: Train: loss 0.007980 acc 0.932044\tValid: loss 0.005780 acc 0.947443 --\n",
      "2022-01-05 11:37:27 INFO: 81: Train: loss 0.007644 acc 0.942460\tValid: loss 0.006240 acc 0.951705\n",
      "2022-01-05 11:41:17 INFO: 82: Train: loss 0.010487 acc 0.919643\tValid: loss 0.006101 acc 0.948864\n",
      "2022-01-05 11:45:12 INFO: 83: Train: loss 0.007191 acc 0.933036\tValid: loss 0.006846 acc 0.958807\n",
      "2022-01-05 11:49:05 INFO: 84: Train: loss 0.010162 acc 0.922619\tValid: loss 0.005951 acc 0.947443\n",
      "2022-01-05 11:52:52 INFO: 85: Train: loss 0.007118 acc 0.923611\tValid: loss 0.005714 acc 0.950284 --\n",
      "2022-01-05 11:56:45 INFO: 86: Train: loss 0.008900 acc 0.934028\tValid: loss 0.006654 acc 0.950284\n",
      "2022-01-05 12:00:59 INFO: 87: Train: loss 0.010403 acc 0.920635\tValid: loss 0.007579 acc 0.906250\n",
      "2022-01-05 12:05:09 INFO: 88: Train: loss 0.008513 acc 0.925099\tValid: loss 0.006369 acc 0.940341\n",
      "2022-01-05 12:09:15 INFO: 89: Train: loss 0.008258 acc 0.933532\tValid: loss 0.006271 acc 0.948864\n",
      "2022-01-05 12:13:32 INFO: 90: Train: loss 0.010322 acc 0.922123\tValid: loss 0.005816 acc 0.947443\n",
      "2022-01-05 12:17:38 INFO: 91: Train: loss 0.008823 acc 0.921627\tValid: loss 0.005833 acc 0.947443\n",
      "2022-01-05 12:21:40 INFO: 92: Train: loss 0.011913 acc 0.908234\tValid: loss 0.006993 acc 0.948864\n",
      "2022-01-05 12:25:51 INFO: 93: Train: loss 0.008640 acc 0.931052\tValid: loss 0.006854 acc 0.951705\n",
      "2022-01-05 12:30:08 INFO: 94: Train: loss 0.008236 acc 0.937004\tValid: loss 0.006634 acc 0.955966\n"
     ]
    }
   ],
   "source": [
    "train(Args, net, orders)"
   ]
  },
  {
   "cell_type": "code",
   "execution_count": null,
   "id": "6aada4bc",
   "metadata": {},
   "outputs": [],
   "source": []
  }
 ],
 "metadata": {
  "kernelspec": {
   "display_name": "Python 3 (ipykernel)",
   "language": "python",
   "name": "python3"
  },
  "language_info": {
   "codemirror_mode": {
    "name": "ipython",
    "version": 3
   },
   "file_extension": ".py",
   "mimetype": "text/x-python",
   "name": "python",
   "nbconvert_exporter": "python",
   "pygments_lexer": "ipython3",
   "version": "3.9.7"
  }
 },
 "nbformat": 4,
 "nbformat_minor": 5
}
