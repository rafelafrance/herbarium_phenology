{
 "cells": [
  {
   "cell_type": "code",
   "execution_count": 1,
   "id": "749a2f03",
   "metadata": {},
   "outputs": [],
   "source": [
    "import sys\n",
    "\n",
    "sys.path.append('..')"
   ]
  },
  {
   "cell_type": "code",
   "execution_count": 2,
   "id": "ca50844b",
   "metadata": {},
   "outputs": [],
   "source": [
    "from pathlib import Path\n",
    "\n",
    "from herbarium.pylib import db\n",
    "from herbarium.pylib.multi_efficient_net import NETS\n",
    "from herbarium.pylib.run_model import train"
   ]
  },
  {
   "cell_type": "code",
   "execution_count": 3,
   "id": "b1474af9",
   "metadata": {},
   "outputs": [],
   "source": [
    "DATA = Path('..') / 'data'\n",
    "MODELS = DATA / 'models'"
   ]
  },
  {
   "cell_type": "code",
   "execution_count": 4,
   "id": "06a42388",
   "metadata": {},
   "outputs": [],
   "source": [
    "net = 'b3'\n",
    "trait = 'flowering'\n",
    "split_run = 'flowers_2_orders'\n",
    "prev = 'frozen'\n",
    "frozen = 'unfrozen'\n",
    "suffix = '_acc'\n",
    "k = 2\n",
    "\n",
    "dir_ = MODELS / trait\n",
    "\n",
    "\n",
    "class Args:\n",
    "    load_weights =  dir_ / f'{net}_{split_run}_{prev}_{k-1}{suffix}.pth' if prev else None\n",
    "    save_model = dir_ / f'{net}_{split_run}_{frozen}_{k}.pth'\n",
    "    freeze = 'top' if frozen == 'frozen' else ''\n",
    "    database = DATA / 'angiosperms.sqlite'\n",
    "    trait = ['flowering']\n",
    "    split_run = split_run\n",
    "    learning_rate = 0.001\n",
    "    batch_size = 8\n",
    "    workers = 8\n",
    "    epochs = 20\n",
    "    limit = 0\n",
    "    net = net"
   ]
  },
  {
   "cell_type": "code",
   "execution_count": 5,
   "id": "08f887cf",
   "metadata": {},
   "outputs": [],
   "source": [
    "orders = db.select_orders(Args.database, Args.split_run)\n",
    "\n",
    "net = NETS[Args.net](len(orders), Args.load_weights, Args.freeze)"
   ]
  },
  {
   "cell_type": "code",
   "execution_count": 6,
   "id": "5889f0e5",
   "metadata": {
    "scrolled": false
   },
   "outputs": [
    {
     "name": "stderr",
     "output_type": "stream",
     "text": [
      "2022-01-05 13:21:38 INFO: ================================================================================\n",
      "2022-01-05 13:21:38 INFO: ipykernel_launcher started\n",
      "2022-01-05 13:25:28 INFO: 46: Train: loss 0.035230 acc 0.783234\tValid: loss 0.036625 acc 0.244118\n",
      "2022-01-05 13:29:44 INFO: 47: Train: loss 0.032398 acc 0.808532\tValid: loss 0.022062 acc 0.888235\n",
      "2022-01-05 13:34:04 INFO: 48: Train: loss 0.023531 acc 0.827877\tValid: loss 0.013198 acc 0.882353\n",
      "2022-01-05 13:38:28 INFO: 49: Train: loss 0.026247 acc 0.761409\tValid: loss 0.014662 acc 0.801471\n",
      "2022-01-05 13:42:54 INFO: 50: Train: loss 0.022105 acc 0.800099\tValid: loss 0.024312 acc 0.963235 ++\n",
      "2022-01-05 13:47:16 INFO: 51: Train: loss 0.025119 acc 0.778274\tValid: loss 0.013608 acc 0.894118\n",
      "2022-01-05 13:51:42 INFO: 52: Train: loss 0.023798 acc 0.794147\tValid: loss 0.012776 acc 0.869118\n",
      "2022-01-05 13:56:06 INFO: 53: Train: loss 0.021131 acc 0.814484\tValid: loss 0.019071 acc 0.861765\n",
      "2022-01-05 14:00:44 INFO: 54: Train: loss 0.020874 acc 0.814980\tValid: loss 0.019036 acc 0.872059\n",
      "2022-01-05 14:05:21 INFO: 55: Train: loss 0.019644 acc 0.805060\tValid: loss 0.013729 acc 0.873529\n",
      "2022-01-05 14:09:42 INFO: 56: Train: loss 0.019108 acc 0.814980\tValid: loss 0.020394 acc 0.913235\n",
      "2022-01-05 14:14:04 INFO: 57: Train: loss 0.029019 acc 0.834325\tValid: loss 0.013230 acc 0.935294\n",
      "2022-01-05 14:18:51 INFO: 58: Train: loss 0.032426 acc 0.800595\tValid: loss 0.016994 acc 0.905882\n",
      "2022-01-05 14:23:29 INFO: 59: Train: loss 0.026899 acc 0.828869\tValid: loss 0.014041 acc 0.885294\n",
      "2022-01-05 14:28:15 INFO: 60: Train: loss 0.028299 acc 0.768849\tValid: loss 0.012413 acc 0.894118\n",
      "2022-01-05 14:32:47 INFO: 61: Train: loss 0.022091 acc 0.806052\tValid: loss 0.012520 acc 0.910294\n",
      "2022-01-05 14:37:59 INFO: 62: Train: loss 0.021053 acc 0.819444\tValid: loss 0.012061 acc 0.910294\n",
      "2022-01-05 14:43:58 INFO: 63: Train: loss 0.027503 acc 0.741567\tValid: loss 0.013095 acc 0.857353\n",
      "2022-01-05 14:48:56 INFO: 64: Train: loss 0.025870 acc 0.782738\tValid: loss 0.016229 acc 0.886765\n",
      "2022-01-05 14:53:22 INFO: 65: Train: loss 0.020600 acc 0.830357\tValid: loss 0.011281 acc 0.954412\n",
      "2022-01-05 14:53:22 INFO: ipykernel_launcher finished\n"
     ]
    }
   ],
   "source": [
    "train(Args, net, orders)"
   ]
  },
  {
   "cell_type": "code",
   "execution_count": null,
   "id": "6aada4bc",
   "metadata": {},
   "outputs": [],
   "source": []
  }
 ],
 "metadata": {
  "kernelspec": {
   "display_name": "Python 3 (ipykernel)",
   "language": "python",
   "name": "python3"
  },
  "language_info": {
   "codemirror_mode": {
    "name": "ipython",
    "version": 3
   },
   "file_extension": ".py",
   "mimetype": "text/x-python",
   "name": "python",
   "nbconvert_exporter": "python",
   "pygments_lexer": "ipython3",
   "version": "3.9.7"
  }
 },
 "nbformat": 4,
 "nbformat_minor": 5
}
