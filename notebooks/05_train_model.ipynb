{
 "cells": [
  {
   "cell_type": "code",
   "execution_count": 1,
   "id": "749a2f03",
   "metadata": {},
   "outputs": [],
   "source": [
    "import sys\n",
    "\n",
    "sys.path.append('..')"
   ]
  },
  {
   "cell_type": "code",
   "execution_count": 2,
   "id": "ca50844b",
   "metadata": {},
   "outputs": [],
   "source": [
    "from pathlib import Path\n",
    "\n",
    "from herbarium.pylib import db\n",
    "from herbarium.pylib.multi_efficient_net import NETS\n",
    "from herbarium.pylib.train_model import train"
   ]
  },
  {
   "cell_type": "code",
   "execution_count": 3,
   "id": "b1474af9",
   "metadata": {},
   "outputs": [],
   "source": [
    "DATA = Path('..') / 'data'\n",
    "MODELS = DATA / 'models'"
   ]
  },
  {
   "cell_type": "code",
   "execution_count": 4,
   "id": "06a42388",
   "metadata": {},
   "outputs": [],
   "source": [
    "net = 'b0'\n",
    "split_run = 'flowers_2_orders'\n",
    "prev = ''\n",
    "frozen = 'frozen'\n",
    "x = 1\n",
    "\n",
    "\n",
    "class Args:\n",
    "    load_weights = MODELS / f'{net}_{split_run}_{prev}_{x-1}.pth' if prev else None\n",
    "    save_model = MODELS / f'{net}_{split_run}_{frozen}_{x}.pth'\n",
    "    freeze = 'top' if frozen == 'frozen' else ''\n",
    "    database = DATA / 'angiosperms.sqlite'\n",
    "    trait = ['flowering']\n",
    "    split_run = split_run\n",
    "    learning_rate = 0.001\n",
    "    batch_size = 32\n",
    "    workers = 8\n",
    "    epochs = 50\n",
    "    limit = 0\n",
    "    net = net"
   ]
  },
  {
   "cell_type": "code",
   "execution_count": 5,
   "id": "08f887cf",
   "metadata": {},
   "outputs": [],
   "source": [
    "orders = db.select_orders(Args.database, Args.split_run)\n",
    "\n",
    "net = NETS[Args.net](len(orders), Args.load_weights, Args.freeze)"
   ]
  },
  {
   "cell_type": "code",
   "execution_count": 6,
   "id": "5889f0e5",
   "metadata": {
    "scrolled": true
   },
   "outputs": [
    {
     "name": "stderr",
     "output_type": "stream",
     "text": [
      "2021-12-25 12:03:30 INFO: ================================================================================\n",
      "2021-12-25 12:03:30 INFO: ipykernel_launcher started\n"
     ]
    },
    {
     "name": "stdout",
     "output_type": "stream",
     "text": [
      "loading\n"
     ]
    },
    {
     "name": "stderr",
     "output_type": "stream",
     "text": [
      "2021-12-25 12:06:49 INFO:  2: Train: loss 0.026241 acc 0.714782\tValid: loss 0.018836 acc 0.825284 ++\n",
      "2021-12-25 12:06:49 INFO: ipykernel_launcher finished\n"
     ]
    }
   ],
   "source": [
    "train(Args, net, orders)"
   ]
  },
  {
   "cell_type": "code",
   "execution_count": null,
   "id": "6aada4bc",
   "metadata": {},
   "outputs": [],
   "source": []
  }
 ],
 "metadata": {
  "kernelspec": {
   "display_name": "Python 3 (ipykernel)",
   "language": "python",
   "name": "python3"
  },
  "language_info": {
   "codemirror_mode": {
    "name": "ipython",
    "version": 3
   },
   "file_extension": ".py",
   "mimetype": "text/x-python",
   "name": "python",
   "nbconvert_exporter": "python",
   "pygments_lexer": "ipython3",
   "version": "3.9.7"
  }
 },
 "nbformat": 4,
 "nbformat_minor": 5
}
