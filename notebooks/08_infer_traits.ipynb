{
 "cells": [
  {
   "cell_type": "code",
   "execution_count": 1,
   "id": "a3fc2492",
   "metadata": {},
   "outputs": [],
   "source": [
    "import sys\n",
    "\n",
    "sys.path.append('..')"
   ]
  },
  {
   "cell_type": "code",
   "execution_count": 2,
   "id": "0a43a19b",
   "metadata": {},
   "outputs": [],
   "source": [
    "import sqlite3\n",
    "from dataclasses import dataclass, field\n",
    "from pathlib import Path\n",
    "from pprint import pp\n",
    "\n",
    "from herbarium.pylib import db\n",
    "from herbarium.pylib.herbarium_model import HerbariumModel\n",
    "from herbarium.pylib.herbarium_runner import HerbariumInferenceRunner"
   ]
  },
  {
   "cell_type": "code",
   "execution_count": 3,
   "id": "17bc0115",
   "metadata": {},
   "outputs": [],
   "source": [
    "DATA = Path('..') / 'data'\n",
    "MODELS = DATA / 'models'\n",
    "IMAGES = DATA / 'images'\n",
    "\n",
    "DB = DATA / 'angiosperms.sqlite'"
   ]
  },
  {
   "cell_type": "code",
   "execution_count": 4,
   "id": "ad8f1cfa",
   "metadata": {},
   "outputs": [],
   "source": [
    "db.create_inferences_table(DB)"
   ]
  },
  {
   "cell_type": "code",
   "execution_count": 9,
   "id": "a72e40d0",
   "metadata": {},
   "outputs": [
    {
     "data": {
      "text/plain": [
       "<__main__.Args at 0x7f0025aad1c0>"
      ]
     },
     "execution_count": 9,
     "metadata": {},
     "output_type": "execute_result"
    }
   ],
   "source": [
    "backbone = 'b0'\n",
    "\n",
    "# trait = 'fruiting'\n",
    "trait = 'flowering'\n",
    "\n",
    "# split_set = 'fruits_all_orders'\n",
    "split_set = 'flowers_all_orders'\n",
    "\n",
    "k = 1\n",
    "\n",
    "dir_ = MODELS / trait\n",
    "load_model = dir_ / f'{backbone}_{split_set}_{k}.pt'\n",
    "\n",
    "\n",
    "class Args:\n",
    "    database = DB\n",
    "    backbone = backbone\n",
    "    load_model = load_model\n",
    "    inference_set = load_model.stem\n",
    "    target_set = 'first_run'\n",
    "    trait = trait\n",
    "    batch_size = 32\n",
    "    workers = 8\n",
    "    limit = 0"
   ]
  },
  {
   "cell_type": "code",
   "execution_count": 6,
   "id": "91dd4d82",
   "metadata": {},
   "outputs": [
    {
     "ename": "RuntimeError",
     "evalue": "Error(s) in loading state_dict for HerbariumModel:\n\tsize mismatch for head.model.1.weight: copying a param with shape torch.Size([344, 1378]) from checkpoint, the shape in current model is torch.Size([348, 1394]).\n\tsize mismatch for head.model.1.bias: copying a param with shape torch.Size([344]) from checkpoint, the shape in current model is torch.Size([348]).\n\tsize mismatch for head.model.3.weight: copying a param with shape torch.Size([344]) from checkpoint, the shape in current model is torch.Size([348]).\n\tsize mismatch for head.model.3.bias: copying a param with shape torch.Size([344]) from checkpoint, the shape in current model is torch.Size([348]).\n\tsize mismatch for head.model.3.running_mean: copying a param with shape torch.Size([344]) from checkpoint, the shape in current model is torch.Size([348]).\n\tsize mismatch for head.model.3.running_var: copying a param with shape torch.Size([344]) from checkpoint, the shape in current model is torch.Size([348]).\n\tsize mismatch for head.model.5.weight: copying a param with shape torch.Size([172, 344]) from checkpoint, the shape in current model is torch.Size([174, 348]).\n\tsize mismatch for head.model.5.bias: copying a param with shape torch.Size([172]) from checkpoint, the shape in current model is torch.Size([174]).\n\tsize mismatch for head.model.7.weight: copying a param with shape torch.Size([172]) from checkpoint, the shape in current model is torch.Size([174]).\n\tsize mismatch for head.model.7.bias: copying a param with shape torch.Size([172]) from checkpoint, the shape in current model is torch.Size([174]).\n\tsize mismatch for head.model.7.running_mean: copying a param with shape torch.Size([172]) from checkpoint, the shape in current model is torch.Size([174]).\n\tsize mismatch for head.model.7.running_var: copying a param with shape torch.Size([172]) from checkpoint, the shape in current model is torch.Size([174]).\n\tsize mismatch for head.model.9.weight: copying a param with shape torch.Size([86, 172]) from checkpoint, the shape in current model is torch.Size([87, 174]).\n\tsize mismatch for head.model.9.bias: copying a param with shape torch.Size([86]) from checkpoint, the shape in current model is torch.Size([87]).\n\tsize mismatch for head.model.11.weight: copying a param with shape torch.Size([86]) from checkpoint, the shape in current model is torch.Size([87]).\n\tsize mismatch for head.model.11.bias: copying a param with shape torch.Size([86]) from checkpoint, the shape in current model is torch.Size([87]).\n\tsize mismatch for head.model.11.running_mean: copying a param with shape torch.Size([86]) from checkpoint, the shape in current model is torch.Size([87]).\n\tsize mismatch for head.model.11.running_var: copying a param with shape torch.Size([86]) from checkpoint, the shape in current model is torch.Size([87]).\n\tsize mismatch for head.model.12.weight: copying a param with shape torch.Size([1, 86]) from checkpoint, the shape in current model is torch.Size([1, 87]).",
     "output_type": "error",
     "traceback": [
      "\u001b[0;31m---------------------------------------------------------------------------\u001b[0m",
      "\u001b[0;31mRuntimeError\u001b[0m                              Traceback (most recent call last)",
      "Input \u001b[0;32mIn [6]\u001b[0m, in \u001b[0;36m<module>\u001b[0;34m\u001b[0m\n\u001b[1;32m      1\u001b[0m orders \u001b[38;5;241m=\u001b[39m db\u001b[38;5;241m.\u001b[39mselect_all_orders(Args\u001b[38;5;241m.\u001b[39mdatabase)\n\u001b[0;32m----> 3\u001b[0m model \u001b[38;5;241m=\u001b[39m \u001b[43mHerbariumModel\u001b[49m\u001b[43m(\u001b[49m\u001b[43morders\u001b[49m\u001b[43m,\u001b[49m\u001b[43m \u001b[49m\u001b[43mArgs\u001b[49m\u001b[38;5;241;43m.\u001b[39;49m\u001b[43mbackbone\u001b[49m\u001b[43m,\u001b[49m\u001b[43m \u001b[49m\u001b[43mArgs\u001b[49m\u001b[38;5;241;43m.\u001b[39;49m\u001b[43mload_model\u001b[49m\u001b[43m)\u001b[49m\n\u001b[1;32m      5\u001b[0m runner \u001b[38;5;241m=\u001b[39m HerbariumInferenceRunner(model, orders, Args)\n",
      "File \u001b[0;32m~/work/phenology/notebooks/../herbarium/pylib/herbarium_model.py:124\u001b[0m, in \u001b[0;36mHerbariumModel.__init__\u001b[0;34m(self, orders, backbone, load_model)\u001b[0m\n\u001b[1;32m    122\u001b[0m \u001b[38;5;28mself\u001b[39m\u001b[38;5;241m.\u001b[39mstate \u001b[38;5;241m=\u001b[39m torch\u001b[38;5;241m.\u001b[39mload(load_model) \u001b[38;5;28;01mif\u001b[39;00m load_model \u001b[38;5;28;01melse\u001b[39;00m {}\n\u001b[1;32m    123\u001b[0m \u001b[38;5;28;01mif\u001b[39;00m \u001b[38;5;28mself\u001b[39m\u001b[38;5;241m.\u001b[39mstate\u001b[38;5;241m.\u001b[39mget(\u001b[38;5;124m\"\u001b[39m\u001b[38;5;124mmodel_state\u001b[39m\u001b[38;5;124m\"\u001b[39m):\n\u001b[0;32m--> 124\u001b[0m     \u001b[38;5;28;43mself\u001b[39;49m\u001b[38;5;241;43m.\u001b[39;49m\u001b[43mload_state_dict\u001b[49m\u001b[43m(\u001b[49m\u001b[38;5;28;43mself\u001b[39;49m\u001b[38;5;241;43m.\u001b[39;49m\u001b[43mstate\u001b[49m\u001b[43m[\u001b[49m\u001b[38;5;124;43m\"\u001b[39;49m\u001b[38;5;124;43mmodel_state\u001b[39;49m\u001b[38;5;124;43m\"\u001b[39;49m\u001b[43m]\u001b[49m\u001b[43m)\u001b[49m\n",
      "File \u001b[0;32m~/work/phenology/.venv/lib/python3.9/site-packages/torch/nn/modules/module.py:1482\u001b[0m, in \u001b[0;36mModule.load_state_dict\u001b[0;34m(self, state_dict, strict)\u001b[0m\n\u001b[1;32m   1477\u001b[0m         error_msgs\u001b[38;5;241m.\u001b[39minsert(\n\u001b[1;32m   1478\u001b[0m             \u001b[38;5;241m0\u001b[39m, \u001b[38;5;124m'\u001b[39m\u001b[38;5;124mMissing key(s) in state_dict: \u001b[39m\u001b[38;5;132;01m{}\u001b[39;00m\u001b[38;5;124m. \u001b[39m\u001b[38;5;124m'\u001b[39m\u001b[38;5;241m.\u001b[39mformat(\n\u001b[1;32m   1479\u001b[0m                 \u001b[38;5;124m'\u001b[39m\u001b[38;5;124m, \u001b[39m\u001b[38;5;124m'\u001b[39m\u001b[38;5;241m.\u001b[39mjoin(\u001b[38;5;124m'\u001b[39m\u001b[38;5;124m\"\u001b[39m\u001b[38;5;132;01m{}\u001b[39;00m\u001b[38;5;124m\"\u001b[39m\u001b[38;5;124m'\u001b[39m\u001b[38;5;241m.\u001b[39mformat(k) \u001b[38;5;28;01mfor\u001b[39;00m k \u001b[38;5;129;01min\u001b[39;00m missing_keys)))\n\u001b[1;32m   1481\u001b[0m \u001b[38;5;28;01mif\u001b[39;00m \u001b[38;5;28mlen\u001b[39m(error_msgs) \u001b[38;5;241m>\u001b[39m \u001b[38;5;241m0\u001b[39m:\n\u001b[0;32m-> 1482\u001b[0m     \u001b[38;5;28;01mraise\u001b[39;00m \u001b[38;5;167;01mRuntimeError\u001b[39;00m(\u001b[38;5;124m'\u001b[39m\u001b[38;5;124mError(s) in loading state_dict for \u001b[39m\u001b[38;5;132;01m{}\u001b[39;00m\u001b[38;5;124m:\u001b[39m\u001b[38;5;130;01m\\n\u001b[39;00m\u001b[38;5;130;01m\\t\u001b[39;00m\u001b[38;5;132;01m{}\u001b[39;00m\u001b[38;5;124m'\u001b[39m\u001b[38;5;241m.\u001b[39mformat(\n\u001b[1;32m   1483\u001b[0m                        \u001b[38;5;28mself\u001b[39m\u001b[38;5;241m.\u001b[39m\u001b[38;5;18m__class__\u001b[39m\u001b[38;5;241m.\u001b[39m\u001b[38;5;18m__name__\u001b[39m, \u001b[38;5;124m\"\u001b[39m\u001b[38;5;130;01m\\n\u001b[39;00m\u001b[38;5;130;01m\\t\u001b[39;00m\u001b[38;5;124m\"\u001b[39m\u001b[38;5;241m.\u001b[39mjoin(error_msgs)))\n\u001b[1;32m   1484\u001b[0m \u001b[38;5;28;01mreturn\u001b[39;00m _IncompatibleKeys(missing_keys, unexpected_keys)\n",
      "\u001b[0;31mRuntimeError\u001b[0m: Error(s) in loading state_dict for HerbariumModel:\n\tsize mismatch for head.model.1.weight: copying a param with shape torch.Size([344, 1378]) from checkpoint, the shape in current model is torch.Size([348, 1394]).\n\tsize mismatch for head.model.1.bias: copying a param with shape torch.Size([344]) from checkpoint, the shape in current model is torch.Size([348]).\n\tsize mismatch for head.model.3.weight: copying a param with shape torch.Size([344]) from checkpoint, the shape in current model is torch.Size([348]).\n\tsize mismatch for head.model.3.bias: copying a param with shape torch.Size([344]) from checkpoint, the shape in current model is torch.Size([348]).\n\tsize mismatch for head.model.3.running_mean: copying a param with shape torch.Size([344]) from checkpoint, the shape in current model is torch.Size([348]).\n\tsize mismatch for head.model.3.running_var: copying a param with shape torch.Size([344]) from checkpoint, the shape in current model is torch.Size([348]).\n\tsize mismatch for head.model.5.weight: copying a param with shape torch.Size([172, 344]) from checkpoint, the shape in current model is torch.Size([174, 348]).\n\tsize mismatch for head.model.5.bias: copying a param with shape torch.Size([172]) from checkpoint, the shape in current model is torch.Size([174]).\n\tsize mismatch for head.model.7.weight: copying a param with shape torch.Size([172]) from checkpoint, the shape in current model is torch.Size([174]).\n\tsize mismatch for head.model.7.bias: copying a param with shape torch.Size([172]) from checkpoint, the shape in current model is torch.Size([174]).\n\tsize mismatch for head.model.7.running_mean: copying a param with shape torch.Size([172]) from checkpoint, the shape in current model is torch.Size([174]).\n\tsize mismatch for head.model.7.running_var: copying a param with shape torch.Size([172]) from checkpoint, the shape in current model is torch.Size([174]).\n\tsize mismatch for head.model.9.weight: copying a param with shape torch.Size([86, 172]) from checkpoint, the shape in current model is torch.Size([87, 174]).\n\tsize mismatch for head.model.9.bias: copying a param with shape torch.Size([86]) from checkpoint, the shape in current model is torch.Size([87]).\n\tsize mismatch for head.model.11.weight: copying a param with shape torch.Size([86]) from checkpoint, the shape in current model is torch.Size([87]).\n\tsize mismatch for head.model.11.bias: copying a param with shape torch.Size([86]) from checkpoint, the shape in current model is torch.Size([87]).\n\tsize mismatch for head.model.11.running_mean: copying a param with shape torch.Size([86]) from checkpoint, the shape in current model is torch.Size([87]).\n\tsize mismatch for head.model.11.running_var: copying a param with shape torch.Size([86]) from checkpoint, the shape in current model is torch.Size([87]).\n\tsize mismatch for head.model.12.weight: copying a param with shape torch.Size([1, 86]) from checkpoint, the shape in current model is torch.Size([1, 87])."
     ]
    }
   ],
   "source": [
    "orders = db.select_all_orders(Args.database)\n",
    "\n",
    "model = HerbariumModel(orders, Args.backbone, Args.load_model)\n",
    "\n",
    "runner = HerbariumInferenceRunner(model, orders, Args)"
   ]
  },
  {
   "cell_type": "code",
   "execution_count": null,
   "id": "294962d6",
   "metadata": {},
   "outputs": [],
   "source": [
    "runner.run()"
   ]
  },
  {
   "cell_type": "code",
   "execution_count": 10,
   "id": "aa2b3545",
   "metadata": {},
   "outputs": [
    {
     "data": {
      "text/plain": [
       "1394"
      ]
     },
     "execution_count": 10,
     "metadata": {},
     "output_type": "execute_result"
    }
   ],
   "source": [
    "1280 + 114"
   ]
  },
  {
   "cell_type": "code",
   "execution_count": null,
   "id": "a1b4c4f7",
   "metadata": {},
   "outputs": [],
   "source": []
  }
 ],
 "metadata": {
  "kernelspec": {
   "display_name": "Python 3 (ipykernel)",
   "language": "python",
   "name": "python3"
  },
  "language_info": {
   "codemirror_mode": {
    "name": "ipython",
    "version": 3
   },
   "file_extension": ".py",
   "mimetype": "text/x-python",
   "name": "python",
   "nbconvert_exporter": "python",
   "pygments_lexer": "ipython3",
   "version": "3.9.7"
  }
 },
 "nbformat": 4,
 "nbformat_minor": 5
}
