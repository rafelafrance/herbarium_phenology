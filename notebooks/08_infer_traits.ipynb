{
 "cells": [
  {
   "cell_type": "code",
   "execution_count": 1,
   "id": "a3fc2492",
   "metadata": {},
   "outputs": [],
   "source": [
    "import sys\n",
    "\n",
    "sys.path.append('..')"
   ]
  },
  {
   "cell_type": "code",
   "execution_count": 2,
   "id": "0a43a19b",
   "metadata": {},
   "outputs": [],
   "source": [
    "import sqlite3\n",
    "from dataclasses import dataclass, field\n",
    "from pathlib import Path\n",
    "from pprint import pp\n",
    "\n",
    "from herbarium.pylib import db\n",
    "from herbarium.pylib.herbarium_model import HerbariumModel\n",
    "from herbarium.pylib.herbarium_runner import HerbariumInferenceRunner"
   ]
  },
  {
   "cell_type": "code",
   "execution_count": 3,
   "id": "17bc0115",
   "metadata": {},
   "outputs": [],
   "source": [
    "DATA = Path('..') / 'data'\n",
    "MODELS = DATA / 'models'\n",
    "IMAGES = DATA / 'images'\n",
    "\n",
    "DB = DATA / 'angiosperms.sqlite'"
   ]
  },
  {
   "cell_type": "code",
   "execution_count": 4,
   "id": "ad8f1cfa",
   "metadata": {},
   "outputs": [],
   "source": [
    "db.create_inferences_table(DB)"
   ]
  },
  {
   "cell_type": "code",
   "execution_count": 5,
   "id": "a72e40d0",
   "metadata": {},
   "outputs": [],
   "source": [
    "backbone = 'b0'\n",
    "\n",
    "trait = 'fruiting'\n",
    "# trait = 'flowering'\n",
    "\n",
    "split_set = 'fruits_all_orders'\n",
    "# split_set = 'flowers_all_orders'\n",
    "\n",
    "k = 2\n",
    "\n",
    "load_model = MODELS / trait / f'{backbone}_{split_set}_{k}.pt'\n",
    "\n",
    "\n",
    "class Args:\n",
    "    database = DB\n",
    "    backbone = backbone\n",
    "    load_model = load_model\n",
    "    inference_set = load_model.stem\n",
    "    trait = trait\n",
    "    batch_size = 64\n",
    "    workers = 8\n",
    "    limit = 0"
   ]
  },
  {
   "cell_type": "code",
   "execution_count": 6,
   "id": "91dd4d82",
   "metadata": {},
   "outputs": [],
   "source": [
    "orders = db.select_all_orders(Args.database)\n",
    "\n",
    "model = HerbariumModel(orders, Args.backbone, Args.load_model)\n",
    "\n",
    "runner = HerbariumInferenceRunner(model, orders, Args)"
   ]
  },
  {
   "cell_type": "code",
   "execution_count": 7,
   "id": "294962d6",
   "metadata": {},
   "outputs": [
    {
     "name": "stderr",
     "output_type": "stream",
     "text": [
      "2022-01-26 12:17:05 INFO: ================================================================================\n",
      "2022-01-26 12:17:05 INFO: ipykernel_launcher started\n",
      "100%|███████████████████████████████████████████████████████████████████████████████████████████████████████████████████████████████████████████████████████████| 585/585 [44:36<00:00,  4.58s/it]\n",
      "2022-01-26 13:01:42 INFO: ipykernel_launcher finished\n"
     ]
    }
   ],
   "source": [
    "runner.run()"
   ]
  },
  {
   "cell_type": "code",
   "execution_count": null,
   "id": "a1b4c4f7",
   "metadata": {},
   "outputs": [],
   "source": []
  }
 ],
 "metadata": {
  "kernelspec": {
   "display_name": "Python 3 (ipykernel)",
   "language": "python",
   "name": "python3"
  },
  "language_info": {
   "codemirror_mode": {
    "name": "ipython",
    "version": 3
   },
   "file_extension": ".py",
   "mimetype": "text/x-python",
   "name": "python",
   "nbconvert_exporter": "python",
   "pygments_lexer": "ipython3",
   "version": "3.9.7"
  }
 },
 "nbformat": 4,
 "nbformat_minor": 5
}
