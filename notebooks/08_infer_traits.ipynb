{
 "cells": [
  {
   "cell_type": "code",
   "execution_count": 1,
   "id": "a3fc2492",
   "metadata": {},
   "outputs": [],
   "source": [
    "import sys\n",
    "\n",
    "sys.path.append('..')"
   ]
  },
  {
   "cell_type": "code",
   "execution_count": 5,
   "id": "0a43a19b",
   "metadata": {},
   "outputs": [],
   "source": [
    "import sqlite3\n",
    "from dataclasses import dataclass, field\n",
    "from pathlib import Path\n",
    "from pprint import pp\n",
    "\n",
    "from herbarium.pylib import db"
   ]
  },
  {
   "cell_type": "code",
   "execution_count": 4,
   "id": "17bc0115",
   "metadata": {},
   "outputs": [],
   "source": [
    "DATA = Path('..') / 'data'\n",
    "MODELS = DATA / 'models'\n",
    "IMAGES = DATA / 'images'\n",
    "\n",
    "DB = DATA / 'angiosperms.sqlite'"
   ]
  },
  {
   "cell_type": "code",
   "execution_count": 6,
   "id": "f5c9c3ce",
   "metadata": {},
   "outputs": [],
   "source": [
    "images = db.select_images(DB)"
   ]
  },
  {
   "cell_type": "code",
   "execution_count": 8,
   "id": "a72e40d0",
   "metadata": {},
   "outputs": [],
   "source": [
    "batch = [(p['path'].replace('/all', ''), p['path']) for p in images]"
   ]
  },
  {
   "cell_type": "code",
   "execution_count": 9,
   "id": "91dd4d82",
   "metadata": {},
   "outputs": [],
   "source": [
    "sql = \"\"\"update images set path = ? where path = ?;\"\"\"\n",
    "with sqlite3.connect(DB) as cxn:\n",
    "    cxn.executemany(sql, batch)"
   ]
  },
  {
   "cell_type": "code",
   "execution_count": null,
   "id": "294962d6",
   "metadata": {},
   "outputs": [],
   "source": []
  }
 ],
 "metadata": {
  "kernelspec": {
   "display_name": "Python 3 (ipykernel)",
   "language": "python",
   "name": "python3"
  },
  "language_info": {
   "codemirror_mode": {
    "name": "ipython",
    "version": 3
   },
   "file_extension": ".py",
   "mimetype": "text/x-python",
   "name": "python",
   "nbconvert_exporter": "python",
   "pygments_lexer": "ipython3",
   "version": "3.9.7"
  }
 },
 "nbformat": 4,
 "nbformat_minor": 5
}
